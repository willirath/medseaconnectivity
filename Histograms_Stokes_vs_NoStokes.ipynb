{
 "cells": [
  {
   "cell_type": "code",
   "execution_count": 1,
   "metadata": {},
   "outputs": [],
   "source": [
    "%matplotlib inline\n",
    "from dask import array as da\n",
    "import numpy as np\n",
    "import xarray as xr\n",
    "from gcsfs.mapping import GCSMap\n",
    "from xhistogram.xarray import histogram as xhist\n",
    "from matplotlib import pyplot as plt\n",
    "import pandas as pd\n",
    "from dask import delayed"
   ]
  },
  {
   "cell_type": "code",
   "execution_count": 2,
   "metadata": {},
   "outputs": [],
   "source": [
    "# parameters\n",
    "dataset_version = \"v2019.09.11.2\"\n",
    "bucket_stokes = f\"pangeo-parcels/med_sea_connectivity_{dataset_version}/traj_data_with_stokes.zarr\"\n",
    "bucket_nostokes = f\"pangeo-parcels/med_sea_connectivity_{dataset_version}/traj_data_without_stokes.zarr\"\n",
    "thinning_data_factor = 0.1  # randomly thinning trajectories to 10%"
   ]
  },
  {
   "cell_type": "code",
   "execution_count": 3,
   "metadata": {},
   "outputs": [
    {
     "data": {
      "application/vnd.jupyter.widget-view+json": {
       "model_id": "f1a4de7b4ff14ced918c0d810dc0f453",
       "version_major": 2,
       "version_minor": 0
      },
      "text/plain": [
       "VBox(children=(HTML(value='<h2>KubeCluster</h2>'), HBox(children=(HTML(value='\\n<div>\\n  <style scoped>\\n    .…"
      ]
     },
     "metadata": {},
     "output_type": "display_data"
    }
   ],
   "source": [
    "from dask.distributed import Client, progress\n",
    "\n",
    "from dask_kubernetes import KubeCluster\n",
    "cluster = KubeCluster(n_workers=8)\n",
    "cluster.adapt(minimum=8, maximum=40, wait_count=15)\n",
    "cluster"
   ]
  },
  {
   "cell_type": "markdown",
   "metadata": {},
   "source": [
    "** ☝️ Don't forget to click the link above to view the scheduler dashboard! **"
   ]
  },
  {
   "cell_type": "code",
   "execution_count": 4,
   "metadata": {},
   "outputs": [
    {
     "data": {
      "text/html": [
       "<table style=\"border: 2px solid white;\">\n",
       "<tr>\n",
       "<td style=\"vertical-align: top; border: 0px solid white\">\n",
       "<h3 style=\"text-align: left;\">Client</h3>\n",
       "<ul style=\"text-align: left; list-style: none; margin: 0; padding: 0;\">\n",
       "  <li><b>Scheduler: </b>tcp://10.32.60.28:44999</li>\n",
       "  <li><b>Dashboard: </b><a href='/user/0000-0003-1951-8494/proxy/8787/status' target='_blank'>/user/0000-0003-1951-8494/proxy/8787/status</a>\n",
       "</ul>\n",
       "</td>\n",
       "<td style=\"vertical-align: top; border: 0px solid white\">\n",
       "<h3 style=\"text-align: left;\">Cluster</h3>\n",
       "<ul style=\"text-align: left; list-style:none; margin: 0; padding: 0;\">\n",
       "  <li><b>Workers: </b>0</li>\n",
       "  <li><b>Cores: </b>0</li>\n",
       "  <li><b>Memory: </b>0 B</li>\n",
       "</ul>\n",
       "</td>\n",
       "</tr>\n",
       "</table>"
      ],
      "text/plain": [
       "<Client: scheduler='tcp://10.32.60.28:44999' processes=0 cores=0>"
      ]
     },
     "execution_count": 4,
     "metadata": {},
     "output_type": "execute_result"
    }
   ],
   "source": [
    "client = Client(cluster)\n",
    "client"
   ]
  },
  {
   "cell_type": "code",
   "execution_count": null,
   "metadata": {},
   "outputs": [],
   "source": [
    "def open_dataset(bucket, restrict_to_MPA=None, restrict_to_z=None):\n",
    "    # load data\n",
    "    gcsmap = GCSMap(bucket)\n",
    "    ds = xr.open_zarr(gcsmap, decode_cf=False)\n",
    "    \n",
    "    # get info on starting region and make it an easy-to-look-up coord\n",
    "    initial_MPA = ds.MPA.isel(obs=0).squeeze()\n",
    "    ds.coords[\"initial_MPA\"] = initial_MPA\n",
    "    \n",
    "    # make (non-changing) depth level an easy to look up coord\n",
    "    z = ds.z.isel(obs=0).squeeze()\n",
    "    ds[\"z\"] = z\n",
    "    ds.coords[\"z\"] = ds.z\n",
    "    \n",
    "    # mask after land contact\n",
    "    before_land_contact = ((ds.land == 0).cumprod(\"obs\") == 1)\n",
    "    ds = ds.where(before_land_contact)\n",
    "    \n",
    "    # add relative time\n",
    "    ds[\"time_since_start\"] = (ds.time - ds.time.isel(obs=0)) / 1e9\n",
    "    \n",
    "    return ds"
   ]
  },
  {
   "cell_type": "code",
   "execution_count": null,
   "metadata": {},
   "outputs": [],
   "source": [
    "ds_stokes = open_dataset(bucket_stokes)\n",
    "ds_nostokes = open_dataset(bucket_nostokes)"
   ]
  },
  {
   "cell_type": "code",
   "execution_count": null,
   "metadata": {},
   "outputs": [],
   "source": [
    "import cloudpickle"
   ]
  },
  {
   "cell_type": "code",
   "execution_count": null,
   "metadata": {},
   "outputs": [],
   "source": [
    "with open(\"ds\", \"wb\") as f:\n",
    "        cloudpickle.dump(ds_stokes,  f) "
   ]
  },
  {
   "cell_type": "code",
   "execution_count": null,
   "metadata": {},
   "outputs": [],
   "source": [
    "def persist_z_MPA(ds):\n",
    "    ds[\"z\"] = ds[\"z\"].persist(retries=40)\n",
    "    ds[\"initial_MPA\"] = ds[\"initial_MPA\"].persist(retries=40)\n",
    "    return ds"
   ]
  },
  {
   "cell_type": "code",
   "execution_count": null,
   "metadata": {},
   "outputs": [],
   "source": [
    "ds_stokes = persist_z_MPA(ds_stokes)\n",
    "ds_nostokes = persist_z_MPA(ds_nostokes)"
   ]
  },
  {
   "cell_type": "code",
   "execution_count": null,
   "metadata": {},
   "outputs": [],
   "source": [
    "def get_z_values(ds):\n",
    "    z_values = da.unique(ds.z.data).compute(retries=40)\n",
    "    z_values = z_values[~np.isnan(z_values)]\n",
    "    return z_values"
   ]
  },
  {
   "cell_type": "code",
   "execution_count": null,
   "metadata": {},
   "outputs": [],
   "source": [
    "z_values = get_z_values(ds_nostokes)"
   ]
  },
  {
   "cell_type": "code",
   "execution_count": null,
   "metadata": {},
   "outputs": [],
   "source": [
    "@delayed\n",
    "def restrict_to(ds, MPA=None, z=None):\n",
    "    traj_indices = xr.full_like(ds.initial_MPA, True, dtype=\"bool\")\n",
    "    \n",
    "    if MPA is not None:\n",
    "        traj_indices = traj_indices & (ds.initial_MPA == MPA)\n",
    "    \n",
    "    if z is not None:\n",
    "        traj_indices = traj_indices & (ds.z == z)\n",
    "        \n",
    "    ds = ds.isel(traj=traj_indices)\n",
    "    \n",
    "    return ds"
   ]
  },
  {
   "cell_type": "code",
   "execution_count": null,
   "metadata": {},
   "outputs": [],
   "source": [
    "from collections import OrderedDict"
   ]
  },
  {
   "cell_type": "code",
   "execution_count": null,
   "metadata": {},
   "outputs": [],
   "source": [
    "data = pd.DataFrame(\n",
    "    (\n",
    "        OrderedDict(\n",
    "            {\n",
    "                \"stokes\": True, \"MPA\": MPA, \"k\": k,\n",
    "                \"data\": restrict_to(ds_stokes, MPA, z=z_values[k])\n",
    "            }\n",
    "        )\n",
    "        for MPA in range(1, 10)\n",
    "        for k in range(1)\n",
    "    )\n",
    ")\n",
    "data = data.append(\n",
    "    pd.DataFrame(\n",
    "        (\n",
    "            OrderedDict(\n",
    "                {\n",
    "                    \"stokes\": False, \"MPA\": MPA, \"k\": k,\n",
    "                    \"data\": restrict_to(ds_nostokes, MPA, z=z_values[k])\n",
    "                }\n",
    "            )\n",
    "            for MPA in range(1, 10)\n",
    "            for k in range(len(z_values))\n",
    "        )\n",
    "    ),\n",
    "    ignore_index=True\n",
    ")"
   ]
  },
  {
   "cell_type": "code",
   "execution_count": null,
   "metadata": {},
   "outputs": [],
   "source": [
    "def get_thinned_data(ds, factor=0.5, seed=None):\n",
    "    if seed is not None:\n",
    "        np.random.seed(seed)\n",
    "    traj_indices = (np.random.uniform(0, 1, size=ds.z.shape) < factor)\n",
    "    ds = ds.isel(traj=traj_indices)\n",
    "    return ds"
   ]
  },
  {
   "cell_type": "code",
   "execution_count": null,
   "metadata": {},
   "outputs": [],
   "source": [
    "def get_var(ds, varname):\n",
    "    return ds[varname]"
   ]
  },
  {
   "cell_type": "code",
   "execution_count": null,
   "metadata": {},
   "outputs": [],
   "source": [
    "data"
   ]
  },
  {
   "cell_type": "code",
   "execution_count": null,
   "metadata": {},
   "outputs": [],
   "source": [
    "_dist = get_var(get_thinned_data(data[\"data\"][53], factor=0.001, seed=1), \"distance\")"
   ]
  },
  {
   "cell_type": "code",
   "execution_count": null,
   "metadata": {},
   "outputs": [],
   "source": [
    "import cloudpickle"
   ]
  },
  {
   "cell_type": "code",
   "execution_count": null,
   "metadata": {},
   "outputs": [],
   "source": [
    "dist = _dist.result().compute(retries=40)"
   ]
  },
  {
   "cell_type": "code",
   "execution_count": null,
   "metadata": {},
   "outputs": [],
   "source": []
  }
 ],
 "metadata": {
  "kernelspec": {
   "display_name": "Python 3",
   "language": "python",
   "name": "python3"
  },
  "language_info": {
   "codemirror_mode": {
    "name": "ipython",
    "version": 3
   },
   "file_extension": ".py",
   "mimetype": "text/x-python",
   "name": "python",
   "nbconvert_exporter": "python",
   "pygments_lexer": "ipython3",
   "version": "3.7.3"
  }
 },
 "nbformat": 4,
 "nbformat_minor": 4
}

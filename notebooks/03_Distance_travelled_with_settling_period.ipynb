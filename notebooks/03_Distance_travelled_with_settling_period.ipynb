{
 "cells": [
  {
   "cell_type": "code",
   "execution_count": 1,
   "metadata": {},
   "outputs": [],
   "source": [
    "# Workaround to ensure lazy evaluation of xhistorams\n",
    "# see https://github.com/xgcm/xhistogram/issues/12\n",
    "\n",
    "import os\n",
    "os.environ[\"NUMPY_EXPERIMENTAL_ARRAY_FUNCTION\"] = \"0\""
   ]
  },
  {
   "cell_type": "markdown",
   "metadata": {},
   "source": [
    "# Prepare data\n",
    "\n",
    "All trajectories are stored in a Google Cloud Storage bucket. We want to be able to load and filter all trajectories easily.  To this end, we load all the datasets (lazily), filter them to different parameters (starting MPA, depth, stokes drift), and store a Pandas dataframe with virtual sub-datasets for each combination of the parameters.  This Pandas dataframe will be pickled for later re-use."
   ]
  },
  {
   "cell_type": "code",
   "execution_count": 2,
   "metadata": {},
   "outputs": [],
   "source": [
    "# parameters\n",
    "dataset_version = \"v2019.09.11.2\"\n",
    "bucket_stokes = f\"pangeo-parcels/med_sea_connectivity_{dataset_version}/traj_data_with_stokes.zarr\"\n",
    "bucket_nostokes = f\"pangeo-parcels/med_sea_connectivity_{dataset_version}/traj_data_without_stokes.zarr\"\n",
    "\n",
    "species = {\n",
    "    \"Striped red mullet\": {\n",
    "        \"settling_start_days\": 25,\n",
    "        \"settling_end_days\": 35\n",
    "    },\n",
    "    \"White seabream\": {\n",
    "        \"settling_start_days\": 26,\n",
    "        \"settling_end_days\": 30\n",
    "    },\n",
    "    \"Comber\": {\n",
    "        \"settling_start_days\": 21,\n",
    "        \"settling_end_days\": 28\n",
    "    }\n",
    "}\n",
    "\n",
    "filter_warnings = \"ignore\"  # No warnings will bother you.  Change for debugging."
   ]
  },
  {
   "cell_type": "code",
   "execution_count": 3,
   "metadata": {},
   "outputs": [],
   "source": [
    "import warnings\n",
    "warnings.filterwarnings(filter_warnings)"
   ]
  },
  {
   "cell_type": "markdown",
   "metadata": {},
   "source": [
    "## Load all modules and spin up a Dask cluster"
   ]
  },
  {
   "cell_type": "code",
   "execution_count": 4,
   "metadata": {},
   "outputs": [],
   "source": [
    "%matplotlib inline\n",
    "from dask import array as da\n",
    "import numpy as np\n",
    "import xarray as xr\n",
    "from gcsfs.mapping import GCSMap\n",
    "from xhistogram.xarray import histogram as xhist\n",
    "from matplotlib import pyplot as plt\n",
    "import pandas as pd\n",
    "from dask import delayed"
   ]
  },
  {
   "cell_type": "code",
   "execution_count": 5,
   "metadata": {},
   "outputs": [
    {
     "data": {
      "text/html": [
       "<table style=\"border: 2px solid white;\">\n",
       "<tr>\n",
       "<td style=\"vertical-align: top; border: 0px solid white\">\n",
       "<h3 style=\"text-align: left;\">Client</h3>\n",
       "<ul style=\"text-align: left; list-style: none; margin: 0; padding: 0;\">\n",
       "  <li><b>Scheduler: </b>tcp://10.32.60.5:41897</li>\n",
       "  <li><b>Dashboard: </b><a href='/user/0000-0003-1951-8494/proxy/8787/status' target='_blank'>/user/0000-0003-1951-8494/proxy/8787/status</a>\n",
       "</ul>\n",
       "</td>\n",
       "<td style=\"vertical-align: top; border: 0px solid white\">\n",
       "<h3 style=\"text-align: left;\">Cluster</h3>\n",
       "<ul style=\"text-align: left; list-style:none; margin: 0; padding: 0;\">\n",
       "  <li><b>Workers: </b>0</li>\n",
       "  <li><b>Cores: </b>0</li>\n",
       "  <li><b>Memory: </b>0 B</li>\n",
       "</ul>\n",
       "</td>\n",
       "</tr>\n",
       "</table>"
      ],
      "text/plain": [
       "<Client: scheduler='tcp://10.32.60.5:41897' processes=0 cores=0>"
      ]
     },
     "execution_count": 5,
     "metadata": {},
     "output_type": "execute_result"
    }
   ],
   "source": [
    "from dask.distributed import Client, progress\n",
    "\n",
    "from dask_kubernetes import KubeCluster\n",
    "cluster = KubeCluster(n_workers=10)\n",
    "cluster.adapt(minimum=10, maximum=150, wait_count=15)\n",
    "\n",
    "client = Client(cluster)\n",
    "client"
   ]
  },
  {
   "cell_type": "markdown",
   "metadata": {},
   "source": [
    "** ☝️ Don't forget to click the link above to view the scheduler dashboard! **"
   ]
  },
  {
   "cell_type": "markdown",
   "metadata": {},
   "source": [
    "## Open datasets"
   ]
  },
  {
   "cell_type": "code",
   "execution_count": 6,
   "metadata": {},
   "outputs": [],
   "source": [
    "def open_dataset(bucket, restrict_to_MPA=None, restrict_to_z=None):\n",
    "    # load data\n",
    "    gcsmap = GCSMap(bucket)\n",
    "    ds = xr.open_zarr(gcsmap, decode_cf=False)\n",
    "    \n",
    "    # get info on starting region and make it an easy-to-look-up coord\n",
    "    initial_MPA = ds.MPA.isel(obs=0).squeeze()\n",
    "    ds.coords[\"initial_MPA\"] = initial_MPA\n",
    "     \n",
    "    # add mask that is False after land contact\n",
    "    ds[\"before_land_contact\"] = ((ds.land == 0).cumprod(\"obs\") == 1)\n",
    "      \n",
    "    return ds"
   ]
  },
  {
   "cell_type": "code",
   "execution_count": 7,
   "metadata": {},
   "outputs": [],
   "source": [
    "ds_stokes = open_dataset(bucket_stokes)\n",
    "ds_nostokes = open_dataset(bucket_nostokes)"
   ]
  },
  {
   "cell_type": "markdown",
   "metadata": {},
   "source": [
    "## Simplify\n",
    "\n",
    "We know a few things about our data that make it easier to deal with them:\n",
    "\n",
    "- No vertical migration.  Hence, initial depth of a particle is valid for all times.\n",
    "\n",
    "- All time steps are the same. Hence, we can easily build a relative time axis that is valid for all particles."
   ]
  },
  {
   "cell_type": "code",
   "execution_count": 8,
   "metadata": {},
   "outputs": [],
   "source": [
    "def apply_assumptions(ds):\n",
    "    \"\"\"Applies simplifications to the dataset that are valid for the \n",
    "    specific set of experiments we're dealing with here.\n",
    "    \n",
    "    Be careful when applying these to new experiments, because\n",
    "    they might not apply.\n",
    "    \"\"\"\n",
    "    # We assume no vertical migration and hence\n",
    "    # make (non-changing) depth level an easy to look up coord\n",
    "    z = ds.z.isel(obs=0).squeeze()\n",
    "    ds[\"z\"] = z\n",
    "    ds.coords[\"z\"] = ds.z\n",
    "    \n",
    "    # We assume that all time steps are equal\n",
    "    # and that the time axis is measured in seconds\n",
    "    # since some reference period\n",
    "    time_axis = ds.reset_coords([\"z\", \"initial_MPA\"]).time.isel(traj=0).squeeze()\n",
    "    time_axis -= time_axis.isel(obs=0).squeeze()\n",
    "    time_axis.attrs[\"units\"] = \"seconds since start of particle\"\n",
    "    ds.coords[\"time_axis\"] = time_axis\n",
    "    \n",
    "    return ds"
   ]
  },
  {
   "cell_type": "code",
   "execution_count": 9,
   "metadata": {},
   "outputs": [],
   "source": [
    "ds_stokes = apply_assumptions(ds_stokes)\n",
    "ds_nostokes = apply_assumptions(ds_nostokes)"
   ]
  },
  {
   "cell_type": "markdown",
   "metadata": {},
   "source": [
    "## Handle land contact"
   ]
  },
  {
   "cell_type": "code",
   "execution_count": 10,
   "metadata": {},
   "outputs": [],
   "source": [
    "def mask_after_land_contact(ds):\n",
    "    return ds.where(ds.before_land_contact)"
   ]
  },
  {
   "cell_type": "code",
   "execution_count": 11,
   "metadata": {},
   "outputs": [],
   "source": [
    "ds_stokes_no_land_contact = mask_after_land_contact(ds_stokes)\n",
    "ds_nostokes_no_land_contact = mask_after_land_contact(ds_nostokes)"
   ]
  },
  {
   "cell_type": "markdown",
   "metadata": {},
   "source": [
    "## Load coordinates for quicker access\n",
    "\n",
    "So far, we did only the bare minimum of information (data types, variable names, number of time steps, ...) but did not load any of the data.  We want to continue to do so for the bulk of the data, but get coordinates and the like now."
   ]
  },
  {
   "cell_type": "code",
   "execution_count": 12,
   "metadata": {},
   "outputs": [],
   "source": [
    "def persist_coords(ds, retries=40):\n",
    "    \"\"\"Will load coordinate data to the cluster.\"\"\"\n",
    "    ds[\"z\"] = ds[\"z\"].persist(retries=retries)\n",
    "    ds[\"initial_MPA\"] = ds[\"initial_MPA\"].persist(retries=retries)\n",
    "    ds[\"time_axis\"] = ds[\"time_axis\"].persist(retries=retries)\n",
    "    return ds"
   ]
  },
  {
   "cell_type": "code",
   "execution_count": 13,
   "metadata": {},
   "outputs": [],
   "source": [
    "def compute_coords(ds, retries=40):\n",
    "    \"\"\"Will load coordinate data to the front end.\"\"\"\n",
    "    ds[\"z\"] = ds[\"z\"].compute(retries=retries)\n",
    "    ds[\"initial_MPA\"] = ds[\"initial_MPA\"].compute(retries=retries)\n",
    "    ds[\"time_axis\"] = ds[\"time_axis\"].compute(retries=retries)\n",
    "    return ds"
   ]
  },
  {
   "cell_type": "code",
   "execution_count": 14,
   "metadata": {},
   "outputs": [],
   "source": [
    "ds_stokes = persist_coords(ds_stokes)\n",
    "ds_nostokes = persist_coords(ds_nostokes)"
   ]
  },
  {
   "cell_type": "code",
   "execution_count": 15,
   "metadata": {},
   "outputs": [],
   "source": [
    "ds_stokes = compute_coords(ds_stokes)\n",
    "ds_nostokes = compute_coords(ds_nostokes)"
   ]
  },
  {
   "cell_type": "code",
   "execution_count": 16,
   "metadata": {},
   "outputs": [],
   "source": [
    "ds_stokes_no_land_contact = compute_coords(ds_stokes_no_land_contact)\n",
    "ds_nostokes_no_land_contact = compute_coords(ds_nostokes_no_land_contact)"
   ]
  },
  {
   "cell_type": "code",
   "execution_count": 17,
   "metadata": {},
   "outputs": [
    {
     "data": {
      "text/plain": [
       "<xarray.Dataset>\n",
       "Dimensions:              (obs: 962, traj: 2625480)\n",
       "Coordinates:\n",
       "    z                    (traj) float32 1.0182366 1.0182366 ... 1.0182366\n",
       "    initial_MPA          (traj) float32 1.0 1.0 1.0 1.0 1.0 ... 9.0 9.0 9.0 9.0\n",
       "    time_axis            (obs) float64 nan nan nan nan nan ... nan nan nan nan\n",
       "Dimensions without coordinates: obs, traj\n",
       "Data variables:\n",
       "    MPA                  (traj, obs) float32 dask.array<shape=(2625480, 962), chunksize=(100000, 962)>\n",
       "    distance             (traj, obs) float32 dask.array<shape=(2625480, 962), chunksize=(100000, 962)>\n",
       "    land                 (traj, obs) float32 dask.array<shape=(2625480, 962), chunksize=(100000, 962)>\n",
       "    lat                  (traj, obs) float32 dask.array<shape=(2625480, 962), chunksize=(100000, 962)>\n",
       "    lon                  (traj, obs) float32 dask.array<shape=(2625480, 962), chunksize=(100000, 962)>\n",
       "    temp                 (traj, obs) float32 dask.array<shape=(2625480, 962), chunksize=(100000, 962)>\n",
       "    time                 (traj, obs) float64 dask.array<shape=(2625480, 962), chunksize=(100000, 962)>\n",
       "    before_land_contact  (traj, obs) bool dask.array<shape=(2625480, 962), chunksize=(100000, 962)>\n",
       "Attributes:\n",
       "    Conventions:            CF-1.6/CF-1.7\n",
       "    feature_type:           trajectory\n",
       "    ncei_template_version:  NCEI_NetCDF_Trajectory_Template_v2.0\n",
       "    parcels_mesh:           spherical\n",
       "    parcels_version:        2.0.0b3.dev74+g9ee0f7f"
      ]
     },
     "execution_count": 17,
     "metadata": {},
     "output_type": "execute_result"
    }
   ],
   "source": [
    "ds_stokes"
   ]
  },
  {
   "cell_type": "code",
   "execution_count": 18,
   "metadata": {},
   "outputs": [
    {
     "data": {
      "text/plain": [
       "<xarray.Dataset>\n",
       "Dimensions:              (obs: 962, traj: 13188600)\n",
       "Coordinates:\n",
       "    z                    (traj) float32 1.0182366 1.0182366 ... 10.536604\n",
       "    initial_MPA          (traj) float32 nan nan nan nan nan ... 9.0 9.0 9.0 9.0\n",
       "    time_axis            (obs) float64 0.0 3.6e+03 ... 3.456e+06 3.456e+06\n",
       "Dimensions without coordinates: obs, traj\n",
       "Data variables:\n",
       "    MPA                  (traj, obs) float32 dask.array<shape=(13188600, 962), chunksize=(100000, 962)>\n",
       "    distance             (traj, obs) float32 dask.array<shape=(13188600, 962), chunksize=(100000, 962)>\n",
       "    land                 (traj, obs) float32 dask.array<shape=(13188600, 962), chunksize=(100000, 962)>\n",
       "    lat                  (traj, obs) float32 dask.array<shape=(13188600, 962), chunksize=(100000, 962)>\n",
       "    lon                  (traj, obs) float32 dask.array<shape=(13188600, 962), chunksize=(100000, 962)>\n",
       "    temp                 (traj, obs) float32 dask.array<shape=(13188600, 962), chunksize=(100000, 962)>\n",
       "    time                 (traj, obs) float64 dask.array<shape=(13188600, 962), chunksize=(100000, 962)>\n",
       "    before_land_contact  (traj, obs) bool dask.array<shape=(13188600, 962), chunksize=(100000, 962)>\n",
       "Attributes:\n",
       "    Conventions:            CF-1.6/CF-1.7\n",
       "    feature_type:           trajectory\n",
       "    ncei_template_version:  NCEI_NetCDF_Trajectory_Template_v2.0\n",
       "    parcels_mesh:           spherical\n",
       "    parcels_version:        2.0.0b3.dev74+g9ee0f7f"
      ]
     },
     "execution_count": 18,
     "metadata": {},
     "output_type": "execute_result"
    }
   ],
   "source": [
    "ds_nostokes"
   ]
  },
  {
   "cell_type": "code",
   "execution_count": 19,
   "metadata": {},
   "outputs": [
    {
     "data": {
      "text/plain": [
       "<xarray.Dataset>\n",
       "Dimensions:              (obs: 962, traj: 2625480)\n",
       "Coordinates:\n",
       "    z                    (traj) float32 1.0182366 1.0182366 ... 1.0182366\n",
       "    initial_MPA          (traj) float32 1.0 1.0 1.0 1.0 1.0 ... 9.0 9.0 9.0 9.0\n",
       "    time_axis            (obs) float64 0.0 3.6e+03 ... 3.456e+06 3.456e+06\n",
       "Dimensions without coordinates: obs, traj\n",
       "Data variables:\n",
       "    MPA                  (traj, obs) float32 dask.array<shape=(2625480, 962), chunksize=(100000, 962)>\n",
       "    distance             (traj, obs) float32 dask.array<shape=(2625480, 962), chunksize=(100000, 962)>\n",
       "    land                 (traj, obs) float32 dask.array<shape=(2625480, 962), chunksize=(100000, 962)>\n",
       "    lat                  (traj, obs) float32 dask.array<shape=(2625480, 962), chunksize=(100000, 962)>\n",
       "    lon                  (traj, obs) float32 dask.array<shape=(2625480, 962), chunksize=(100000, 962)>\n",
       "    temp                 (traj, obs) float32 dask.array<shape=(2625480, 962), chunksize=(100000, 962)>\n",
       "    time                 (traj, obs) float64 dask.array<shape=(2625480, 962), chunksize=(100000, 962)>\n",
       "    before_land_contact  (traj, obs) float64 dask.array<shape=(2625480, 962), chunksize=(100000, 962)>\n",
       "Attributes:\n",
       "    Conventions:            CF-1.6/CF-1.7\n",
       "    feature_type:           trajectory\n",
       "    ncei_template_version:  NCEI_NetCDF_Trajectory_Template_v2.0\n",
       "    parcels_mesh:           spherical\n",
       "    parcels_version:        2.0.0b3.dev74+g9ee0f7f"
      ]
     },
     "execution_count": 19,
     "metadata": {},
     "output_type": "execute_result"
    }
   ],
   "source": [
    "ds_stokes_no_land_contact"
   ]
  },
  {
   "cell_type": "code",
   "execution_count": 20,
   "metadata": {},
   "outputs": [
    {
     "data": {
      "text/plain": [
       "<xarray.Dataset>\n",
       "Dimensions:              (obs: 962, traj: 13188600)\n",
       "Coordinates:\n",
       "    z                    (traj) float32 1.0182366 1.0182366 ... 10.536604\n",
       "    initial_MPA          (traj) float32 1.0 1.0 1.0 1.0 1.0 ... 9.0 9.0 9.0 9.0\n",
       "    time_axis            (obs) float64 0.0 3.6e+03 ... 3.456e+06 3.456e+06\n",
       "Dimensions without coordinates: obs, traj\n",
       "Data variables:\n",
       "    MPA                  (traj, obs) float32 dask.array<shape=(13188600, 962), chunksize=(100000, 962)>\n",
       "    distance             (traj, obs) float32 dask.array<shape=(13188600, 962), chunksize=(100000, 962)>\n",
       "    land                 (traj, obs) float32 dask.array<shape=(13188600, 962), chunksize=(100000, 962)>\n",
       "    lat                  (traj, obs) float32 dask.array<shape=(13188600, 962), chunksize=(100000, 962)>\n",
       "    lon                  (traj, obs) float32 dask.array<shape=(13188600, 962), chunksize=(100000, 962)>\n",
       "    temp                 (traj, obs) float32 dask.array<shape=(13188600, 962), chunksize=(100000, 962)>\n",
       "    time                 (traj, obs) float64 dask.array<shape=(13188600, 962), chunksize=(100000, 962)>\n",
       "    before_land_contact  (traj, obs) float64 dask.array<shape=(13188600, 962), chunksize=(100000, 962)>\n",
       "Attributes:\n",
       "    Conventions:            CF-1.6/CF-1.7\n",
       "    feature_type:           trajectory\n",
       "    ncei_template_version:  NCEI_NetCDF_Trajectory_Template_v2.0\n",
       "    parcels_mesh:           spherical\n",
       "    parcels_version:        2.0.0b3.dev74+g9ee0f7f"
      ]
     },
     "execution_count": 20,
     "metadata": {},
     "output_type": "execute_result"
    }
   ],
   "source": [
    "ds_nostokes_no_land_contact"
   ]
  },
  {
   "cell_type": "code",
   "execution_count": 21,
   "metadata": {},
   "outputs": [],
   "source": [
    "def get_z_values(ds):\n",
    "    \"\"\"Load unique z-values to the front end.\n",
    "    \n",
    "    This triggers a computation across all of the z-level data.\n",
    "    \"\"\"\n",
    "    z_values = da.unique(ds.z.data).compute(retries=40)\n",
    "    z_values = z_values[~np.isnan(z_values)]\n",
    "    return z_values"
   ]
  },
  {
   "cell_type": "code",
   "execution_count": 22,
   "metadata": {},
   "outputs": [],
   "source": [
    "z_values = get_z_values(ds_nostokes)"
   ]
  },
  {
   "cell_type": "code",
   "execution_count": 23,
   "metadata": {},
   "outputs": [
    {
     "name": "stdout",
     "output_type": "stream",
     "text": [
      "[ 1.0182366  3.1657474  5.4649634  7.9203773 10.536604 ]\n"
     ]
    }
   ],
   "source": [
    "print(z_values)"
   ]
  },
  {
   "cell_type": "markdown",
   "metadata": {},
   "source": [
    "## Filter data\n",
    "\n",
    "We want to quickly select:\n",
    "- stokes drift on or off\n",
    "- MPA a trajectory started from\n",
    "- z-level"
   ]
  },
  {
   "cell_type": "code",
   "execution_count": 24,
   "metadata": {},
   "outputs": [],
   "source": [
    "def restrict_to(ds, MPA=None, z=None):\n",
    "    traj_indices = xr.full_like(ds.initial_MPA, True, dtype=\"bool\")\n",
    "    \n",
    "    if MPA is not None:\n",
    "        traj_indices = traj_indices & (ds.initial_MPA == MPA)\n",
    "    \n",
    "    if z is not None:\n",
    "        traj_indices = traj_indices & (ds.z == z)\n",
    "        \n",
    "    ds = ds.isel(traj=traj_indices)\n",
    "    \n",
    "    return ds"
   ]
  },
  {
   "cell_type": "markdown",
   "metadata": {},
   "source": [
    "## Calculate distance histograms\n",
    "\n",
    "This calculates time, depth and MPA resolved histograms of distance travelled."
   ]
  },
  {
   "cell_type": "code",
   "execution_count": 33,
   "metadata": {},
   "outputs": [],
   "source": [
    "# ToDo: This is relatively slow because restrict_to runs sequentially and\n",
    "# on the front end.  We could speed this up by submitting the individual\n",
    "# histograms to the cluster\n",
    "def get_hist(ds, dist_bins=None, num_z=1):\n",
    "    hist = xr.concat(\n",
    "        [\n",
    "            xr.concat(\n",
    "                [\n",
    "                    xhist(\n",
    "                        restrict_to(ds, MPA=MPA, z=z_values[k]).distance,\n",
    "                        bins=[dist_bins, ],\n",
    "                        dim=[\"traj\", ]\n",
    "                    )\n",
    "                    for k in range(num_z)\n",
    "                ], dim=\"k\"\n",
    "            )\n",
    "            for MPA in range(1, 10)\n",
    "        ], dim=\"MPA\"\n",
    "    )\n",
    "    hist.coords[\"MPA\"] = np.arange(1, 10)\n",
    "    return hist"
   ]
  },
  {
   "cell_type": "code",
   "execution_count": 34,
   "metadata": {},
   "outputs": [
    {
     "data": {
      "text/plain": [
       "<xarray.DataArray 'histogram_distance' (MPA: 9, k: 1, obs: 962, distance_bin: 40)>\n",
       "dask.array<shape=(9, 1, 962, 40), dtype=int64, chunksize=(1, 1, 962, 40)>\n",
       "Coordinates:\n",
       "  * distance_bin  (distance_bin) float64 15.0 45.0 75.0 ... 1.155e+03 1.185e+03\n",
       "  * MPA           (MPA) int64 1 2 3 4 5 6 7 8 9\n",
       "Dimensions without coordinates: k, obs"
      ]
     },
     "execution_count": 34,
     "metadata": {},
     "output_type": "execute_result"
    }
   ],
   "source": [
    "hist_stokes = get_hist(ds_stokes, dist_bins=np.linspace(0, 1200, 41), num_z=1)\n",
    "hist_stokes"
   ]
  },
  {
   "cell_type": "code",
   "execution_count": 35,
   "metadata": {},
   "outputs": [
    {
     "data": {
      "text/plain": [
       "<xarray.DataArray 'histogram_distance' (MPA: 9, k: 1, obs: 962, distance_bin: 40)>\n",
       "dask.array<shape=(9, 1, 962, 40), dtype=int64, chunksize=(1, 1, 962, 40)>\n",
       "Coordinates:\n",
       "  * distance_bin  (distance_bin) float64 15.0 45.0 75.0 ... 1.155e+03 1.185e+03\n",
       "  * MPA           (MPA) int64 1 2 3 4 5 6 7 8 9\n",
       "Dimensions without coordinates: k, obs"
      ]
     },
     "execution_count": 35,
     "metadata": {},
     "output_type": "execute_result"
    }
   ],
   "source": [
    "hist_stokes_no_land_contact = get_hist(ds_stokes_no_land_contact, dist_bins=np.linspace(0, 1200, 41), num_z=1)\n",
    "hist_stokes_no_land_contact"
   ]
  },
  {
   "cell_type": "code",
   "execution_count": 36,
   "metadata": {},
   "outputs": [
    {
     "data": {
      "text/plain": [
       "<xarray.DataArray 'histogram_distance' (MPA: 9, k: 5, obs: 962, distance_bin: 40)>\n",
       "dask.array<shape=(9, 5, 962, 40), dtype=int64, chunksize=(1, 1, 962, 40)>\n",
       "Coordinates:\n",
       "  * distance_bin  (distance_bin) float64 15.0 45.0 75.0 ... 1.155e+03 1.185e+03\n",
       "  * MPA           (MPA) int64 1 2 3 4 5 6 7 8 9\n",
       "Dimensions without coordinates: k, obs"
      ]
     },
     "execution_count": 36,
     "metadata": {},
     "output_type": "execute_result"
    }
   ],
   "source": [
    "hist_nostokes = get_hist(ds_nostokes, dist_bins=np.linspace(0, 1200, 41), num_z=len(z_values))\n",
    "hist_nostokes"
   ]
  },
  {
   "cell_type": "code",
   "execution_count": 37,
   "metadata": {},
   "outputs": [
    {
     "data": {
      "text/plain": [
       "<xarray.DataArray 'histogram_distance' (MPA: 9, k: 5, obs: 962, distance_bin: 40)>\n",
       "dask.array<shape=(9, 5, 962, 40), dtype=int64, chunksize=(1, 1, 962, 40)>\n",
       "Coordinates:\n",
       "  * distance_bin  (distance_bin) float64 15.0 45.0 75.0 ... 1.155e+03 1.185e+03\n",
       "  * MPA           (MPA) int64 1 2 3 4 5 6 7 8 9\n",
       "Dimensions without coordinates: k, obs"
      ]
     },
     "execution_count": 37,
     "metadata": {},
     "output_type": "execute_result"
    }
   ],
   "source": [
    "hist_nostokes_no_land_contact = get_hist(ds_nostokes_no_land_contact, dist_bins=np.linspace(0, 1200, 41), num_z=len(z_values))\n",
    "hist_nostokes_no_land_contact"
   ]
  },
  {
   "cell_type": "markdown",
   "metadata": {},
   "source": [
    "## Plot for each species"
   ]
  },
  {
   "cell_type": "code",
   "execution_count": 39,
   "metadata": {},
   "outputs": [],
   "source": [
    "def restrict_hist(hist, k=None, current_species=None):\n",
    "\n",
    "    hist = hist.isel(k=k)  # z_levels\n",
    "    hist = hist.sel(  # restrict to settling period\n",
    "        obs=slice(\n",
    "            24 * species[current_species][\"settling_start_days\"],\n",
    "            24 * species[current_species][\"settling_end_days\"]\n",
    "        )\n",
    "    )\n",
    "    hist = hist.sum(\"obs\")  # sum over time\n",
    "    hist = hist.squeeze()  # make sure no degenerate dims left\n",
    "\n",
    "    hist /= hist.sum(\"distance_bin\")  # normalize to area 1\n",
    "    \n",
    "    return hist"
   ]
  },
  {
   "cell_type": "code",
   "execution_count": null,
   "metadata": {},
   "outputs": [],
   "source": [
    "hist = restrict_hist(hist_nostokes_no_land_contact, k=0, current_species = \"Striped red mullet\")\n",
    "\n",
    "hist.compute(retries=40).plot(\n",
    "    x=\"distance_bin\",\n",
    "    col=\"MPA\", col_wrap=3,\n",
    "    label=\"no stokes, no land contact, surface\"\n",
    ");\n",
    "\n",
    "hist = restrict_hist(hist_stokes_no_land_contact, k=0, current_species = \"Striped red mullet\")\n",
    "\n",
    "hist.compute(retries=40).plot(\n",
    "    x=\"distance_bin\",\n",
    "    col=\"MPA\", col_wrap=3,\n",
    "    label=\"no stokes, no land contact, surface\"\n",
    ");"
   ]
  },
  {
   "cell_type": "markdown",
   "metadata": {},
   "source": [
    "## Create histograms for each species"
   ]
  },
  {
   "cell_type": "code",
   "execution_count": null,
   "metadata": {},
   "outputs": [],
   "source": [
    "def get_title(name, period):\n",
    "    return f\"{name}: {period[0]} - {period[1]} {period[2]}\""
   ]
  },
  {
   "cell_type": "code",
   "execution_count": null,
   "metadata": {},
   "outputs": [],
   "source": [
    "for k, v in settling_periods.items():\n",
    "    print(get_title(k, v))"
   ]
  },
  {
   "cell_type": "code",
   "execution_count": null,
   "metadata": {},
   "outputs": [],
   "source": [
    "for k, v in settling_periods.items():\n",
    "    hist_stokes = xhist(\n",
    "        restrict_to(ds_stokes, MPA=1, z=z_values[0]).sel(obs=slice(v[0] * 24, v[1] * 24)).distance,\n",
    "        bins=[np.linspace(0, 1000, 41), ],\n",
    "        dim=[\"traj\", \"obs\"]\n",
    "    )\n",
    "    hist_stokes.plot(label=f\"stokes, surface, {get_title(k, v)}\")\n",
    "plt."
   ]
  },
  {
   "cell_type": "markdown",
   "metadata": {},
   "source": [
    "# Technical documentation\n",
    "\n",
    "Lists the whole working environment."
   ]
  },
  {
   "cell_type": "code",
   "execution_count": null,
   "metadata": {},
   "outputs": [],
   "source": [
    "%pip list"
   ]
  },
  {
   "cell_type": "code",
   "execution_count": null,
   "metadata": {},
   "outputs": [],
   "source": [
    "%conda list --explicit"
   ]
  }
 ],
 "metadata": {
  "kernelspec": {
   "display_name": "Python 3",
   "language": "python",
   "name": "python3"
  },
  "language_info": {
   "codemirror_mode": {
    "name": "ipython",
    "version": 3
   },
   "file_extension": ".py",
   "mimetype": "text/x-python",
   "name": "python",
   "nbconvert_exporter": "python",
   "pygments_lexer": "ipython3",
   "version": "3.7.3"
  }
 },
 "nbformat": 4,
 "nbformat_minor": 4
}

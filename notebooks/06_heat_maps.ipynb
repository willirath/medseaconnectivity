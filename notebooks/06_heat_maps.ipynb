{
 "cells": [
  {
   "cell_type": "code",
   "execution_count": 1,
   "metadata": {},
   "outputs": [],
   "source": [
    "# %pip install seaborn xhistogram \"matplotlib<3.1\""
   ]
  },
  {
   "cell_type": "code",
   "execution_count": 2,
   "metadata": {},
   "outputs": [],
   "source": [
    "# Workaround to ensure lazy evaluation of xhistorams\n",
    "# see https://github.com/xgcm/xhistogram/issues/12\n",
    "\n",
    "import os\n",
    "os.environ[\"NUMPY_EXPERIMENTAL_ARRAY_FUNCTION\"] = \"0\""
   ]
  },
  {
   "cell_type": "markdown",
   "metadata": {},
   "source": [
    "# Heat maps"
   ]
  },
  {
   "cell_type": "code",
   "execution_count": 3,
   "metadata": {},
   "outputs": [],
   "source": [
    "# parameters\n",
    "dataset_version = \"v2019.09.11.2\"\n",
    "bucket_stokes = f\"pangeo-parcels/med_sea_connectivity_{dataset_version}/traj_data_with_stokes.zarr\"\n",
    "bucket_nostokes = f\"pangeo-parcels/med_sea_connectivity_{dataset_version}/traj_data_without_stokes.zarr\"\n",
    "\n",
    "species = {\n",
    "    \"Striped red mullet\": {\n",
    "        \"settling_start_days\": 25,\n",
    "        \"settling_end_days\": 35,\n",
    "        \"min_temp\": 10.0,\n",
    "        \"max_temp\": 28.0,\n",
    "        \"latest_spawning_month\": 7\n",
    "    },\n",
    "    \"White seabream\": {\n",
    "        \"settling_start_days\": 26,\n",
    "        \"settling_end_days\": 30,\n",
    "        \"min_temp\": 10.0,\n",
    "        \"max_temp\": 28.0,\n",
    "        \"latest_spawning_month\": 6\n",
    "    },\n",
    "    \"Comber\": {\n",
    "        \"settling_start_days\": 21,\n",
    "        \"settling_end_days\": 28,\n",
    "        \"min_temp\": 10.0,\n",
    "        \"max_temp\": 28.0,\n",
    "        \"latest_spawning_month\": 7\n",
    "    }\n",
    "}\n",
    "\n",
    "MPA_names = {\n",
    "    0: 'Ocean', \n",
    "    1: 'Cote Bleue',\n",
    "    2: 'Cerbere-Banyuls',\n",
    "    3: 'Cape de Creus',\n",
    "    4: 'Columbretes',\n",
    "    5: 'Cala Ratjada',\n",
    "    6: 'Menorca',\n",
    "    7: 'Tabarca',\n",
    "    8: 'Cabo de Palos',\n",
    "    9: 'Cabo de Gata',\n",
    "    10: 'Coast'\n",
    "}\n",
    "\n",
    "n_lon_bins = 200\n",
    "n_lat_bins = 200\n",
    "\n",
    "filter_warnings = \"ignore\"  # No warnings will bother you.  Change for debugging."
   ]
  },
  {
   "cell_type": "code",
   "execution_count": 4,
   "metadata": {},
   "outputs": [],
   "source": [
    "import warnings\n",
    "warnings.filterwarnings(filter_warnings)"
   ]
  },
  {
   "cell_type": "markdown",
   "metadata": {},
   "source": [
    "## Load all modules and spin up a Dask cluster"
   ]
  },
  {
   "cell_type": "code",
   "execution_count": 5,
   "metadata": {},
   "outputs": [],
   "source": [
    "from dask import config as dconf"
   ]
  },
  {
   "cell_type": "code",
   "execution_count": 6,
   "metadata": {},
   "outputs": [
    {
     "data": {
      "text/plain": [
       "[{'args': ['dask-worker',\n",
       "   '--nthreads',\n",
       "   '2',\n",
       "   '--no-bokeh',\n",
       "   '--memory-limit',\n",
       "   '7GB',\n",
       "   '--death-timeout',\n",
       "   '60'],\n",
       "  'image': '${JUPYTER_IMAGE_SPEC}',\n",
       "  'name': 'dask-${JUPYTERHUB_USER}',\n",
       "  'resources': {'limits': {'cpu': 2, 'memory': '7G'},\n",
       "   'requests': {'cpu': 1, 'memory': '7G'}}}]"
      ]
     },
     "execution_count": 6,
     "metadata": {},
     "output_type": "execute_result"
    }
   ],
   "source": [
    "dconf.get(\"kubernetes.worker-template.spec.containers\")"
   ]
  },
  {
   "cell_type": "code",
   "execution_count": 7,
   "metadata": {},
   "outputs": [
    {
     "data": {
      "text/plain": [
       "<dask.config.set at 0x7f55dc67b470>"
      ]
     },
     "execution_count": 7,
     "metadata": {},
     "output_type": "execute_result"
    }
   ],
   "source": [
    "dconf.set({\"kubernetes.worker-template.spec.containers\":\n",
    "    [{\n",
    "        'args': [\n",
    "            'dask-worker',\n",
    "            '--nthreads',\n",
    "            '2',\n",
    "            '--no-bokeh',\n",
    "            '--memory-limit',\n",
    "            '15.5GB',\n",
    "            '--death-timeout',\n",
    "            '60'\n",
    "        ],\n",
    "        'image': '${JUPYTER_IMAGE_SPEC}',\n",
    "        'name': 'dask-${JUPYTERHUB_USER}',\n",
    "        'resources': {'limits': {'cpu': 4, 'memory': '15.5G'},\n",
    "                      'requests': {'cpu': 2, 'memory': '15.5G'}}}]\n",
    "})"
   ]
  },
  {
   "cell_type": "code",
   "execution_count": 8,
   "metadata": {},
   "outputs": [],
   "source": [
    "%matplotlib inline\n",
    "import seaborn as sns\n",
    "from dask import array as da\n",
    "import numpy as np\n",
    "import xarray as xr\n",
    "from gcsfs.mapping import GCSMap\n",
    "from xhistogram.xarray import histogram as xhist\n",
    "from matplotlib import pyplot as plt\n",
    "import pandas as pd\n",
    "from dask import delayed"
   ]
  },
  {
   "cell_type": "code",
   "execution_count": 9,
   "metadata": {},
   "outputs": [],
   "source": [
    "sns.set_context(\"talk\")\n",
    "sns.set_style(\"darkgrid\")"
   ]
  },
  {
   "cell_type": "code",
   "execution_count": 10,
   "metadata": {},
   "outputs": [
    {
     "data": {
      "text/html": [
       "<table style=\"border: 2px solid white;\">\n",
       "<tr>\n",
       "<td style=\"vertical-align: top; border: 0px solid white\">\n",
       "<h3 style=\"text-align: left;\">Client</h3>\n",
       "<ul style=\"text-align: left; list-style: none; margin: 0; padding: 0;\">\n",
       "  <li><b>Scheduler: </b>tcp://10.32.3.55:44697</li>\n",
       "  <li><b>Dashboard: </b><a href='/user/willirath/proxy/8787/status' target='_blank'>/user/willirath/proxy/8787/status</a>\n",
       "</ul>\n",
       "</td>\n",
       "<td style=\"vertical-align: top; border: 0px solid white\">\n",
       "<h3 style=\"text-align: left;\">Cluster</h3>\n",
       "<ul style=\"text-align: left; list-style:none; margin: 0; padding: 0;\">\n",
       "  <li><b>Workers: </b>0</li>\n",
       "  <li><b>Cores: </b>0</li>\n",
       "  <li><b>Memory: </b>0 B</li>\n",
       "</ul>\n",
       "</td>\n",
       "</tr>\n",
       "</table>"
      ],
      "text/plain": [
       "<Client: 'tcp://10.32.3.55:44697' processes=0 threads=0, memory=0 B>"
      ]
     },
     "execution_count": 10,
     "metadata": {},
     "output_type": "execute_result"
    }
   ],
   "source": [
    "from dask.distributed import Client, progress\n",
    "\n",
    "from dask_kubernetes import KubeCluster\n",
    "cluster = KubeCluster(n_workers=20, silence_logs=50)\n",
    "cluster.adapt(minimum=20, maximum=100, wait_count=15)\n",
    "\n",
    "client = Client(cluster, silence_logs=50)\n",
    "client"
   ]
  },
  {
   "cell_type": "markdown",
   "metadata": {},
   "source": [
    "** ☝️ Don't forget to click the link above to view the scheduler dashboard! **"
   ]
  },
  {
   "cell_type": "markdown",
   "metadata": {},
   "source": [
    "## Load data\n",
    "\n",
    "All trajectories are stored in a Google Cloud Storage bucket. We want to be able to load and filter all trajectories easily.  To this end, we load all the datasets (lazily), filter them to different parameters (starting MPA, depth, stokes drift), and store a Pandas dataframe with virtual sub-datasets for each combination of the parameters.  This Pandas dataframe will be pickled for later re-use."
   ]
  },
  {
   "cell_type": "code",
   "execution_count": 11,
   "metadata": {},
   "outputs": [],
   "source": [
    "def open_dataset(bucket, restrict_to_MPA=None, restrict_to_z=None):\n",
    "    # load data\n",
    "    gcsmap = GCSMap(bucket)\n",
    "    ds = xr.open_zarr(gcsmap, decode_cf=True)\n",
    "    \n",
    "    # get info on starting region and make it an easy-to-look-up coord\n",
    "    initial_MPA = ds.MPA.isel(obs=0).squeeze()\n",
    "    ds.coords[\"initial_MPA\"] = initial_MPA\n",
    "     \n",
    "    # add mask that is False after land contact\n",
    "    ds[\"before_land_contact\"] = ((ds.land == 0).cumprod(\"obs\") == 1)\n",
    "      \n",
    "    return ds"
   ]
  },
  {
   "cell_type": "code",
   "execution_count": 12,
   "metadata": {},
   "outputs": [],
   "source": [
    "ds_stokes = open_dataset(bucket_stokes)\n",
    "ds_nostokes = open_dataset(bucket_nostokes)"
   ]
  },
  {
   "cell_type": "markdown",
   "metadata": {},
   "source": [
    "## Simplify\n",
    "\n",
    "We know a few things about our data that make it easier to deal with them:\n",
    "\n",
    "- No vertical migration.  Hence, initial depth of a particle is valid for all times.\n",
    "\n",
    "- All time steps are the same. Hence, we can easily build a relative time axis that is valid for all particles."
   ]
  },
  {
   "cell_type": "code",
   "execution_count": 13,
   "metadata": {},
   "outputs": [],
   "source": [
    "def apply_assumptions(ds):\n",
    "    \"\"\"Applies simplifications to the dataset that are valid for the \n",
    "    specific set of experiments we're dealing with here.\n",
    "    \n",
    "    Be careful when applying these to new experiments, because\n",
    "    they might not apply.\n",
    "    \"\"\"\n",
    "    # We assume no vertical migration and hence\n",
    "    # make (non-changing) depth level an easy to look up coord\n",
    "    z = ds.z.isel(obs=0).squeeze()\n",
    "    ds[\"z\"] = z\n",
    "    ds.coords[\"z\"] = ds.z\n",
    "    \n",
    "    # We assume that all time steps are equal\n",
    "    # and that the time axis is measured in seconds\n",
    "    # since some reference period\n",
    "    time_axis = ds.reset_coords([\"z\", \"initial_MPA\"]).time.isel(traj=0).squeeze()\n",
    "    time_axis -= time_axis.isel(obs=0).squeeze()\n",
    "    time_axis.attrs[\"units\"] = \"seconds since start of particle\"\n",
    "    ds.coords[\"time_axis\"] = time_axis\n",
    "    \n",
    "    return ds"
   ]
  },
  {
   "cell_type": "code",
   "execution_count": 14,
   "metadata": {},
   "outputs": [],
   "source": [
    "ds_stokes = apply_assumptions(ds_stokes)\n",
    "ds_nostokes = apply_assumptions(ds_nostokes)"
   ]
  },
  {
   "cell_type": "markdown",
   "metadata": {},
   "source": [
    "## Load coordinates for quicker access\n",
    "\n",
    "So far, we did only the bare minimum of information (data types, variable names, number of time steps, ...) but did not load any of the data.  We want to continue to do so for the bulk of the data, but get coordinates and the like now."
   ]
  },
  {
   "cell_type": "code",
   "execution_count": 15,
   "metadata": {},
   "outputs": [],
   "source": [
    "def persist_coords(ds, retries=40):\n",
    "    \"\"\"Will load coordinate data to the cluster.\"\"\"\n",
    "    ds[\"z\"] = ds[\"z\"].persist(retries=retries)\n",
    "    ds[\"initial_MPA\"] = ds[\"initial_MPA\"].persist(retries=retries)\n",
    "    ds[\"time_axis\"] = ds[\"time_axis\"].persist(retries=retries)\n",
    "    return ds"
   ]
  },
  {
   "cell_type": "code",
   "execution_count": 16,
   "metadata": {},
   "outputs": [],
   "source": [
    "def compute_coords(ds, retries=40):\n",
    "    \"\"\"Will load coordinate data to the front end.\"\"\"\n",
    "    ds[\"z\"] = ds[\"z\"].compute(retries=retries)\n",
    "    ds[\"initial_MPA\"] = ds[\"initial_MPA\"].compute(retries=retries)\n",
    "    ds[\"time_axis\"] = ds[\"time_axis\"].compute(retries=retries)\n",
    "    return ds"
   ]
  },
  {
   "cell_type": "code",
   "execution_count": 17,
   "metadata": {},
   "outputs": [],
   "source": [
    "ds_stokes = persist_coords(ds_stokes)\n",
    "ds_nostokes = persist_coords(ds_nostokes)"
   ]
  },
  {
   "cell_type": "code",
   "execution_count": 18,
   "metadata": {},
   "outputs": [],
   "source": [
    "ds_stokes = compute_coords(ds_stokes)\n",
    "ds_nostokes = compute_coords(ds_nostokes)"
   ]
  },
  {
   "cell_type": "code",
   "execution_count": 19,
   "metadata": {},
   "outputs": [
    {
     "data": {
      "text/plain": [
       "<xarray.Dataset>\n",
       "Dimensions:              (obs: 962, traj: 2625480)\n",
       "Coordinates:\n",
       "    z                    (traj) float32 1.0182366 1.0182366 ... 1.0182366\n",
       "    initial_MPA          (traj) float32 1.0 1.0 1.0 1.0 1.0 ... 9.0 9.0 9.0 9.0\n",
       "    time_axis            (obs) timedelta64[ns] 00:00:00 ... 40 days 00:00:00\n",
       "Dimensions without coordinates: obs, traj\n",
       "Data variables:\n",
       "    MPA                  (traj, obs) float32 dask.array<chunksize=(100000, 962), meta=np.ndarray>\n",
       "    distance             (traj, obs) float32 dask.array<chunksize=(100000, 962), meta=np.ndarray>\n",
       "    land                 (traj, obs) float32 dask.array<chunksize=(100000, 962), meta=np.ndarray>\n",
       "    lat                  (traj, obs) float32 dask.array<chunksize=(100000, 962), meta=np.ndarray>\n",
       "    lon                  (traj, obs) float32 dask.array<chunksize=(100000, 962), meta=np.ndarray>\n",
       "    temp                 (traj, obs) float32 dask.array<chunksize=(100000, 962), meta=np.ndarray>\n",
       "    time                 (traj, obs) datetime64[ns] dask.array<chunksize=(100000, 962), meta=np.ndarray>\n",
       "    before_land_contact  (traj, obs) bool dask.array<chunksize=(100000, 962), meta=np.ndarray>\n",
       "Attributes:\n",
       "    Conventions:            CF-1.6/CF-1.7\n",
       "    feature_type:           trajectory\n",
       "    ncei_template_version:  NCEI_NetCDF_Trajectory_Template_v2.0\n",
       "    parcels_mesh:           spherical\n",
       "    parcels_version:        2.0.0b3.dev74+g9ee0f7f"
      ]
     },
     "execution_count": 19,
     "metadata": {},
     "output_type": "execute_result"
    }
   ],
   "source": [
    "ds_stokes"
   ]
  },
  {
   "cell_type": "code",
   "execution_count": 20,
   "metadata": {},
   "outputs": [
    {
     "data": {
      "text/plain": [
       "<xarray.Dataset>\n",
       "Dimensions:              (obs: 962, traj: 13188600)\n",
       "Coordinates:\n",
       "    z                    (traj) float32 1.0182366 1.0182366 ... 10.536604\n",
       "    initial_MPA          (traj) float32 1.0 1.0 1.0 1.0 1.0 ... 9.0 9.0 9.0 9.0\n",
       "    time_axis            (obs) timedelta64[ns] 00:00:00 ... 40 days 00:00:00\n",
       "Dimensions without coordinates: obs, traj\n",
       "Data variables:\n",
       "    MPA                  (traj, obs) float32 dask.array<chunksize=(100000, 962), meta=np.ndarray>\n",
       "    distance             (traj, obs) float32 dask.array<chunksize=(100000, 962), meta=np.ndarray>\n",
       "    land                 (traj, obs) float32 dask.array<chunksize=(100000, 962), meta=np.ndarray>\n",
       "    lat                  (traj, obs) float32 dask.array<chunksize=(100000, 962), meta=np.ndarray>\n",
       "    lon                  (traj, obs) float32 dask.array<chunksize=(100000, 962), meta=np.ndarray>\n",
       "    temp                 (traj, obs) float32 dask.array<chunksize=(100000, 962), meta=np.ndarray>\n",
       "    time                 (traj, obs) datetime64[ns] dask.array<chunksize=(100000, 962), meta=np.ndarray>\n",
       "    before_land_contact  (traj, obs) bool dask.array<chunksize=(100000, 962), meta=np.ndarray>\n",
       "Attributes:\n",
       "    Conventions:            CF-1.6/CF-1.7\n",
       "    feature_type:           trajectory\n",
       "    ncei_template_version:  NCEI_NetCDF_Trajectory_Template_v2.0\n",
       "    parcels_mesh:           spherical\n",
       "    parcels_version:        2.0.0b3.dev74+g9ee0f7f"
      ]
     },
     "execution_count": 20,
     "metadata": {},
     "output_type": "execute_result"
    }
   ],
   "source": [
    "ds_nostokes"
   ]
  },
  {
   "cell_type": "code",
   "execution_count": 21,
   "metadata": {},
   "outputs": [],
   "source": [
    "def get_z_values(ds):\n",
    "    \"\"\"Load unique z-values to the front end.\n",
    "    \n",
    "    This triggers a computation across all of the z-level data.\n",
    "    \"\"\"\n",
    "    z_values = da.unique(ds.z.data).compute(retries=40)\n",
    "    z_values = z_values[~np.isnan(z_values)]\n",
    "    return z_values"
   ]
  },
  {
   "cell_type": "code",
   "execution_count": 22,
   "metadata": {},
   "outputs": [],
   "source": [
    "z_values = get_z_values(ds_nostokes)"
   ]
  },
  {
   "cell_type": "code",
   "execution_count": 23,
   "metadata": {},
   "outputs": [
    {
     "name": "stdout",
     "output_type": "stream",
     "text": [
      "[ 1.0182366  3.1657474  5.4649634  7.9203773 10.536604 ]\n"
     ]
    }
   ],
   "source": [
    "print(z_values)"
   ]
  },
  {
   "cell_type": "markdown",
   "metadata": {},
   "source": [
    "## Kill based on temperature"
   ]
  },
  {
   "cell_type": "code",
   "execution_count": 24,
   "metadata": {},
   "outputs": [],
   "source": [
    "def apply_temp_range(ds, species_name):\n",
    "    # If we're close to land, temp=0 gets linearly\n",
    "    # interpolated to the particle position\n",
    "    actual_temp = ds.temp / (1 - ds.land)\n",
    "    \n",
    "    does_not_die = (\n",
    "        (actual_temp > species[species_name][\"min_temp\"])\n",
    "        & (actual_temp < species[species_name][\"max_temp\"])\n",
    "    )\n",
    "    ds[\"does_not_die\"] = does_not_die\n",
    "    \n",
    "    is_alive = (does_not_die.cumprod(\"obs\") == 1)\n",
    "    ds[\"is_alive\"] = is_alive\n",
    "    \n",
    "    return ds"
   ]
  },
  {
   "cell_type": "code",
   "execution_count": 25,
   "metadata": {},
   "outputs": [
    {
     "data": {
      "text/plain": [
       "<xarray.Dataset>\n",
       "Dimensions:              (obs: 962, traj: 13188600)\n",
       "Coordinates:\n",
       "    z                    (traj) float32 1.0182366 1.0182366 ... 10.536604\n",
       "    initial_MPA          (traj) float32 1.0 1.0 1.0 1.0 1.0 ... 9.0 9.0 9.0 9.0\n",
       "    time_axis            (obs) timedelta64[ns] 00:00:00 ... 40 days 00:00:00\n",
       "Dimensions without coordinates: obs, traj\n",
       "Data variables:\n",
       "    MPA                  (traj, obs) float32 dask.array<chunksize=(100000, 962), meta=np.ndarray>\n",
       "    distance             (traj, obs) float32 dask.array<chunksize=(100000, 962), meta=np.ndarray>\n",
       "    land                 (traj, obs) float32 dask.array<chunksize=(100000, 962), meta=np.ndarray>\n",
       "    lat                  (traj, obs) float32 dask.array<chunksize=(100000, 962), meta=np.ndarray>\n",
       "    lon                  (traj, obs) float32 dask.array<chunksize=(100000, 962), meta=np.ndarray>\n",
       "    temp                 (traj, obs) float32 dask.array<chunksize=(100000, 962), meta=np.ndarray>\n",
       "    time                 (traj, obs) datetime64[ns] dask.array<chunksize=(100000, 962), meta=np.ndarray>\n",
       "    before_land_contact  (traj, obs) bool dask.array<chunksize=(100000, 962), meta=np.ndarray>\n",
       "    does_not_die         (traj, obs) bool dask.array<chunksize=(100000, 962), meta=np.ndarray>\n",
       "    is_alive             (traj, obs) bool dask.array<chunksize=(100000, 962), meta=np.ndarray>\n",
       "Attributes:\n",
       "    Conventions:            CF-1.6/CF-1.7\n",
       "    feature_type:           trajectory\n",
       "    ncei_template_version:  NCEI_NetCDF_Trajectory_Template_v2.0\n",
       "    parcels_mesh:           spherical\n",
       "    parcels_version:        2.0.0b3.dev74+g9ee0f7f"
      ]
     },
     "execution_count": 25,
     "metadata": {},
     "output_type": "execute_result"
    }
   ],
   "source": [
    "# Pick first species. We don't have varying temperature ranges (yet?).\n",
    "ds_nostokes = apply_temp_range(ds_nostokes, \"Striped red mullet\")\n",
    "ds_nostokes"
   ]
  },
  {
   "cell_type": "code",
   "execution_count": 26,
   "metadata": {},
   "outputs": [
    {
     "data": {
      "text/plain": [
       "<xarray.Dataset>\n",
       "Dimensions:              (obs: 962, traj: 2625480)\n",
       "Coordinates:\n",
       "    z                    (traj) float32 1.0182366 1.0182366 ... 1.0182366\n",
       "    initial_MPA          (traj) float32 1.0 1.0 1.0 1.0 1.0 ... 9.0 9.0 9.0 9.0\n",
       "    time_axis            (obs) timedelta64[ns] 00:00:00 ... 40 days 00:00:00\n",
       "Dimensions without coordinates: obs, traj\n",
       "Data variables:\n",
       "    MPA                  (traj, obs) float32 dask.array<chunksize=(100000, 962), meta=np.ndarray>\n",
       "    distance             (traj, obs) float32 dask.array<chunksize=(100000, 962), meta=np.ndarray>\n",
       "    land                 (traj, obs) float32 dask.array<chunksize=(100000, 962), meta=np.ndarray>\n",
       "    lat                  (traj, obs) float32 dask.array<chunksize=(100000, 962), meta=np.ndarray>\n",
       "    lon                  (traj, obs) float32 dask.array<chunksize=(100000, 962), meta=np.ndarray>\n",
       "    temp                 (traj, obs) float32 dask.array<chunksize=(100000, 962), meta=np.ndarray>\n",
       "    time                 (traj, obs) datetime64[ns] dask.array<chunksize=(100000, 962), meta=np.ndarray>\n",
       "    before_land_contact  (traj, obs) bool dask.array<chunksize=(100000, 962), meta=np.ndarray>\n",
       "    does_not_die         (traj, obs) bool dask.array<chunksize=(100000, 962), meta=np.ndarray>\n",
       "    is_alive             (traj, obs) bool dask.array<chunksize=(100000, 962), meta=np.ndarray>\n",
       "Attributes:\n",
       "    Conventions:            CF-1.6/CF-1.7\n",
       "    feature_type:           trajectory\n",
       "    ncei_template_version:  NCEI_NetCDF_Trajectory_Template_v2.0\n",
       "    parcels_mesh:           spherical\n",
       "    parcels_version:        2.0.0b3.dev74+g9ee0f7f"
      ]
     },
     "execution_count": 26,
     "metadata": {},
     "output_type": "execute_result"
    }
   ],
   "source": [
    "ds_stokes = apply_temp_range(ds_stokes, \"Striped red mullet\")\n",
    "ds_stokes"
   ]
  },
  {
   "cell_type": "code",
   "execution_count": 27,
   "metadata": {},
   "outputs": [],
   "source": [
    "# ds_nostokes.is_alive.astype(\"float\").mean(\"traj\").compute(retries=40).plot(label=\"no stokes, all layers\")\n",
    "# ds_stokes.is_alive.astype(\"float\").mean(\"traj\").compute(retries=40).plot(label=\"stokes, surface\");\n",
    "# plt.gca().legend();"
   ]
  },
  {
   "cell_type": "code",
   "execution_count": 28,
   "metadata": {},
   "outputs": [],
   "source": [
    "# actually apply the temp range\n",
    "ds_stokes = ds_stokes.where(ds_stokes.is_alive)\n",
    "ds_nostokes = ds_nostokes.where(ds_nostokes.is_alive)"
   ]
  },
  {
   "cell_type": "markdown",
   "metadata": {},
   "source": [
    "## Be able to filter for spawning month\n",
    "\n",
    "Not all species spawn for the same time span.  \"White seabream\" only spawns till June.  As the physical trajectories are otherwise equivalent, we want to be able to remove those trajectories that start too late in the year:"
   ]
  },
  {
   "cell_type": "markdown",
   "metadata": {},
   "source": [
    "## Be able to filter for settling period"
   ]
  },
  {
   "cell_type": "code",
   "execution_count": 29,
   "metadata": {},
   "outputs": [],
   "source": [
    "def filter_settling_period(ds, species_name):\n",
    "    return ds.isel(\n",
    "        obs=slice(\n",
    "            int(species[species_name][\"settling_start_days\"] * 24),\n",
    "            int(species[species_name][\"settling_end_days\"] * 24) + 1\n",
    "        )\n",
    "    )"
   ]
  },
  {
   "cell_type": "markdown",
   "metadata": {},
   "source": [
    "## Be able to find trajectories that _never_ touch land"
   ]
  },
  {
   "cell_type": "code",
   "execution_count": 30,
   "metadata": {},
   "outputs": [],
   "source": [
    "def get_never_touches_land(ds):\n",
    "    ds =  ds.where(ds.land.max(\"obs\") == 0)\n",
    "    return ds"
   ]
  },
  {
   "cell_type": "markdown",
   "metadata": {},
   "source": [
    "## Heat Maps"
   ]
  },
  {
   "cell_type": "code",
   "execution_count": 31,
   "metadata": {},
   "outputs": [],
   "source": [
    "def get_bnds(ds, varname):\n",
    "    var_min = ds[varname].min().persist(retries=40)\n",
    "    var_max = ds[varname].max().persist(retries=40)\n",
    "    var_bnds = [var_min.compute(), var_max.compute()]\n",
    "    return var_bnds"
   ]
  },
  {
   "cell_type": "code",
   "execution_count": 32,
   "metadata": {},
   "outputs": [],
   "source": [
    "# lat_bnds_stokes = get_bnds(ds_stokes, \"lat\")\n",
    "# lat_bnds_nostokes = get_bnds(ds_nostokes, \"lat\")\n",
    "# lat_bnds = [\n",
    "#     min(lat_bnds_stokes[0], lat_bnds_stokes[1]),\n",
    "#     max(lat_bnds_stokes[0], lat_bnds_stokes[1]),\n",
    "# ]\n",
    "\n",
    "# lon_bnds_stokes = get_bnds(ds_stokes, \"lon\")\n",
    "# lon_bnds_nostokes = get_bnds(ds_nostokes, \"lon\")\n",
    "# lon_bnds = [\n",
    "#     min(lon_bnds_stokes[0], lon_bnds_stokes[1]),\n",
    "#     max(lon_bnds_stokes[0], lon_bnds_stokes[1]),\n",
    "# ]"
   ]
  },
  {
   "cell_type": "code",
   "execution_count": 33,
   "metadata": {},
   "outputs": [],
   "source": [
    "# print(\"lat_bnds\", lat_bnds)\n",
    "# print(\"lon_bnds\", lon_bnds)"
   ]
  },
  {
   "cell_type": "code",
   "execution_count": 34,
   "metadata": {},
   "outputs": [],
   "source": [
    "lat_bnds = [35.0, 44.0]\n",
    "lon_bnds = [-6.0, 10.0]"
   ]
  },
  {
   "cell_type": "code",
   "execution_count": 35,
   "metadata": {},
   "outputs": [],
   "source": [
    "lat_bins = np.linspace(lat_bnds[0], lat_bnds[1], n_lat_bins + 1)\n",
    "lon_bins = np.linspace(lon_bnds[0], lon_bnds[1], n_lon_bins + 1)"
   ]
  },
  {
   "cell_type": "code",
   "execution_count": 36,
   "metadata": {},
   "outputs": [],
   "source": [
    "def heat_map(ds):\n",
    "    heat_map = xhist(\n",
    "        ds.lat,\n",
    "        ds.lon,\n",
    "        bins=[lat_bins, lon_bins],\n",
    "        dim=[\"traj\", \"obs\"]\n",
    "    )\n",
    "    \n",
    "    heat_map = heat_map.where(heat_map > 0)\n",
    "        \n",
    "    return heat_map"
   ]
  },
  {
   "cell_type": "markdown",
   "metadata": {},
   "source": [
    "## Heat map stokes vs. no stokes, surface"
   ]
  },
  {
   "cell_type": "code",
   "execution_count": 37,
   "metadata": {},
   "outputs": [
    {
     "data": {
      "text/plain": [
       "<xarray.DataArray 'histogram_lat_lon' (lat_bin: 200, lon_bin: 200)>\n",
       "dask.array<where, shape=(200, 200), dtype=float64, chunksize=(200, 200), chunktype=numpy.ndarray>\n",
       "Coordinates:\n",
       "  * lat_bin  (lat_bin) float64 35.02 35.07 35.11 35.16 ... 43.89 43.93 43.98\n",
       "  * lon_bin  (lon_bin) float64 -5.96 -5.88 -5.8 -5.72 ... 9.72 9.8 9.88 9.96"
      ]
     },
     "execution_count": 37,
     "metadata": {},
     "output_type": "execute_result"
    }
   ],
   "source": [
    "heat_map_stokes_z0 = heat_map(ds_stokes)\n",
    "heat_map_stokes_z0"
   ]
  },
  {
   "cell_type": "code",
   "execution_count": 38,
   "metadata": {},
   "outputs": [
    {
     "data": {
      "text/plain": [
       "<xarray.DataArray 'histogram_lat_lon' (lat_bin: 200, lon_bin: 200)>\n",
       "dask.array<where, shape=(200, 200), dtype=float64, chunksize=(200, 200), chunktype=numpy.ndarray>\n",
       "Coordinates:\n",
       "  * lat_bin  (lat_bin) float64 35.02 35.07 35.11 35.16 ... 43.89 43.93 43.98\n",
       "  * lon_bin  (lon_bin) float64 -5.96 -5.88 -5.8 -5.72 ... 9.72 9.8 9.88 9.96"
      ]
     },
     "execution_count": 38,
     "metadata": {},
     "output_type": "execute_result"
    }
   ],
   "source": [
    "heat_map_nostokes_z0 = heat_map(ds_nostokes.where(ds_nostokes.z == z_values[0]))\n",
    "heat_map_nostokes_z0"
   ]
  },
  {
   "cell_type": "code",
   "execution_count": 39,
   "metadata": {},
   "outputs": [],
   "source": [
    "heat_map_stokes_z0 = heat_map_stokes_z0.persist(retries=40)\n",
    "heat_map_nostokes_z0 = heat_map_nostokes_z0.persist(retries=40)"
   ]
  },
  {
   "cell_type": "code",
   "execution_count": 40,
   "metadata": {},
   "outputs": [],
   "source": [
    "import cartopy.crs as ccrs"
   ]
  },
  {
   "cell_type": "code",
   "execution_count": 41,
   "metadata": {},
   "outputs": [],
   "source": [
    "def plot_two_histograms(hist1, hist2, title1, title2):\n",
    "\n",
    "    fig = plt.figure(figsize=(24, 6))\n",
    "\n",
    "    ax1 = plt.subplot(1, 2, 1, projection=ccrs.PlateCarree())\n",
    "    ax1.coastlines('10m')\n",
    "    # ax1.set_extent([-45, 55, 20, 80], ccrs.PlateCarree())\n",
    "\n",
    "    gl1 = ax1.gridlines(\n",
    "        crs=ccrs.PlateCarree(), draw_labels=True,\n",
    "        linewidth=1, color='gray', alpha=0.5, linestyle='--')\n",
    "    gl1.xlabels_top = False\n",
    "    gl1.ylabels_right = False\n",
    "\n",
    "    ax2 = plt.subplot(1, 2, 2, projection=ccrs.PlateCarree())\n",
    "    ax2.coastlines('10m')\n",
    "    # ax2.set_extent([-45, 55, 20, 80], ccrs.PlateCarree())\n",
    "\n",
    "    gl2 = ax2.gridlines(\n",
    "        crs=ccrs.PlateCarree(), draw_labels=True,\n",
    "        linewidth=1, color='gray', alpha=0.5, linestyle='--')\n",
    "    gl2.xlabels_top = False\n",
    "    gl2.ylabels_right = False\n",
    "\n",
    "    xr.ufuncs.log10(hist1).plot(ax=ax1, vmin=1, vmax=6, transform=ccrs.PlateCarree(), rasterized=True)\n",
    "    xr.ufuncs.log10(hist2).plot(ax=ax2, vmin=1, vmax=6, transform=ccrs.PlateCarree(), rasterized=True)\n",
    "\n",
    "    ax1.set_title(title1)\n",
    "    ax2.set_title(title1)\n",
    "\n",
    "    # fig.tight_layout();\n",
    "    \n",
    "    return fig"
   ]
  },
  {
   "cell_type": "code",
   "execution_count": null,
   "metadata": {},
   "outputs": [],
   "source": [
    "fig = plot_two_histograms(\n",
    "    heat_map_stokes_z0.compute(retries=40),\n",
    "    heat_map_nostokes_z0.compute(retries=40),\n",
    "    \"stokes, surface, all positions, first 40 days, logscale\",\n",
    "    \"no stokes, surface, all positions, first 40 days, logscale\"\n",
    ")"
   ]
  },
  {
   "cell_type": "code",
   "execution_count": null,
   "metadata": {},
   "outputs": [],
   "source": [
    "fig.savefig(\"plots/heat_maps_stokes_vs_nostokes_z0.png\")\n",
    "fig.savefig(\"plots/heat_maps_stokes_vs_nostokes_z0.pdf\")"
   ]
  },
  {
   "cell_type": "markdown",
   "metadata": {},
   "source": [
    "## Heat map no stokes, z min vs. z max, MPA5"
   ]
  },
  {
   "cell_type": "code",
   "execution_count": null,
   "metadata": {},
   "outputs": [],
   "source": [
    "heat_map_nostokes_z0_MPA5 = heat_map(\n",
    "    ds_nostokes.where(\n",
    "        (ds_nostokes.initial_MPA == 5)\n",
    "        & (ds_nostokes.z == z_values[0])\n",
    "    )\n",
    ")\n",
    "heat_map_nostokes_z0_MPA5"
   ]
  },
  {
   "cell_type": "code",
   "execution_count": null,
   "metadata": {},
   "outputs": [],
   "source": [
    "heat_map_nostokes_z4_MPA5 = heat_map(\n",
    "    ds_nostokes.where(\n",
    "        (ds_nostokes.initial_MPA == 5)\n",
    "        & (ds_nostokes.z == z_values[4])\n",
    "    )\n",
    ")\n",
    "heat_map_nostokes_z4_MPA5"
   ]
  },
  {
   "cell_type": "code",
   "execution_count": null,
   "metadata": {},
   "outputs": [],
   "source": [
    "heat_map_nostokes_z0_MPA5 = heat_map_nostokes_z0_MPA5.persist(retries=40)\n",
    "heat_map_nostokes_z4_MPA5 = heat_map_nostokes_z4_MPA5.persist(retries=40)"
   ]
  },
  {
   "cell_type": "code",
   "execution_count": null,
   "metadata": {},
   "outputs": [],
   "source": [
    "fig = plot_two_histograms(\n",
    "    heat_map_nostokes_z0_MPA5.compute(retries=40),\n",
    "    heat_map_nostokes_z4_MPA5.compute(retries=40),\n",
    "    f\"no stokes, {z_values[0]}m, all positions, first 40 days, logscale\",\n",
    "    f\"no stokes, {z_values[4]}m, all positions, first 40 days, logscale\"\n",
    ")"
   ]
  },
  {
   "cell_type": "code",
   "execution_count": null,
   "metadata": {},
   "outputs": [],
   "source": [
    "fig.savefig(\"plots/heat_maps_nostokes_MPA5_z0_vs_z4.png\")\n",
    "fig.savefig(\"plots/heat_maps_nostokes_MPA5_z0_vs_z4.pdf\")"
   ]
  },
  {
   "cell_type": "markdown",
   "metadata": {},
   "source": [
    "## Heat map stokes noslip vs. no land contact, surface"
   ]
  },
  {
   "cell_type": "code",
   "execution_count": null,
   "metadata": {},
   "outputs": [],
   "source": [
    "heat_map_stokes_z0_no_land_contact = heat_map(get_never_touches_land(ds_stokes))\n",
    "heat_map_stokes_z0_no_land_contact"
   ]
  },
  {
   "cell_type": "code",
   "execution_count": null,
   "metadata": {},
   "outputs": [],
   "source": [
    "heat_map_stokes_z0_no_land_contact = heat_map_stokes_z0_no_land_contact.persist(retries=40)"
   ]
  },
  {
   "cell_type": "code",
   "execution_count": null,
   "metadata": {},
   "outputs": [],
   "source": [
    "fig = plot_two_histograms(\n",
    "    heat_map_stokes_z0.compute(retries=40),\n",
    "    heat_map_stokes_z0_no_land_contact.compute(retries=40),\n",
    "    \"stokes, surface, all positions, first 40 days, logscale\",\n",
    "    \"stokes, surface, all positions, no land contact, first 40 days, logscale\"\n",
    ")"
   ]
  },
  {
   "cell_type": "code",
   "execution_count": null,
   "metadata": {},
   "outputs": [],
   "source": [
    "fig.savefig(\"plots/heat_maps_stokes_z0_noslip_vs_nolandcontact.png\")\n",
    "fig.savefig(\"plots/heat_maps_stokes_z0_noslip_vs_nolandcontact.pdf\")"
   ]
  },
  {
   "cell_type": "markdown",
   "metadata": {},
   "source": [
    "# Technical documentation\n",
    "\n",
    "Lists the whole working environment."
   ]
  },
  {
   "cell_type": "code",
   "execution_count": null,
   "metadata": {},
   "outputs": [],
   "source": [
    "%pip list"
   ]
  },
  {
   "cell_type": "code",
   "execution_count": null,
   "metadata": {},
   "outputs": [],
   "source": [
    "%conda list --explicit"
   ]
  }
 ],
 "metadata": {
  "kernelspec": {
   "display_name": "Python 3",
   "language": "python",
   "name": "python3"
  },
  "language_info": {
   "codemirror_mode": {
    "name": "ipython",
    "version": 3
   },
   "file_extension": ".py",
   "mimetype": "text/x-python",
   "name": "python",
   "nbconvert_exporter": "python",
   "pygments_lexer": "ipython3",
   "version": "3.7.3"
  }
 },
 "nbformat": 4,
 "nbformat_minor": 4
}

{
 "cells": [
  {
   "cell_type": "code",
   "execution_count": 1,
   "metadata": {},
   "outputs": [],
   "source": [
    "# %pip install seaborn xhistogram \"matplotlib<3.1\""
   ]
  },
  {
   "cell_type": "code",
   "execution_count": 2,
   "metadata": {},
   "outputs": [],
   "source": [
    "# Workaround to ensure lazy evaluation of xhistorams\n",
    "# see https://github.com/xgcm/xhistogram/issues/12\n",
    "\n",
    "import os\n",
    "os.environ[\"NUMPY_EXPERIMENTAL_ARRAY_FUNCTION\"] = \"0\""
   ]
  },
  {
   "cell_type": "markdown",
   "metadata": {},
   "source": [
    "# Heat maps"
   ]
  },
  {
   "cell_type": "code",
   "execution_count": 3,
   "metadata": {},
   "outputs": [],
   "source": [
    "# parameters\n",
    "dataset_version = \"v2019.09.11.2\"\n",
    "bucket_stokes = f\"pangeo-parcels/med_sea_connectivity_{dataset_version}/traj_data_with_stokes.zarr\"\n",
    "bucket_nostokes = f\"pangeo-parcels/med_sea_connectivity_{dataset_version}/traj_data_without_stokes.zarr\"\n",
    "\n",
    "species = {\n",
    "    \"Striped red mullet\": {\n",
    "        \"settling_start_days\": 25,\n",
    "        \"settling_end_days\": 35,\n",
    "        \"min_temp\": 10.0,\n",
    "        \"max_temp\": 28.0,\n",
    "        \"latest_spawning_month\": 7\n",
    "    },\n",
    "    \"White seabream\": {\n",
    "        \"settling_start_days\": 26,\n",
    "        \"settling_end_days\": 30,\n",
    "        \"min_temp\": 10.0,\n",
    "        \"max_temp\": 28.0,\n",
    "        \"latest_spawning_month\": 6\n",
    "    },\n",
    "    \"Comber\": {\n",
    "        \"settling_start_days\": 21,\n",
    "        \"settling_end_days\": 28,\n",
    "        \"min_temp\": 10.0,\n",
    "        \"max_temp\": 28.0,\n",
    "        \"latest_spawning_month\": 7\n",
    "    }\n",
    "}\n",
    "\n",
    "MPA_names = {\n",
    "    0: 'Ocean', \n",
    "    1: 'Cote Bleue',\n",
    "    2: 'Cerbere-Banyuls',\n",
    "    3: 'Cape de Creus',\n",
    "    4: 'Columbretes',\n",
    "    5: 'Cala Ratjada',\n",
    "    6: 'Menorca',\n",
    "    7: 'Tabarca',\n",
    "    8: 'Cabo de Palos',\n",
    "    9: 'Cabo de Gata',\n",
    "    10: 'Coast'\n",
    "}\n",
    "\n",
    "n_lon_bins = 200\n",
    "n_lat_bins = 200\n",
    "\n",
    "filter_warnings = \"ignore\"  # No warnings will bother you.  Change for debugging."
   ]
  },
  {
   "cell_type": "code",
   "execution_count": 4,
   "metadata": {},
   "outputs": [],
   "source": [
    "import warnings\n",
    "warnings.filterwarnings(filter_warnings)"
   ]
  },
  {
   "cell_type": "markdown",
   "metadata": {},
   "source": [
    "## Load all modules and spin up a Dask cluster"
   ]
  },
  {
   "cell_type": "code",
   "execution_count": 5,
   "metadata": {},
   "outputs": [],
   "source": [
    "from dask import config as dconf"
   ]
  },
  {
   "cell_type": "code",
   "execution_count": 6,
   "metadata": {},
   "outputs": [
    {
     "data": {
      "text/plain": [
       "[{'args': ['dask-worker',\n",
       "   '--nthreads',\n",
       "   '2',\n",
       "   '--no-bokeh',\n",
       "   '--memory-limit',\n",
       "   '7GB',\n",
       "   '--death-timeout',\n",
       "   '60'],\n",
       "  'image': '${JUPYTER_IMAGE_SPEC}',\n",
       "  'name': 'dask-${JUPYTERHUB_USER}',\n",
       "  'resources': {'limits': {'cpu': 2, 'memory': '7G'},\n",
       "   'requests': {'cpu': 1, 'memory': '7G'}}}]"
      ]
     },
     "execution_count": 6,
     "metadata": {},
     "output_type": "execute_result"
    }
   ],
   "source": [
    "dconf.get(\"kubernetes.worker-template.spec.containers\")"
   ]
  },
  {
   "cell_type": "code",
   "execution_count": 7,
   "metadata": {},
   "outputs": [
    {
     "data": {
      "text/plain": [
       "<dask.config.set at 0x7f1fc43cfcc0>"
      ]
     },
     "execution_count": 7,
     "metadata": {},
     "output_type": "execute_result"
    }
   ],
   "source": [
    "dconf.set({\"kubernetes.worker-template.spec.containers\":\n",
    "    [{\n",
    "        'args': [\n",
    "            'dask-worker',\n",
    "            '--nthreads',\n",
    "            '2',\n",
    "            '--no-bokeh',\n",
    "            '--memory-limit',\n",
    "            '11.5GB',\n",
    "            '--death-timeout',\n",
    "            '60'\n",
    "        ],\n",
    "        'image': '${JUPYTER_IMAGE_SPEC}',\n",
    "        'name': 'dask-${JUPYTERHUB_USER}',\n",
    "        'resources': {'limits': {'cpu': 4, 'memory': '11.5G'},\n",
    "                      'requests': {'cpu': 2, 'memory': '11.5G'}}}]\n",
    "})"
   ]
  },
  {
   "cell_type": "code",
   "execution_count": 8,
   "metadata": {},
   "outputs": [],
   "source": [
    "%matplotlib inline\n",
    "import seaborn as sns\n",
    "from dask import array as da\n",
    "import numpy as np\n",
    "import xarray as xr\n",
    "from gcsfs.mapping import GCSMap\n",
    "from xhistogram.xarray import histogram as xhist\n",
    "from matplotlib import pyplot as plt\n",
    "import pandas as pd\n",
    "from dask import delayed"
   ]
  },
  {
   "cell_type": "code",
   "execution_count": 9,
   "metadata": {},
   "outputs": [],
   "source": [
    "sns.set_context(\"talk\")\n",
    "sns.set_style(\"darkgrid\")"
   ]
  },
  {
   "cell_type": "code",
   "execution_count": 10,
   "metadata": {},
   "outputs": [
    {
     "data": {
      "text/html": [
       "<table style=\"border: 2px solid white;\">\n",
       "<tr>\n",
       "<td style=\"vertical-align: top; border: 0px solid white\">\n",
       "<h3 style=\"text-align: left;\">Client</h3>\n",
       "<ul style=\"text-align: left; list-style: none; margin: 0; padding: 0;\">\n",
       "  <li><b>Scheduler: </b>tcp://10.32.2.20:40105</li>\n",
       "  <li><b>Dashboard: </b><a href='/user/willirath/proxy/8787/status' target='_blank'>/user/willirath/proxy/8787/status</a>\n",
       "</ul>\n",
       "</td>\n",
       "<td style=\"vertical-align: top; border: 0px solid white\">\n",
       "<h3 style=\"text-align: left;\">Cluster</h3>\n",
       "<ul style=\"text-align: left; list-style:none; margin: 0; padding: 0;\">\n",
       "  <li><b>Workers: </b>0</li>\n",
       "  <li><b>Cores: </b>0</li>\n",
       "  <li><b>Memory: </b>0 B</li>\n",
       "</ul>\n",
       "</td>\n",
       "</tr>\n",
       "</table>"
      ],
      "text/plain": [
       "<Client: scheduler='tcp://10.32.2.20:40105' processes=0 cores=0>"
      ]
     },
     "execution_count": 10,
     "metadata": {},
     "output_type": "execute_result"
    }
   ],
   "source": [
    "from dask.distributed import Client, progress\n",
    "\n",
    "from dask_kubernetes import KubeCluster\n",
    "cluster = KubeCluster(n_workers=10, silence_logs=50)\n",
    "cluster.adapt(minimum=4, maximum=150, wait_count=15)\n",
    "\n",
    "client = Client(cluster, silence_logs=50)\n",
    "client"
   ]
  },
  {
   "cell_type": "markdown",
   "metadata": {},
   "source": [
    "** ☝️ Don't forget to click the link above to view the scheduler dashboard! **"
   ]
  },
  {
   "cell_type": "markdown",
   "metadata": {},
   "source": [
    "## Load data\n",
    "\n",
    "All trajectories are stored in a Google Cloud Storage bucket. We want to be able to load and filter all trajectories easily.  To this end, we load all the datasets (lazily), filter them to different parameters (starting MPA, depth, stokes drift), and store a Pandas dataframe with virtual sub-datasets for each combination of the parameters.  This Pandas dataframe will be pickled for later re-use."
   ]
  },
  {
   "cell_type": "code",
   "execution_count": 11,
   "metadata": {},
   "outputs": [],
   "source": [
    "def open_dataset(bucket, restrict_to_MPA=None, restrict_to_z=None):\n",
    "    # load data\n",
    "    gcsmap = GCSMap(bucket)\n",
    "    ds = xr.open_zarr(gcsmap, decode_cf=True)\n",
    "    \n",
    "    # get info on starting region and make it an easy-to-look-up coord\n",
    "    initial_MPA = ds.MPA.isel(obs=0).squeeze()\n",
    "    ds.coords[\"initial_MPA\"] = initial_MPA\n",
    "     \n",
    "    # add mask that is False after land contact\n",
    "    ds[\"before_land_contact\"] = ((ds.land == 0).cumprod(\"obs\") == 1)\n",
    "      \n",
    "    return ds"
   ]
  },
  {
   "cell_type": "code",
   "execution_count": 12,
   "metadata": {},
   "outputs": [],
   "source": [
    "ds_stokes = open_dataset(bucket_stokes)\n",
    "ds_nostokes = open_dataset(bucket_nostokes)"
   ]
  },
  {
   "cell_type": "markdown",
   "metadata": {},
   "source": [
    "## Simplify\n",
    "\n",
    "We know a few things about our data that make it easier to deal with them:\n",
    "\n",
    "- No vertical migration.  Hence, initial depth of a particle is valid for all times.\n",
    "\n",
    "- All time steps are the same. Hence, we can easily build a relative time axis that is valid for all particles."
   ]
  },
  {
   "cell_type": "code",
   "execution_count": 13,
   "metadata": {},
   "outputs": [],
   "source": [
    "def apply_assumptions(ds):\n",
    "    \"\"\"Applies simplifications to the dataset that are valid for the \n",
    "    specific set of experiments we're dealing with here.\n",
    "    \n",
    "    Be careful when applying these to new experiments, because\n",
    "    they might not apply.\n",
    "    \"\"\"\n",
    "    # We assume no vertical migration and hence\n",
    "    # make (non-changing) depth level an easy to look up coord\n",
    "    z = ds.z.isel(obs=0).squeeze()\n",
    "    ds[\"z\"] = z\n",
    "    ds.coords[\"z\"] = ds.z\n",
    "    \n",
    "    # We assume that all time steps are equal\n",
    "    # and that the time axis is measured in seconds\n",
    "    # since some reference period\n",
    "    time_axis = ds.reset_coords([\"z\", \"initial_MPA\"]).time.isel(traj=0).squeeze()\n",
    "    time_axis -= time_axis.isel(obs=0).squeeze()\n",
    "    time_axis.attrs[\"units\"] = \"seconds since start of particle\"\n",
    "    ds.coords[\"time_axis\"] = time_axis\n",
    "    \n",
    "    return ds"
   ]
  },
  {
   "cell_type": "code",
   "execution_count": 14,
   "metadata": {},
   "outputs": [],
   "source": [
    "ds_stokes = apply_assumptions(ds_stokes)\n",
    "ds_nostokes = apply_assumptions(ds_nostokes)"
   ]
  },
  {
   "cell_type": "markdown",
   "metadata": {},
   "source": [
    "## Load coordinates for quicker access\n",
    "\n",
    "So far, we did only the bare minimum of information (data types, variable names, number of time steps, ...) but did not load any of the data.  We want to continue to do so for the bulk of the data, but get coordinates and the like now."
   ]
  },
  {
   "cell_type": "code",
   "execution_count": 15,
   "metadata": {},
   "outputs": [],
   "source": [
    "def persist_coords(ds, retries=40):\n",
    "    \"\"\"Will load coordinate data to the cluster.\"\"\"\n",
    "    ds[\"z\"] = ds[\"z\"].persist(retries=retries)\n",
    "    ds[\"initial_MPA\"] = ds[\"initial_MPA\"].persist(retries=retries)\n",
    "    ds[\"time_axis\"] = ds[\"time_axis\"].persist(retries=retries)\n",
    "    return ds"
   ]
  },
  {
   "cell_type": "code",
   "execution_count": 16,
   "metadata": {},
   "outputs": [],
   "source": [
    "def compute_coords(ds, retries=40):\n",
    "    \"\"\"Will load coordinate data to the front end.\"\"\"\n",
    "    ds[\"z\"] = ds[\"z\"].compute(retries=retries)\n",
    "    ds[\"initial_MPA\"] = ds[\"initial_MPA\"].compute(retries=retries)\n",
    "    ds[\"time_axis\"] = ds[\"time_axis\"].compute(retries=retries)\n",
    "    return ds"
   ]
  },
  {
   "cell_type": "code",
   "execution_count": 17,
   "metadata": {},
   "outputs": [],
   "source": [
    "ds_stokes = persist_coords(ds_stokes)\n",
    "ds_nostokes = persist_coords(ds_nostokes)"
   ]
  },
  {
   "cell_type": "code",
   "execution_count": 18,
   "metadata": {},
   "outputs": [],
   "source": [
    "ds_stokes = compute_coords(ds_stokes)\n",
    "ds_nostokes = compute_coords(ds_nostokes)"
   ]
  },
  {
   "cell_type": "code",
   "execution_count": 19,
   "metadata": {},
   "outputs": [
    {
     "data": {
      "text/plain": [
       "<xarray.Dataset>\n",
       "Dimensions:              (obs: 962, traj: 2625480)\n",
       "Coordinates:\n",
       "    z                    (traj) float32 1.0182366 1.0182366 ... 1.0182366\n",
       "    initial_MPA          (traj) float32 1.0 1.0 1.0 1.0 1.0 ... 9.0 9.0 9.0 9.0\n",
       "    time_axis            (obs) timedelta64[ns] 00:00:00 ... 40 days 00:00:00\n",
       "Dimensions without coordinates: obs, traj\n",
       "Data variables:\n",
       "    MPA                  (traj, obs) float32 dask.array<shape=(2625480, 962), chunksize=(100000, 962)>\n",
       "    distance             (traj, obs) float32 dask.array<shape=(2625480, 962), chunksize=(100000, 962)>\n",
       "    land                 (traj, obs) float32 dask.array<shape=(2625480, 962), chunksize=(100000, 962)>\n",
       "    lat                  (traj, obs) float32 dask.array<shape=(2625480, 962), chunksize=(100000, 962)>\n",
       "    lon                  (traj, obs) float32 dask.array<shape=(2625480, 962), chunksize=(100000, 962)>\n",
       "    temp                 (traj, obs) float32 dask.array<shape=(2625480, 962), chunksize=(100000, 962)>\n",
       "    time                 (traj, obs) datetime64[ns] dask.array<shape=(2625480, 962), chunksize=(100000, 962)>\n",
       "    before_land_contact  (traj, obs) bool dask.array<shape=(2625480, 962), chunksize=(100000, 962)>\n",
       "Attributes:\n",
       "    Conventions:            CF-1.6/CF-1.7\n",
       "    feature_type:           trajectory\n",
       "    ncei_template_version:  NCEI_NetCDF_Trajectory_Template_v2.0\n",
       "    parcels_mesh:           spherical\n",
       "    parcels_version:        2.0.0b3.dev74+g9ee0f7f"
      ]
     },
     "execution_count": 19,
     "metadata": {},
     "output_type": "execute_result"
    }
   ],
   "source": [
    "ds_stokes"
   ]
  },
  {
   "cell_type": "code",
   "execution_count": 20,
   "metadata": {},
   "outputs": [
    {
     "data": {
      "text/plain": [
       "<xarray.Dataset>\n",
       "Dimensions:              (obs: 962, traj: 13188600)\n",
       "Coordinates:\n",
       "    z                    (traj) float32 1.0182366 1.0182366 ... 10.536604\n",
       "    initial_MPA          (traj) float32 1.0 1.0 1.0 1.0 1.0 ... 9.0 9.0 9.0 9.0\n",
       "    time_axis            (obs) timedelta64[ns] 00:00:00 ... 40 days 00:00:00\n",
       "Dimensions without coordinates: obs, traj\n",
       "Data variables:\n",
       "    MPA                  (traj, obs) float32 dask.array<shape=(13188600, 962), chunksize=(100000, 962)>\n",
       "    distance             (traj, obs) float32 dask.array<shape=(13188600, 962), chunksize=(100000, 962)>\n",
       "    land                 (traj, obs) float32 dask.array<shape=(13188600, 962), chunksize=(100000, 962)>\n",
       "    lat                  (traj, obs) float32 dask.array<shape=(13188600, 962), chunksize=(100000, 962)>\n",
       "    lon                  (traj, obs) float32 dask.array<shape=(13188600, 962), chunksize=(100000, 962)>\n",
       "    temp                 (traj, obs) float32 dask.array<shape=(13188600, 962), chunksize=(100000, 962)>\n",
       "    time                 (traj, obs) datetime64[ns] dask.array<shape=(13188600, 962), chunksize=(100000, 962)>\n",
       "    before_land_contact  (traj, obs) bool dask.array<shape=(13188600, 962), chunksize=(100000, 962)>\n",
       "Attributes:\n",
       "    Conventions:            CF-1.6/CF-1.7\n",
       "    feature_type:           trajectory\n",
       "    ncei_template_version:  NCEI_NetCDF_Trajectory_Template_v2.0\n",
       "    parcels_mesh:           spherical\n",
       "    parcels_version:        2.0.0b3.dev74+g9ee0f7f"
      ]
     },
     "execution_count": 20,
     "metadata": {},
     "output_type": "execute_result"
    }
   ],
   "source": [
    "ds_nostokes"
   ]
  },
  {
   "cell_type": "code",
   "execution_count": 21,
   "metadata": {},
   "outputs": [],
   "source": [
    "def get_z_values(ds):\n",
    "    \"\"\"Load unique z-values to the front end.\n",
    "    \n",
    "    This triggers a computation across all of the z-level data.\n",
    "    \"\"\"\n",
    "    z_values = da.unique(ds.z.data).compute(retries=40)\n",
    "    z_values = z_values[~np.isnan(z_values)]\n",
    "    return z_values"
   ]
  },
  {
   "cell_type": "code",
   "execution_count": 22,
   "metadata": {},
   "outputs": [],
   "source": [
    "z_values = get_z_values(ds_nostokes)"
   ]
  },
  {
   "cell_type": "code",
   "execution_count": 23,
   "metadata": {},
   "outputs": [
    {
     "name": "stdout",
     "output_type": "stream",
     "text": [
      "[ 1.0182366  3.1657474  5.4649634  7.9203773 10.536604 ]\n"
     ]
    }
   ],
   "source": [
    "print(z_values)"
   ]
  },
  {
   "cell_type": "markdown",
   "metadata": {},
   "source": [
    "## Kill based on temperature"
   ]
  },
  {
   "cell_type": "code",
   "execution_count": 24,
   "metadata": {},
   "outputs": [],
   "source": [
    "def apply_temp_range(ds, species_name):\n",
    "    # If we're close to land, temp=0 gets linearly\n",
    "    # interpolated to the particle position\n",
    "    actual_temp = ds.temp / (1 - ds.land)\n",
    "    \n",
    "    does_not_die = (\n",
    "        (actual_temp > species[species_name][\"min_temp\"])\n",
    "        & (actual_temp < species[species_name][\"max_temp\"])\n",
    "    )\n",
    "    ds[\"does_not_die\"] = does_not_die\n",
    "    \n",
    "    is_alive = (does_not_die.cumprod(\"obs\") == 1)\n",
    "    ds[\"is_alive\"] = is_alive\n",
    "    \n",
    "    return ds"
   ]
  },
  {
   "cell_type": "code",
   "execution_count": 25,
   "metadata": {},
   "outputs": [
    {
     "data": {
      "text/plain": [
       "<xarray.Dataset>\n",
       "Dimensions:              (obs: 962, traj: 13188600)\n",
       "Coordinates:\n",
       "    z                    (traj) float32 1.0182366 1.0182366 ... 10.536604\n",
       "    initial_MPA          (traj) float32 1.0 1.0 1.0 1.0 1.0 ... 9.0 9.0 9.0 9.0\n",
       "    time_axis            (obs) timedelta64[ns] 00:00:00 ... 40 days 00:00:00\n",
       "Dimensions without coordinates: obs, traj\n",
       "Data variables:\n",
       "    MPA                  (traj, obs) float32 dask.array<shape=(13188600, 962), chunksize=(100000, 962)>\n",
       "    distance             (traj, obs) float32 dask.array<shape=(13188600, 962), chunksize=(100000, 962)>\n",
       "    land                 (traj, obs) float32 dask.array<shape=(13188600, 962), chunksize=(100000, 962)>\n",
       "    lat                  (traj, obs) float32 dask.array<shape=(13188600, 962), chunksize=(100000, 962)>\n",
       "    lon                  (traj, obs) float32 dask.array<shape=(13188600, 962), chunksize=(100000, 962)>\n",
       "    temp                 (traj, obs) float32 dask.array<shape=(13188600, 962), chunksize=(100000, 962)>\n",
       "    time                 (traj, obs) datetime64[ns] dask.array<shape=(13188600, 962), chunksize=(100000, 962)>\n",
       "    before_land_contact  (traj, obs) bool dask.array<shape=(13188600, 962), chunksize=(100000, 962)>\n",
       "    does_not_die         (traj, obs) bool dask.array<shape=(13188600, 962), chunksize=(100000, 962)>\n",
       "    is_alive             (traj, obs) bool dask.array<shape=(13188600, 962), chunksize=(100000, 962)>\n",
       "Attributes:\n",
       "    Conventions:            CF-1.6/CF-1.7\n",
       "    feature_type:           trajectory\n",
       "    ncei_template_version:  NCEI_NetCDF_Trajectory_Template_v2.0\n",
       "    parcels_mesh:           spherical\n",
       "    parcels_version:        2.0.0b3.dev74+g9ee0f7f"
      ]
     },
     "execution_count": 25,
     "metadata": {},
     "output_type": "execute_result"
    }
   ],
   "source": [
    "# Pick first species. We don't have varying temperature ranges (yet?).\n",
    "ds_nostokes = apply_temp_range(ds_nostokes, \"Striped red mullet\")\n",
    "ds_nostokes"
   ]
  },
  {
   "cell_type": "code",
   "execution_count": 26,
   "metadata": {},
   "outputs": [
    {
     "data": {
      "text/plain": [
       "<xarray.Dataset>\n",
       "Dimensions:              (obs: 962, traj: 2625480)\n",
       "Coordinates:\n",
       "    z                    (traj) float32 1.0182366 1.0182366 ... 1.0182366\n",
       "    initial_MPA          (traj) float32 1.0 1.0 1.0 1.0 1.0 ... 9.0 9.0 9.0 9.0\n",
       "    time_axis            (obs) timedelta64[ns] 00:00:00 ... 40 days 00:00:00\n",
       "Dimensions without coordinates: obs, traj\n",
       "Data variables:\n",
       "    MPA                  (traj, obs) float32 dask.array<shape=(2625480, 962), chunksize=(100000, 962)>\n",
       "    distance             (traj, obs) float32 dask.array<shape=(2625480, 962), chunksize=(100000, 962)>\n",
       "    land                 (traj, obs) float32 dask.array<shape=(2625480, 962), chunksize=(100000, 962)>\n",
       "    lat                  (traj, obs) float32 dask.array<shape=(2625480, 962), chunksize=(100000, 962)>\n",
       "    lon                  (traj, obs) float32 dask.array<shape=(2625480, 962), chunksize=(100000, 962)>\n",
       "    temp                 (traj, obs) float32 dask.array<shape=(2625480, 962), chunksize=(100000, 962)>\n",
       "    time                 (traj, obs) datetime64[ns] dask.array<shape=(2625480, 962), chunksize=(100000, 962)>\n",
       "    before_land_contact  (traj, obs) bool dask.array<shape=(2625480, 962), chunksize=(100000, 962)>\n",
       "    does_not_die         (traj, obs) bool dask.array<shape=(2625480, 962), chunksize=(100000, 962)>\n",
       "    is_alive             (traj, obs) bool dask.array<shape=(2625480, 962), chunksize=(100000, 962)>\n",
       "Attributes:\n",
       "    Conventions:            CF-1.6/CF-1.7\n",
       "    feature_type:           trajectory\n",
       "    ncei_template_version:  NCEI_NetCDF_Trajectory_Template_v2.0\n",
       "    parcels_mesh:           spherical\n",
       "    parcels_version:        2.0.0b3.dev74+g9ee0f7f"
      ]
     },
     "execution_count": 26,
     "metadata": {},
     "output_type": "execute_result"
    }
   ],
   "source": [
    "ds_stokes = apply_temp_range(ds_stokes, \"Striped red mullet\")\n",
    "ds_stokes"
   ]
  },
  {
   "cell_type": "code",
   "execution_count": 27,
   "metadata": {},
   "outputs": [
    {
     "data": {
      "image/png": "[encoded data removed]",
      "text/plain": [
       "<Figure size 432x288 with 1 Axes>"
      ]
     },
     "metadata": {},
     "output_type": "display_data"
    }
   ],
   "source": [
    "ds_nostokes.is_alive.astype(\"float\").mean(\"traj\").compute(retries=40).plot(label=\"no stokes, all layers\")\n",
    "ds_stokes.is_alive.astype(\"float\").mean(\"traj\").compute(retries=40).plot(label=\"stokes, surface\");\n",
    "plt.gca().legend();"
   ]
  },
  {
   "cell_type": "code",
   "execution_count": 28,
   "metadata": {},
   "outputs": [],
   "source": [
    "# actually apply the temp range\n",
    "ds_stokes = ds_stokes.where(ds_stokes.is_alive)\n",
    "ds_nostokes = ds_nostokes.where(ds_nostokes.is_alive)"
   ]
  },
  {
   "cell_type": "markdown",
   "metadata": {},
   "source": [
    "## Construct stokes drift dataset\n",
    "\n",
    "We apply stokes drift for the uppermost level and add all deep trajectories from deeper layers."
   ]
  },
  {
   "cell_type": "code",
   "execution_count": 29,
   "metadata": {},
   "outputs": [
    {
     "data": {
      "text/plain": [
       "<xarray.Dataset>\n",
       "Dimensions:              (obs: 962, traj: 10627989)\n",
       "Coordinates:\n",
       "    z                    (traj) float32 3.1657474 3.1657474 ... 10.536604\n",
       "    initial_MPA          (traj) float32 1.0 1.0 1.0 1.0 1.0 ... 9.0 9.0 9.0 9.0\n",
       "    time_axis            (obs) timedelta64[ns] 00:00:00 ... 40 days 00:00:00\n",
       "Dimensions without coordinates: obs, traj\n",
       "Data variables:\n",
       "    MPA                  (traj, obs) float32 dask.array<shape=(10627989, 962), chunksize=(78580, 962)>\n",
       "    distance             (traj, obs) float32 dask.array<shape=(10627989, 962), chunksize=(78580, 962)>\n",
       "    land                 (traj, obs) float32 dask.array<shape=(10627989, 962), chunksize=(78580, 962)>\n",
       "    lat                  (traj, obs) float32 dask.array<shape=(10627989, 962), chunksize=(78580, 962)>\n",
       "    lon                  (traj, obs) float32 dask.array<shape=(10627989, 962), chunksize=(78580, 962)>\n",
       "    temp                 (traj, obs) float32 dask.array<shape=(10627989, 962), chunksize=(78580, 962)>\n",
       "    time                 (traj, obs) datetime64[ns] dask.array<shape=(10627989, 962), chunksize=(78580, 962)>\n",
       "    before_land_contact  (traj, obs) float64 dask.array<shape=(10627989, 962), chunksize=(78580, 962)>\n",
       "    does_not_die         (traj, obs) float64 dask.array<shape=(10627989, 962), chunksize=(78580, 962)>\n",
       "    is_alive             (traj, obs) float64 dask.array<shape=(10627989, 962), chunksize=(78580, 962)>\n",
       "Attributes:\n",
       "    Conventions:            CF-1.6/CF-1.7\n",
       "    feature_type:           trajectory\n",
       "    ncei_template_version:  NCEI_NetCDF_Trajectory_Template_v2.0\n",
       "    parcels_mesh:           spherical\n",
       "    parcels_version:        2.0.0b3.dev74+g9ee0f7f"
      ]
     },
     "execution_count": 29,
     "metadata": {},
     "output_type": "execute_result"
    }
   ],
   "source": [
    "ds_nostokes_at_depth = ds_nostokes.isel(traj=(ds_nostokes.z != z_values[0]))\n",
    "ds_nostokes_at_depth"
   ]
  },
  {
   "cell_type": "code",
   "execution_count": 30,
   "metadata": {},
   "outputs": [
    {
     "name": "stdout",
     "output_type": "stream",
     "text": [
      "<xarray.Dataset>\n",
      "Dimensions:              (obs: 962, traj: 13253469)\n",
      "Coordinates:\n",
      "    time_axis            (obs) timedelta64[ns] 00:00:00 ... 40 days 00:00:00\n",
      "    z                    (traj) float32 1.0182366 1.0182366 ... 10.536604\n",
      "    initial_MPA          (traj) float32 1.0 1.0 1.0 1.0 1.0 ... 9.0 9.0 9.0 9.0\n",
      "Dimensions without coordinates: obs, traj\n",
      "Data variables:\n",
      "    MPA                  (traj, obs) float32 dask.array<shape=(13253469, 962), chunksize=(100000, 962)>\n",
      "    distance             (traj, obs) float32 dask.array<shape=(13253469, 962), chunksize=(100000, 962)>\n",
      "    land                 (traj, obs) float32 dask.array<shape=(13253469, 962), chunksize=(100000, 962)>\n",
      "    lat                  (traj, obs) float32 dask.array<shape=(13253469, 962), chunksize=(100000, 962)>\n",
      "    lon                  (traj, obs) float32 dask.array<shape=(13253469, 962), chunksize=(100000, 962)>\n",
      "    temp                 (traj, obs) float32 dask.array<shape=(13253469, 962), chunksize=(100000, 962)>\n",
      "    time                 (traj, obs) datetime64[ns] dask.array<shape=(13253469, 962), chunksize=(100000, 962)>\n",
      "    before_land_contact  (traj, obs) float64 dask.array<shape=(13253469, 962), chunksize=(100000, 962)>\n",
      "    does_not_die         (traj, obs) float64 dask.array<shape=(13253469, 962), chunksize=(100000, 962)>\n",
      "    is_alive             (traj, obs) float64 dask.array<shape=(13253469, 962), chunksize=(100000, 962)>\n",
      "Attributes:\n",
      "    Conventions:            CF-1.6/CF-1.7\n",
      "    feature_type:           trajectory\n",
      "    ncei_template_version:  NCEI_NetCDF_Trajectory_Template_v2.0\n",
      "    parcels_mesh:           spherical\n",
      "    parcels_version:        2.0.0b3.dev74+g9ee0f7f\n",
      "714.096917416 GB\n"
     ]
    }
   ],
   "source": [
    "# define stokes experiment as stokes-drifting surface and non-stokes levels below\n",
    "ds_stokes_with_depth = xr.concat(\n",
    "    (ds_stokes, ds_nostokes_at_depth),\n",
    "    dim=\"traj\"\n",
    ")\n",
    "print(ds_stokes_with_depth)\n",
    "print(ds_stokes_with_depth.nbytes / 1e9, \"GB\")"
   ]
  },
  {
   "cell_type": "markdown",
   "metadata": {},
   "source": [
    "## Filter for spawning month\n",
    "\n",
    "Not all species spawn for the same time span.  \"White seabream\" only spawns till June.  As the physical trajectories are otherwise equivalent, we want to be able to remove those trajectories that start too late in the year:"
   ]
  },
  {
   "cell_type": "code",
   "execution_count": 31,
   "metadata": {},
   "outputs": [],
   "source": [
    "def get_spawning_month(ds):\n",
    "    ds.coords[\"spawning_month\"] = xr.DataArray(\n",
    "        pd.DatetimeIndex(ds.time.isel(obs=0).compute(retries=40).data).month,\n",
    "        dims=(\"traj\", )\n",
    "    )\n",
    "    return ds"
   ]
  },
  {
   "cell_type": "code",
   "execution_count": 32,
   "metadata": {},
   "outputs": [],
   "source": [
    "def filter_spawning_months(ds, species_name):\n",
    "    \"\"\"Remove trajectory if spawning is too late.\"\"\"\n",
    "    ds = ds.where(\n",
    "        ds.spawning_month <= species[species_name][\"latest_spawning_month\"]\n",
    "    )\n",
    "    \n",
    "    return ds"
   ]
  },
  {
   "cell_type": "code",
   "execution_count": 33,
   "metadata": {},
   "outputs": [],
   "source": [
    "ds_stokes_with_depth = get_spawning_month(ds_stokes_with_depth)\n",
    "ds_nostokes = get_spawning_month(ds_nostokes)"
   ]
  },
  {
   "cell_type": "markdown",
   "metadata": {},
   "source": [
    "## Filter for settling period"
   ]
  },
  {
   "cell_type": "code",
   "execution_count": 34,
   "metadata": {},
   "outputs": [],
   "source": [
    "def filter_settling_period(ds, species_name):\n",
    "    return ds.isel(\n",
    "        obs=slice(\n",
    "            int(species[species_name][\"settling_start_days\"] * 24),\n",
    "            int(species[species_name][\"settling_end_days\"] * 24) + 1\n",
    "        )\n",
    "    )"
   ]
  },
  {
   "cell_type": "markdown",
   "metadata": {},
   "source": [
    "## Find trajectories that _never_ touch land"
   ]
  },
  {
   "cell_type": "code",
   "execution_count": 35,
   "metadata": {},
   "outputs": [],
   "source": [
    "def get_never_touches_land(ds):\n",
    "    ds =  ds.where(ds.land.max(\"obs\") == 0)\n",
    "    return ds"
   ]
  },
  {
   "cell_type": "markdown",
   "metadata": {},
   "source": [
    "## Heat Maps"
   ]
  },
  {
   "cell_type": "code",
   "execution_count": 36,
   "metadata": {},
   "outputs": [],
   "source": [
    "def get_bnds(ds, varname):\n",
    "    var_min = ds[varname].min().persist(retries=40)\n",
    "    var_max = ds[varname].max().persist(retries=40)\n",
    "    var_bnds = [var_min.compute(), var_max.compute()]\n",
    "    return var_bnds"
   ]
  },
  {
   "cell_type": "code",
   "execution_count": 37,
   "metadata": {},
   "outputs": [],
   "source": [
    "# lat_bnds_stokes = get_bnds(ds_stokes, \"lat\")\n",
    "# lat_bnds_nostokes = get_bnds(ds_nostokes, \"lat\")\n",
    "# lat_bnds = [\n",
    "#     min(lat_bnds_stokes[0], lat_bnds_stokes[1]),\n",
    "#     max(lat_bnds_stokes[0], lat_bnds_stokes[1]),\n",
    "# ]\n",
    "\n",
    "# lon_bnds_stokes = get_bnds(ds_stokes, \"lon\")\n",
    "# lon_bnds_nostokes = get_bnds(ds_nostokes, \"lon\")\n",
    "# lon_bnds = [\n",
    "#     min(lon_bnds_stokes[0], lon_bnds_stokes[1]),\n",
    "#     max(lon_bnds_stokes[0], lon_bnds_stokes[1]),\n",
    "# ]"
   ]
  },
  {
   "cell_type": "code",
   "execution_count": 38,
   "metadata": {},
   "outputs": [],
   "source": [
    "# print(\"lat_bnds\", lat_bnds)\n",
    "# print(\"lon_bnds\", lon_bnds)"
   ]
  },
  {
   "cell_type": "code",
   "execution_count": 39,
   "metadata": {},
   "outputs": [],
   "source": [
    "lat_bnds = [35.0, 44.0]\n",
    "lon_bnds = [-6.0, 10.0]"
   ]
  },
  {
   "cell_type": "code",
   "execution_count": 40,
   "metadata": {},
   "outputs": [],
   "source": [
    "lat_bins = np.linspace(lat_bnds[0], lat_bnds[1], n_lat_bins + 1)\n",
    "lon_bins = np.linspace(lon_bnds[0], lon_bnds[1], n_lon_bins + 1)"
   ]
  },
  {
   "cell_type": "code",
   "execution_count": 41,
   "metadata": {},
   "outputs": [],
   "source": [
    "def heat_map(ds):\n",
    "    heat_map = xhist(\n",
    "        ds.lat,\n",
    "        ds.lon,\n",
    "        bins=[lat_bins, lon_bins],\n",
    "        dim=[\"traj\", \"obs\"]\n",
    "    )\n",
    "    \n",
    "    heat_map = heat_map.where(heat_map > 0)\n",
    "        \n",
    "    return heat_map"
   ]
  },
  {
   "cell_type": "code",
   "execution_count": 42,
   "metadata": {},
   "outputs": [],
   "source": [
    "def get_heat_maps(ds_stokes=None, ds_nostokes=None, species_name=None):\n",
    "\n",
    "    ds_stokes_current = filter_settling_period(ds_stokes, species_name)\n",
    "    ds_stokes_current = filter_spawning_months(ds_stokes_current, species_name)\n",
    "\n",
    "    ds_nostokes_current = filter_settling_period(ds_nostokes, species_name)\n",
    "    ds_nostokes_current = filter_spawning_months(ds_nostokes_current, species_name)\n",
    "    \n",
    "    list_of_heat_maps = []\n",
    "    for current_MPA in range(1, 10):\n",
    "        list_of_heat_maps += [\n",
    "            {\n",
    "                f\"stokes {species_name} noslip {current_MPA}\": heat_map(\n",
    "                    ds_stokes_current.where(ds_stokes_current.initial_MPA == current_MPA)\n",
    "                ),\n",
    "\n",
    "                f\"nostokes {species_name} noslip {current_MPA}\": heat_map(\n",
    "                    ds_nostokes.where(ds_nostokes.initial_MPA == current_MPA)\n",
    "                ),\n",
    "\n",
    "                f\"stokes {species_name} neverbeaches {current_MPA}\": heat_map(\n",
    "                    get_never_touches_land(\n",
    "                        ds_stokes_current.where(ds_stokes_current.initial_MPA == current_MPA)\n",
    "                    )\n",
    "                ),\n",
    "\n",
    "                f\"nostokes {species_name} neverbeaches {current_MPA}\": heat_map(\n",
    "                    get_never_touches_land(\n",
    "                        ds_nostokes_current.where(ds_nostokes_current.initial_MPA == current_MPA)\n",
    "                    )\n",
    "                )\n",
    "            },\n",
    "        ]\n",
    "        print(\"MPA:\", current_MPA, \"species:\", species_name, \"... done\")\n",
    "    \n",
    "    heat_maps = {}\n",
    "    for hm in list_of_heat_maps:\n",
    "        heat_maps.update(hm)\n",
    "    \n",
    "    return heat_maps    "
   ]
  },
  {
   "cell_type": "code",
   "execution_count": 43,
   "metadata": {},
   "outputs": [
    {
     "name": "stdout",
     "output_type": "stream",
     "text": [
      "MPA: 1 species: Striped red mullet ... done\n",
      "MPA: 2 species: Striped red mullet ... done\n",
      "MPA: 3 species: Striped red mullet ... done\n",
      "MPA: 4 species: Striped red mullet ... done\n",
      "MPA: 5 species: Striped red mullet ... done\n",
      "MPA: 6 species: Striped red mullet ... done\n",
      "MPA: 7 species: Striped red mullet ... done\n",
      "MPA: 8 species: Striped red mullet ... done\n",
      "MPA: 9 species: Striped red mullet ... done\n",
      "MPA: 1 species: White seabream ... done\n",
      "MPA: 2 species: White seabream ... done\n",
      "MPA: 3 species: White seabream ... done\n",
      "MPA: 4 species: White seabream ... done\n",
      "MPA: 5 species: White seabream ... done\n",
      "MPA: 6 species: White seabream ... done\n",
      "MPA: 7 species: White seabream ... done\n",
      "MPA: 8 species: White seabream ... done\n",
      "MPA: 9 species: White seabream ... done\n",
      "MPA: 1 species: Comber ... done\n",
      "MPA: 2 species: Comber ... done\n",
      "MPA: 3 species: Comber ... done\n",
      "MPA: 4 species: Comber ... done\n",
      "MPA: 5 species: Comber ... done\n",
      "MPA: 6 species: Comber ... done\n",
      "MPA: 7 species: Comber ... done\n",
      "MPA: 8 species: Comber ... done\n",
      "MPA: 9 species: Comber ... done\n"
     ]
    }
   ],
   "source": [
    "heat_maps = list(\n",
    "    map(\n",
    "        lambda sp: get_heat_maps(\n",
    "            ds_stokes=ds_stokes_with_depth,\n",
    "            ds_nostokes=ds_nostokes,\n",
    "            species_name=sp),\n",
    "        species.keys()\n",
    "    )\n",
    ")"
   ]
  },
  {
   "cell_type": "code",
   "execution_count": 44,
   "metadata": {},
   "outputs": [
    {
     "name": "stdout",
     "output_type": "stream",
     "text": [
      "dict_keys(['stokes Striped red mullet noslip 1', 'nostokes Striped red mullet noslip 1', 'stokes Striped red mullet neverbeaches 1', 'nostokes Striped red mullet neverbeaches 1', 'stokes Striped red mullet noslip 2', 'nostokes Striped red mullet noslip 2', 'stokes Striped red mullet neverbeaches 2', 'nostokes Striped red mullet neverbeaches 2', 'stokes Striped red mullet noslip 3', 'nostokes Striped red mullet noslip 3', 'stokes Striped red mullet neverbeaches 3', 'nostokes Striped red mullet neverbeaches 3', 'stokes Striped red mullet noslip 4', 'nostokes Striped red mullet noslip 4', 'stokes Striped red mullet neverbeaches 4', 'nostokes Striped red mullet neverbeaches 4', 'stokes Striped red mullet noslip 5', 'nostokes Striped red mullet noslip 5', 'stokes Striped red mullet neverbeaches 5', 'nostokes Striped red mullet neverbeaches 5', 'stokes Striped red mullet noslip 6', 'nostokes Striped red mullet noslip 6', 'stokes Striped red mullet neverbeaches 6', 'nostokes Striped red mullet neverbeaches 6', 'stokes Striped red mullet noslip 7', 'nostokes Striped red mullet noslip 7', 'stokes Striped red mullet neverbeaches 7', 'nostokes Striped red mullet neverbeaches 7', 'stokes Striped red mullet noslip 8', 'nostokes Striped red mullet noslip 8', 'stokes Striped red mullet neverbeaches 8', 'nostokes Striped red mullet neverbeaches 8', 'stokes Striped red mullet noslip 9', 'nostokes Striped red mullet noslip 9', 'stokes Striped red mullet neverbeaches 9', 'nostokes Striped red mullet neverbeaches 9'])\n",
      "dict_keys(['stokes White seabream noslip 1', 'nostokes White seabream noslip 1', 'stokes White seabream neverbeaches 1', 'nostokes White seabream neverbeaches 1', 'stokes White seabream noslip 2', 'nostokes White seabream noslip 2', 'stokes White seabream neverbeaches 2', 'nostokes White seabream neverbeaches 2', 'stokes White seabream noslip 3', 'nostokes White seabream noslip 3', 'stokes White seabream neverbeaches 3', 'nostokes White seabream neverbeaches 3', 'stokes White seabream noslip 4', 'nostokes White seabream noslip 4', 'stokes White seabream neverbeaches 4', 'nostokes White seabream neverbeaches 4', 'stokes White seabream noslip 5', 'nostokes White seabream noslip 5', 'stokes White seabream neverbeaches 5', 'nostokes White seabream neverbeaches 5', 'stokes White seabream noslip 6', 'nostokes White seabream noslip 6', 'stokes White seabream neverbeaches 6', 'nostokes White seabream neverbeaches 6', 'stokes White seabream noslip 7', 'nostokes White seabream noslip 7', 'stokes White seabream neverbeaches 7', 'nostokes White seabream neverbeaches 7', 'stokes White seabream noslip 8', 'nostokes White seabream noslip 8', 'stokes White seabream neverbeaches 8', 'nostokes White seabream neverbeaches 8', 'stokes White seabream noslip 9', 'nostokes White seabream noslip 9', 'stokes White seabream neverbeaches 9', 'nostokes White seabream neverbeaches 9'])\n",
      "dict_keys(['stokes Comber noslip 1', 'nostokes Comber noslip 1', 'stokes Comber neverbeaches 1', 'nostokes Comber neverbeaches 1', 'stokes Comber noslip 2', 'nostokes Comber noslip 2', 'stokes Comber neverbeaches 2', 'nostokes Comber neverbeaches 2', 'stokes Comber noslip 3', 'nostokes Comber noslip 3', 'stokes Comber neverbeaches 3', 'nostokes Comber neverbeaches 3', 'stokes Comber noslip 4', 'nostokes Comber noslip 4', 'stokes Comber neverbeaches 4', 'nostokes Comber neverbeaches 4', 'stokes Comber noslip 5', 'nostokes Comber noslip 5', 'stokes Comber neverbeaches 5', 'nostokes Comber neverbeaches 5', 'stokes Comber noslip 6', 'nostokes Comber noslip 6', 'stokes Comber neverbeaches 6', 'nostokes Comber neverbeaches 6', 'stokes Comber noslip 7', 'nostokes Comber noslip 7', 'stokes Comber neverbeaches 7', 'nostokes Comber neverbeaches 7', 'stokes Comber noslip 8', 'nostokes Comber noslip 8', 'stokes Comber neverbeaches 8', 'nostokes Comber neverbeaches 8', 'stokes Comber noslip 9', 'nostokes Comber noslip 9', 'stokes Comber neverbeaches 9', 'nostokes Comber neverbeaches 9'])\n"
     ]
    }
   ],
   "source": [
    "print(heat_maps[0].keys())\n",
    "print(heat_maps[1].keys())\n",
    "print(heat_maps[2].keys())"
   ]
  },
  {
   "cell_type": "code",
   "execution_count": 45,
   "metadata": {},
   "outputs": [],
   "source": [
    "heat_maps_combined = {}\n",
    "for n in range(len(species)):\n",
    "    heat_maps_combined.update(heat_maps[n])"
   ]
  },
  {
   "cell_type": "code",
   "execution_count": null,
   "metadata": {},
   "outputs": [],
   "source": [
    "xr.ufuncs.log10(\n",
    "    sum((\n",
    "        heat_maps_combined[f'stokes Striped red mullet noslip {MPA}']\n",
    "        for MPA in range(1, 10)\n",
    "    ))\n",
    ").compute(retries=40).plot();"
   ]
  },
  {
   "cell_type": "code",
   "execution_count": 46,
   "metadata": {},
   "outputs": [
    {
     "data": {
      "text/plain": [
       "dict_keys(['stokes Striped red mullet noslip 1', 'nostokes Striped red mullet noslip 1', 'stokes Striped red mullet neverbeaches 1', 'nostokes Striped red mullet neverbeaches 1', 'stokes Striped red mullet noslip 2', 'nostokes Striped red mullet noslip 2', 'stokes Striped red mullet neverbeaches 2', 'nostokes Striped red mullet neverbeaches 2', 'stokes Striped red mullet noslip 3', 'nostokes Striped red mullet noslip 3', 'stokes Striped red mullet neverbeaches 3', 'nostokes Striped red mullet neverbeaches 3', 'stokes Striped red mullet noslip 4', 'nostokes Striped red mullet noslip 4', 'stokes Striped red mullet neverbeaches 4', 'nostokes Striped red mullet neverbeaches 4', 'stokes Striped red mullet noslip 5', 'nostokes Striped red mullet noslip 5', 'stokes Striped red mullet neverbeaches 5', 'nostokes Striped red mullet neverbeaches 5', 'stokes Striped red mullet noslip 6', 'nostokes Striped red mullet noslip 6', 'stokes Striped red mullet neverbeaches 6', 'nostokes Striped red mullet neverbeaches 6', 'stokes Striped red mullet noslip 7', 'nostokes Striped red mullet noslip 7', 'stokes Striped red mullet neverbeaches 7', 'nostokes Striped red mullet neverbeaches 7', 'stokes Striped red mullet noslip 8', 'nostokes Striped red mullet noslip 8', 'stokes Striped red mullet neverbeaches 8', 'nostokes Striped red mullet neverbeaches 8', 'stokes Striped red mullet noslip 9', 'nostokes Striped red mullet noslip 9', 'stokes Striped red mullet neverbeaches 9', 'nostokes Striped red mullet neverbeaches 9', 'stokes White seabream noslip 1', 'nostokes White seabream noslip 1', 'stokes White seabream neverbeaches 1', 'nostokes White seabream neverbeaches 1', 'stokes White seabream noslip 2', 'nostokes White seabream noslip 2', 'stokes White seabream neverbeaches 2', 'nostokes White seabream neverbeaches 2', 'stokes White seabream noslip 3', 'nostokes White seabream noslip 3', 'stokes White seabream neverbeaches 3', 'nostokes White seabream neverbeaches 3', 'stokes White seabream noslip 4', 'nostokes White seabream noslip 4', 'stokes White seabream neverbeaches 4', 'nostokes White seabream neverbeaches 4', 'stokes White seabream noslip 5', 'nostokes White seabream noslip 5', 'stokes White seabream neverbeaches 5', 'nostokes White seabream neverbeaches 5', 'stokes White seabream noslip 6', 'nostokes White seabream noslip 6', 'stokes White seabream neverbeaches 6', 'nostokes White seabream neverbeaches 6', 'stokes White seabream noslip 7', 'nostokes White seabream noslip 7', 'stokes White seabream neverbeaches 7', 'nostokes White seabream neverbeaches 7', 'stokes White seabream noslip 8', 'nostokes White seabream noslip 8', 'stokes White seabream neverbeaches 8', 'nostokes White seabream neverbeaches 8', 'stokes White seabream noslip 9', 'nostokes White seabream noslip 9', 'stokes White seabream neverbeaches 9', 'nostokes White seabream neverbeaches 9', 'stokes Comber noslip 1', 'nostokes Comber noslip 1', 'stokes Comber neverbeaches 1', 'nostokes Comber neverbeaches 1', 'stokes Comber noslip 2', 'nostokes Comber noslip 2', 'stokes Comber neverbeaches 2', 'nostokes Comber neverbeaches 2', 'stokes Comber noslip 3', 'nostokes Comber noslip 3', 'stokes Comber neverbeaches 3', 'nostokes Comber neverbeaches 3', 'stokes Comber noslip 4', 'nostokes Comber noslip 4', 'stokes Comber neverbeaches 4', 'nostokes Comber neverbeaches 4', 'stokes Comber noslip 5', 'nostokes Comber noslip 5', 'stokes Comber neverbeaches 5', 'nostokes Comber neverbeaches 5', 'stokes Comber noslip 6', 'nostokes Comber noslip 6', 'stokes Comber neverbeaches 6', 'nostokes Comber neverbeaches 6', 'stokes Comber noslip 7', 'nostokes Comber noslip 7', 'stokes Comber neverbeaches 7', 'nostokes Comber neverbeaches 7', 'stokes Comber noslip 8', 'nostokes Comber noslip 8', 'stokes Comber neverbeaches 8', 'nostokes Comber neverbeaches 8', 'stokes Comber noslip 9', 'nostokes Comber noslip 9', 'stokes Comber neverbeaches 9', 'nostokes Comber neverbeaches 9'])"
      ]
     },
     "execution_count": 46,
     "metadata": {},
     "output_type": "execute_result"
    }
   ],
   "source": [
    "heat_maps_combined.keys()"
   ]
  },
  {
   "cell_type": "code",
   "execution_count": null,
   "metadata": {},
   "outputs": [],
   "source": [
    "for hm in heat_maps_combined:\n",
    "    heat_maps_combined[hm] = heat_maps_combined[hm].persist(retries=40)\n",
    "    print(hm)"
   ]
  },
  {
   "cell_type": "code",
   "execution_count": 50,
   "metadata": {},
   "outputs": [
    {
     "data": {
      "image/png": "[encoded data removed]",
      "text/plain": [
       "<Figure size 972x648 with 2 Axes>"
      ]
     },
     "metadata": {},
     "output_type": "display_data"
    }
   ],
   "source": [
    "xr.ufuncs.log10(\n",
    "    heat_maps_combined[\"stokes Comber noslip 1\"]\n",
    ").compute(retries=40).plot(size=9);"
   ]
  },
  {
   "cell_type": "code",
   "execution_count": null,
   "metadata": {},
   "outputs": [],
   "source": [
    "def get_connectivity_matrices(ds_stokes=None, ds_nostokes=None, species_name=None):\n",
    "\n",
    "    ds_stokes_current = filter_settling_period(ds_stokes, species_name)\n",
    "    ds_stokes_current = filter_spawning_months(ds_stokes_current, species_name)\n",
    "\n",
    "    ds_nostokes_current = filter_settling_period(ds_nostokes, species_name)\n",
    "    ds_nostokes_current = filter_spawning_months(ds_nostokes_current, species_name)\n",
    "    \n",
    "    connectivity_matrices = {\n",
    "        f\"stokes {species_name} noslip\": MPA_connectivity_matrix(ds_stokes_current),\n",
    "        \n",
    "        f\"nostokes {species_name} noslip\": MPA_connectivity_matrix(ds_nostokes),\n",
    "        \n",
    "        f\"stokes {species_name} neverbeaches\": MPA_connectivity_matrix(\n",
    "            get_never_touches_land(\n",
    "                ds_stokes_current\n",
    "            )\n",
    "        ),\n",
    "        \n",
    "        f\"nostokes {species_name} neverbeaches\": MPA_connectivity_matrix(\n",
    "            get_never_touches_land(\n",
    "                ds_nostokes_current\n",
    "            )\n",
    "        )\n",
    "    }\n",
    "    \n",
    "    return connectivity_matrices"
   ]
  },
  {
   "cell_type": "code",
   "execution_count": null,
   "metadata": {},
   "outputs": [],
   "source": [
    "con_mats = [\n",
    "    get_connectivity_matrices(\n",
    "        ds_stokes=ds_stokes_with_depth,\n",
    "        ds_nostokes=ds_nostokes,\n",
    "        species_name=sn)\n",
    "    for sn in species.keys()\n",
    "]"
   ]
  },
  {
   "cell_type": "code",
   "execution_count": null,
   "metadata": {},
   "outputs": [],
   "source": [
    "connectivity_matrices = {}\n",
    "for cm in con_mats:\n",
    "    connectivity_matrices.update(cm)"
   ]
  },
  {
   "cell_type": "code",
   "execution_count": null,
   "metadata": {},
   "outputs": [],
   "source": [
    "connectivity_matrices.keys()"
   ]
  },
  {
   "cell_type": "code",
   "execution_count": null,
   "metadata": {},
   "outputs": [],
   "source": [
    "connectivity_matrices = {\n",
    "    k: cm.persist(retries=40) for k, cm in connectivity_matrices.items()\n",
    "}"
   ]
  },
  {
   "cell_type": "code",
   "execution_count": null,
   "metadata": {},
   "outputs": [],
   "source": [
    "connectivity_matrices = {\n",
    "    k: cm.compute(retries=40) for k, cm in connectivity_matrices.items()\n",
    "}"
   ]
  },
  {
   "cell_type": "markdown",
   "metadata": {},
   "source": [
    "### With noslip in-shore closure"
   ]
  },
  {
   "cell_type": "code",
   "execution_count": null,
   "metadata": {},
   "outputs": [],
   "source": [
    "def normalize_cm(cm):\n",
    "    return cm / cm.sum(\"MPA_bin\")"
   ]
  },
  {
   "cell_type": "code",
   "execution_count": null,
   "metadata": {},
   "outputs": [],
   "source": [
    "from matplotlib.colors import LogNorm\n",
    "from matplotlib.ticker import LogLocator\n",
    "import math"
   ]
  },
  {
   "cell_type": "code",
   "execution_count": null,
   "metadata": {},
   "outputs": [],
   "source": [
    "!mkdir -p plots/"
   ]
  },
  {
   "cell_type": "code",
   "execution_count": null,
   "metadata": {},
   "outputs": [],
   "source": [
    "for k, _cm in connectivity_matrices.items():\n",
    "    sns.heatmap(\n",
    "        normalize_cm(_cm).to_pandas(),\n",
    "        cmap=\"viridis\", square=True, vmin=0.001, vmax=1,\n",
    "        norm=LogNorm(vmin=0.001, vmax=1),\n",
    "        cbar_kws={\"ticks\": \n",
    "                  [math.pow(10, i) for i in range(-5, 2)]\n",
    "                 });\n",
    "    plt.gca().set_title(k)\n",
    "    plt.savefig(f\"plots/connectivity_matrix_{k.replace(' ', '_')}_normalized.png\")\n",
    "    plt.savefig(f\"plots/connectivity_matrix_{k.replace(' ', '_')}_normalized.pdf\")\n",
    "    plt.show();"
   ]
  },
  {
   "cell_type": "code",
   "execution_count": null,
   "metadata": {},
   "outputs": [],
   "source": [
    "!mkdir -p output_data/"
   ]
  },
  {
   "cell_type": "code",
   "execution_count": null,
   "metadata": {},
   "outputs": [],
   "source": [
    "for k, cm in connectivity_matrices.items():\n",
    "    normalize_cm(cm).to_pandas().to_csv(f\"output_data/connectivity_matrix_{k.replace(' ', '_')}_normalized.csv\")"
   ]
  },
  {
   "cell_type": "markdown",
   "metadata": {},
   "source": [
    "# Technical documentation\n",
    "\n",
    "Lists the whole working environment."
   ]
  },
  {
   "cell_type": "code",
   "execution_count": null,
   "metadata": {},
   "outputs": [],
   "source": [
    "%pip list"
   ]
  },
  {
   "cell_type": "code",
   "execution_count": null,
   "metadata": {},
   "outputs": [],
   "source": [
    "%conda list --explicit"
   ]
  }
 ],
 "metadata": {
  "kernelspec": {
   "display_name": "Python 3",
   "language": "python",
   "name": "python3"
  },
  "language_info": {
   "codemirror_mode": {
    "name": "ipython",
    "version": 3
   },
   "file_extension": ".py",
   "mimetype": "text/x-python",
   "name": "python",
   "nbconvert_exporter": "python",
   "pygments_lexer": "ipython3",
   "version": "3.7.3"
  }
 },
 "nbformat": 4,
 "nbformat_minor": 4
}

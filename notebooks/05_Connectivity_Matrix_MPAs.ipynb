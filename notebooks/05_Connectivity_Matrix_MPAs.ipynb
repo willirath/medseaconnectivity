{
 "cells": [
  {
   "cell_type": "code",
   "execution_count": 1,
   "metadata": {},
   "outputs": [],
   "source": [
    "# Workaround to ensure lazy evaluation of xhistorams\n",
    "# see https://github.com/xgcm/xhistogram/issues/12\n",
    "\n",
    "import os\n",
    "os.environ[\"NUMPY_EXPERIMENTAL_ARRAY_FUNCTION\"] = \"0\""
   ]
  },
  {
   "cell_type": "markdown",
   "metadata": {},
   "source": [
    "# MPA-MPA connectivity"
   ]
  },
  {
   "cell_type": "markdown",
   "metadata": {},
   "source": [
    "## TODO:\n",
    "\n",
    "- [ ] Filter land contact / don't filter land contact\n",
    "- [ ] Rename MPAs from 1..9 to real names\n",
    "- [ ] Account for latest spawning month\n",
    "- [ ] Create CSV files"
   ]
  },
  {
   "cell_type": "code",
   "execution_count": 2,
   "metadata": {},
   "outputs": [],
   "source": [
    "# parameters\n",
    "dataset_version = \"v2019.09.11.2\"\n",
    "bucket_stokes = f\"pangeo-parcels/med_sea_connectivity_{dataset_version}/traj_data_with_stokes.zarr\"\n",
    "bucket_nostokes = f\"pangeo-parcels/med_sea_connectivity_{dataset_version}/traj_data_without_stokes.zarr\"\n",
    "\n",
    "species = {\n",
    "    \"Striped red mullet\": {\n",
    "        \"settling_start_days\": 25,\n",
    "        \"settling_end_days\": 35,\n",
    "        \"min_temp\": 10.0,\n",
    "        \"max_temp\": 28.0,\n",
    "        \"latest_spawning_month\": None\n",
    "    },\n",
    "    \"White seabream\": {\n",
    "        \"settling_start_days\": 26,\n",
    "        \"settling_end_days\": 30,\n",
    "        \"min_temp\": 10.0,\n",
    "        \"max_temp\": 28.0,\n",
    "        \"latest_spawning_month\": None\n",
    "    },\n",
    "    \"Comber\": {\n",
    "        \"settling_start_days\": 21,\n",
    "        \"settling_end_days\": 28,\n",
    "        \"min_temp\": 10.0,\n",
    "        \"max_temp\": 28.0,\n",
    "        \"latest_spawning_month\": None\n",
    "    }\n",
    "}\n",
    "\n",
    "filter_warnings = \"ignore\"  # No warnings will bother you.  Change for debugging."
   ]
  },
  {
   "cell_type": "code",
   "execution_count": 3,
   "metadata": {},
   "outputs": [],
   "source": [
    "import warnings\n",
    "warnings.filterwarnings(filter_warnings)"
   ]
  },
  {
   "cell_type": "markdown",
   "metadata": {},
   "source": [
    "## Load all modules and spin up a Dask cluster"
   ]
  },
  {
   "cell_type": "code",
   "execution_count": 4,
   "metadata": {},
   "outputs": [],
   "source": [
    "%matplotlib inline\n",
    "from dask import array as da\n",
    "import numpy as np\n",
    "import xarray as xr\n",
    "from gcsfs.mapping import GCSMap\n",
    "from xhistogram.xarray import histogram as xhist\n",
    "from matplotlib import pyplot as plt\n",
    "import pandas as pd\n",
    "from dask import delayed"
   ]
  },
  {
   "cell_type": "code",
   "execution_count": 5,
   "metadata": {},
   "outputs": [
    {
     "data": {
      "text/html": [
       "<table style=\"border: 2px solid white;\">\n",
       "<tr>\n",
       "<td style=\"vertical-align: top; border: 0px solid white\">\n",
       "<h3 style=\"text-align: left;\">Client</h3>\n",
       "<ul style=\"text-align: left; list-style: none; margin: 0; padding: 0;\">\n",
       "  <li><b>Scheduler: </b>tcp://10.32.60.88:39621</li>\n",
       "  <li><b>Dashboard: </b><a href='/user/0000-0003-1951-8494/proxy/8787/status' target='_blank'>/user/0000-0003-1951-8494/proxy/8787/status</a>\n",
       "</ul>\n",
       "</td>\n",
       "<td style=\"vertical-align: top; border: 0px solid white\">\n",
       "<h3 style=\"text-align: left;\">Cluster</h3>\n",
       "<ul style=\"text-align: left; list-style:none; margin: 0; padding: 0;\">\n",
       "  <li><b>Workers: </b>0</li>\n",
       "  <li><b>Cores: </b>0</li>\n",
       "  <li><b>Memory: </b>0 B</li>\n",
       "</ul>\n",
       "</td>\n",
       "</tr>\n",
       "</table>"
      ],
      "text/plain": [
       "<Client: scheduler='tcp://10.32.60.88:39621' processes=0 cores=0>"
      ]
     },
     "execution_count": 5,
     "metadata": {},
     "output_type": "execute_result"
    }
   ],
   "source": [
    "from dask.distributed import Client, progress\n",
    "\n",
    "from dask_kubernetes import KubeCluster\n",
    "cluster = KubeCluster(n_workers=10)\n",
    "cluster.adapt(minimum=10, maximum=150, wait_count=15)\n",
    "\n",
    "client = Client(cluster)\n",
    "client"
   ]
  },
  {
   "cell_type": "markdown",
   "metadata": {},
   "source": [
    "** ☝️ Don't forget to click the link above to view the scheduler dashboard! **"
   ]
  },
  {
   "cell_type": "markdown",
   "metadata": {},
   "source": [
    "## Load data\n",
    "\n",
    "All trajectories are stored in a Google Cloud Storage bucket. We want to be able to load and filter all trajectories easily.  To this end, we load all the datasets (lazily), filter them to different parameters (starting MPA, depth, stokes drift), and store a Pandas dataframe with virtual sub-datasets for each combination of the parameters.  This Pandas dataframe will be pickled for later re-use."
   ]
  },
  {
   "cell_type": "code",
   "execution_count": 6,
   "metadata": {},
   "outputs": [],
   "source": [
    "def open_dataset(bucket, restrict_to_MPA=None, restrict_to_z=None):\n",
    "    # load data\n",
    "    gcsmap = GCSMap(bucket)\n",
    "    ds = xr.open_zarr(gcsmap, decode_cf=False)\n",
    "    \n",
    "    # get info on starting region and make it an easy-to-look-up coord\n",
    "    initial_MPA = ds.MPA.isel(obs=0).squeeze()\n",
    "    ds.coords[\"initial_MPA\"] = initial_MPA\n",
    "     \n",
    "    # add mask that is False after land contact\n",
    "    ds[\"before_land_contact\"] = ((ds.land == 0).cumprod(\"obs\") == 1)\n",
    "      \n",
    "    return ds"
   ]
  },
  {
   "cell_type": "code",
   "execution_count": 7,
   "metadata": {},
   "outputs": [],
   "source": [
    "ds_stokes = open_dataset(bucket_stokes)\n",
    "ds_nostokes = open_dataset(bucket_nostokes)"
   ]
  },
  {
   "cell_type": "markdown",
   "metadata": {},
   "source": [
    "## Simplify\n",
    "\n",
    "We know a few things about our data that make it easier to deal with them:\n",
    "\n",
    "- No vertical migration.  Hence, initial depth of a particle is valid for all times.\n",
    "\n",
    "- All time steps are the same. Hence, we can easily build a relative time axis that is valid for all particles."
   ]
  },
  {
   "cell_type": "code",
   "execution_count": 8,
   "metadata": {},
   "outputs": [],
   "source": [
    "def apply_assumptions(ds):\n",
    "    \"\"\"Applies simplifications to the dataset that are valid for the \n",
    "    specific set of experiments we're dealing with here.\n",
    "    \n",
    "    Be careful when applying these to new experiments, because\n",
    "    they might not apply.\n",
    "    \"\"\"\n",
    "    # We assume no vertical migration and hence\n",
    "    # make (non-changing) depth level an easy to look up coord\n",
    "    z = ds.z.isel(obs=0).squeeze()\n",
    "    ds[\"z\"] = z\n",
    "    ds.coords[\"z\"] = ds.z\n",
    "    \n",
    "    # We assume that all time steps are equal\n",
    "    # and that the time axis is measured in seconds\n",
    "    # since some reference period\n",
    "    time_axis = ds.reset_coords([\"z\", \"initial_MPA\"]).time.isel(traj=0).squeeze()\n",
    "    time_axis -= time_axis.isel(obs=0).squeeze()\n",
    "    time_axis.attrs[\"units\"] = \"seconds since start of particle\"\n",
    "    ds.coords[\"time_axis\"] = time_axis\n",
    "    \n",
    "    return ds"
   ]
  },
  {
   "cell_type": "code",
   "execution_count": 9,
   "metadata": {},
   "outputs": [],
   "source": [
    "ds_stokes = apply_assumptions(ds_stokes)\n",
    "ds_nostokes = apply_assumptions(ds_nostokes)"
   ]
  },
  {
   "cell_type": "markdown",
   "metadata": {},
   "source": [
    "## Load coordinates for quicker access\n",
    "\n",
    "So far, we did only the bare minimum of information (data types, variable names, number of time steps, ...) but did not load any of the data.  We want to continue to do so for the bulk of the data, but get coordinates and the like now."
   ]
  },
  {
   "cell_type": "code",
   "execution_count": 10,
   "metadata": {},
   "outputs": [],
   "source": [
    "def persist_coords(ds, retries=40):\n",
    "    \"\"\"Will load coordinate data to the cluster.\"\"\"\n",
    "    ds[\"z\"] = ds[\"z\"].persist(retries=retries)\n",
    "    ds[\"initial_MPA\"] = ds[\"initial_MPA\"].persist(retries=retries)\n",
    "    ds[\"time_axis\"] = ds[\"time_axis\"].persist(retries=retries)\n",
    "    return ds"
   ]
  },
  {
   "cell_type": "code",
   "execution_count": 11,
   "metadata": {},
   "outputs": [],
   "source": [
    "def compute_coords(ds, retries=40):\n",
    "    \"\"\"Will load coordinate data to the front end.\"\"\"\n",
    "    ds[\"z\"] = ds[\"z\"].compute(retries=retries)\n",
    "    ds[\"initial_MPA\"] = ds[\"initial_MPA\"].compute(retries=retries)\n",
    "    ds[\"time_axis\"] = ds[\"time_axis\"].compute(retries=retries)\n",
    "    return ds"
   ]
  },
  {
   "cell_type": "code",
   "execution_count": 12,
   "metadata": {},
   "outputs": [],
   "source": [
    "ds_stokes = persist_coords(ds_stokes)\n",
    "ds_nostokes = persist_coords(ds_nostokes)"
   ]
  },
  {
   "cell_type": "code",
   "execution_count": 13,
   "metadata": {},
   "outputs": [],
   "source": [
    "ds_stokes = compute_coords(ds_stokes)\n",
    "ds_nostokes = compute_coords(ds_nostokes)"
   ]
  },
  {
   "cell_type": "code",
   "execution_count": 14,
   "metadata": {},
   "outputs": [
    {
     "data": {
      "text/plain": [
       "<xarray.Dataset>\n",
       "Dimensions:              (obs: 962, traj: 2625480)\n",
       "Coordinates:\n",
       "    z                    (traj) float32 1.0182366 1.0182366 ... 1.0182366\n",
       "    initial_MPA          (traj) float32 1.0 1.0 1.0 1.0 1.0 ... 9.0 9.0 9.0 9.0\n",
       "    time_axis            (obs) float64 0.0 3.6e+03 ... 3.456e+06 3.456e+06\n",
       "Dimensions without coordinates: obs, traj\n",
       "Data variables:\n",
       "    MPA                  (traj, obs) float32 dask.array<shape=(2625480, 962), chunksize=(100000, 962)>\n",
       "    distance             (traj, obs) float32 dask.array<shape=(2625480, 962), chunksize=(100000, 962)>\n",
       "    land                 (traj, obs) float32 dask.array<shape=(2625480, 962), chunksize=(100000, 962)>\n",
       "    lat                  (traj, obs) float32 dask.array<shape=(2625480, 962), chunksize=(100000, 962)>\n",
       "    lon                  (traj, obs) float32 dask.array<shape=(2625480, 962), chunksize=(100000, 962)>\n",
       "    temp                 (traj, obs) float32 dask.array<shape=(2625480, 962), chunksize=(100000, 962)>\n",
       "    time                 (traj, obs) float64 dask.array<shape=(2625480, 962), chunksize=(100000, 962)>\n",
       "    before_land_contact  (traj, obs) bool dask.array<shape=(2625480, 962), chunksize=(100000, 962)>\n",
       "Attributes:\n",
       "    Conventions:            CF-1.6/CF-1.7\n",
       "    feature_type:           trajectory\n",
       "    ncei_template_version:  NCEI_NetCDF_Trajectory_Template_v2.0\n",
       "    parcels_mesh:           spherical\n",
       "    parcels_version:        2.0.0b3.dev74+g9ee0f7f"
      ]
     },
     "execution_count": 14,
     "metadata": {},
     "output_type": "execute_result"
    }
   ],
   "source": [
    "ds_stokes"
   ]
  },
  {
   "cell_type": "code",
   "execution_count": 15,
   "metadata": {},
   "outputs": [
    {
     "data": {
      "text/plain": [
       "<xarray.Dataset>\n",
       "Dimensions:              (obs: 962, traj: 13188600)\n",
       "Coordinates:\n",
       "    z                    (traj) float32 1.0182366 1.0182366 ... 10.536604\n",
       "    initial_MPA          (traj) float32 1.0 1.0 1.0 1.0 1.0 ... 9.0 9.0 9.0 9.0\n",
       "    time_axis            (obs) float64 0.0 3.6e+03 ... 3.456e+06 3.456e+06\n",
       "Dimensions without coordinates: obs, traj\n",
       "Data variables:\n",
       "    MPA                  (traj, obs) float32 dask.array<shape=(13188600, 962), chunksize=(100000, 962)>\n",
       "    distance             (traj, obs) float32 dask.array<shape=(13188600, 962), chunksize=(100000, 962)>\n",
       "    land                 (traj, obs) float32 dask.array<shape=(13188600, 962), chunksize=(100000, 962)>\n",
       "    lat                  (traj, obs) float32 dask.array<shape=(13188600, 962), chunksize=(100000, 962)>\n",
       "    lon                  (traj, obs) float32 dask.array<shape=(13188600, 962), chunksize=(100000, 962)>\n",
       "    temp                 (traj, obs) float32 dask.array<shape=(13188600, 962), chunksize=(100000, 962)>\n",
       "    time                 (traj, obs) float64 dask.array<shape=(13188600, 962), chunksize=(100000, 962)>\n",
       "    before_land_contact  (traj, obs) bool dask.array<shape=(13188600, 962), chunksize=(100000, 962)>\n",
       "Attributes:\n",
       "    Conventions:            CF-1.6/CF-1.7\n",
       "    feature_type:           trajectory\n",
       "    ncei_template_version:  NCEI_NetCDF_Trajectory_Template_v2.0\n",
       "    parcels_mesh:           spherical\n",
       "    parcels_version:        2.0.0b3.dev74+g9ee0f7f"
      ]
     },
     "execution_count": 15,
     "metadata": {},
     "output_type": "execute_result"
    }
   ],
   "source": [
    "ds_nostokes"
   ]
  },
  {
   "cell_type": "code",
   "execution_count": 16,
   "metadata": {},
   "outputs": [],
   "source": [
    "def get_z_values(ds):\n",
    "    \"\"\"Load unique z-values to the front end.\n",
    "    \n",
    "    This triggers a computation across all of the z-level data.\n",
    "    \"\"\"\n",
    "    z_values = da.unique(ds.z.data).compute(retries=40)\n",
    "    z_values = z_values[~np.isnan(z_values)]\n",
    "    return z_values"
   ]
  },
  {
   "cell_type": "code",
   "execution_count": 17,
   "metadata": {},
   "outputs": [],
   "source": [
    "z_values = get_z_values(ds_nostokes)"
   ]
  },
  {
   "cell_type": "code",
   "execution_count": 18,
   "metadata": {},
   "outputs": [
    {
     "name": "stdout",
     "output_type": "stream",
     "text": [
      "[ 1.0182366  3.1657474  5.4649634  7.9203773 10.536604 ]\n"
     ]
    }
   ],
   "source": [
    "print(z_values)"
   ]
  },
  {
   "cell_type": "markdown",
   "metadata": {},
   "source": [
    "## Check temperature ranges"
   ]
  },
  {
   "cell_type": "code",
   "execution_count": 19,
   "metadata": {},
   "outputs": [
    {
     "data": {
      "image/png": "[encoded data removed]",
      "text/plain": [
       "<Figure size 432x288 with 1 Axes>"
      ]
     },
     "metadata": {
      "needs_background": "light"
     },
     "output_type": "display_data"
    }
   ],
   "source": [
    "ds_stokes.where(ds_stokes.land == 0).temp.min(\"traj\").compute(retries=40).plot();"
   ]
  },
  {
   "cell_type": "code",
   "execution_count": 20,
   "metadata": {},
   "outputs": [
    {
     "data": {
      "text/plain": [
       "<xarray.DataArray 'histogram_temp' (obs: 962, temp_bin: 70)>\n",
       "dask.array<shape=(962, 70), dtype=int64, chunksize=(962, 70)>\n",
       "Coordinates:\n",
       "  * temp_bin  (temp_bin) float64 0.25 0.75 1.25 1.75 ... 33.25 33.75 34.25 34.75\n",
       "Dimensions without coordinates: obs"
      ]
     },
     "execution_count": 20,
     "metadata": {},
     "output_type": "execute_result"
    }
   ],
   "source": [
    "temp_hist_stokes = xhist(\n",
    "    ds_stokes.temp.where(ds_stokes.land == 0),\n",
    "    bins=[np.linspace(0, 35, 71), ],\n",
    "    dim=[\"traj\", ]\n",
    ")\n",
    "temp_hist_stokes"
   ]
  },
  {
   "cell_type": "code",
   "execution_count": 21,
   "metadata": {},
   "outputs": [
    {
     "data": {
      "image/png": "[encoded data removed]",
      "text/plain": [
       "<Figure size 432x288 with 1 Axes>"
      ]
     },
     "metadata": {
      "needs_background": "light"
     },
     "output_type": "display_data"
    }
   ],
   "source": [
    "(\n",
    "    (ds_stokes.where(ds_stokes.land == 0).temp < 10)\n",
    "    | (ds_stokes.where(ds_stokes.land == 0).temp > 28)\n",
    ").mean(\"traj\").compute(retries=40).plot();"
   ]
  },
  {
   "cell_type": "markdown",
   "metadata": {},
   "source": [
    "## Filter data\n",
    "\n",
    "We want to quickly select:\n",
    "- stokes drift on or off\n",
    "- MPA a trajectory started from\n",
    "- z-level"
   ]
  },
  {
   "cell_type": "code",
   "execution_count": 22,
   "metadata": {},
   "outputs": [],
   "source": [
    "def restrict_to(ds, MPA=None, z=None):\n",
    "    traj_indices = xr.full_like(ds.initial_MPA, True, dtype=\"bool\")\n",
    "    \n",
    "    if MPA is not None:\n",
    "        traj_indices = traj_indices & (ds.initial_MPA == MPA)\n",
    "    \n",
    "    if z is not None:\n",
    "        traj_indices = traj_indices & (ds.z == z)\n",
    "        \n",
    "    ds = ds.isel(traj=traj_indices)\n",
    "    \n",
    "    return ds"
   ]
  },
  {
   "cell_type": "markdown",
   "metadata": {},
   "source": [
    "## Kill based on temperature"
   ]
  },
  {
   "cell_type": "code",
   "execution_count": 23,
   "metadata": {},
   "outputs": [],
   "source": [
    "def apply_temp_range(ds, species_name):\n",
    "    does_not_die = (\n",
    "        (\n",
    "            (ds.temp > species[species_name][\"min_temp\"])\n",
    "            & (ds.temp < species[species_name][\"max_temp\"])\n",
    "        ) \n",
    "        | (ds.land > 0)  # need this because we have\n",
    "                         # spurious signals close to land\n",
    "    )\n",
    "    ds[\"does_not_die\"] = does_not_die\n",
    "    \n",
    "    is_alive = (does_not_die.cumprod(\"obs\") == 1)\n",
    "    ds[\"is_alive\"] = is_alive\n",
    "    return ds"
   ]
  },
  {
   "cell_type": "code",
   "execution_count": 24,
   "metadata": {},
   "outputs": [
    {
     "data": {
      "text/plain": [
       "<xarray.Dataset>\n",
       "Dimensions:              (obs: 962, traj: 13188600)\n",
       "Coordinates:\n",
       "    z                    (traj) float32 1.0182366 1.0182366 ... 10.536604\n",
       "    initial_MPA          (traj) float32 1.0 1.0 1.0 1.0 1.0 ... 9.0 9.0 9.0 9.0\n",
       "    time_axis            (obs) float64 0.0 3.6e+03 ... 3.456e+06 3.456e+06\n",
       "Dimensions without coordinates: obs, traj\n",
       "Data variables:\n",
       "    MPA                  (traj, obs) float32 dask.array<shape=(13188600, 962), chunksize=(100000, 962)>\n",
       "    distance             (traj, obs) float32 dask.array<shape=(13188600, 962), chunksize=(100000, 962)>\n",
       "    land                 (traj, obs) float32 dask.array<shape=(13188600, 962), chunksize=(100000, 962)>\n",
       "    lat                  (traj, obs) float32 dask.array<shape=(13188600, 962), chunksize=(100000, 962)>\n",
       "    lon                  (traj, obs) float32 dask.array<shape=(13188600, 962), chunksize=(100000, 962)>\n",
       "    temp                 (traj, obs) float32 dask.array<shape=(13188600, 962), chunksize=(100000, 962)>\n",
       "    time                 (traj, obs) float64 dask.array<shape=(13188600, 962), chunksize=(100000, 962)>\n",
       "    before_land_contact  (traj, obs) bool dask.array<shape=(13188600, 962), chunksize=(100000, 962)>\n",
       "    does_not_die         (traj, obs) bool dask.array<shape=(13188600, 962), chunksize=(100000, 962)>\n",
       "    is_alive             (traj, obs) bool dask.array<shape=(13188600, 962), chunksize=(100000, 962)>\n",
       "Attributes:\n",
       "    Conventions:            CF-1.6/CF-1.7\n",
       "    feature_type:           trajectory\n",
       "    ncei_template_version:  NCEI_NetCDF_Trajectory_Template_v2.0\n",
       "    parcels_mesh:           spherical\n",
       "    parcels_version:        2.0.0b3.dev74+g9ee0f7f"
      ]
     },
     "execution_count": 24,
     "metadata": {},
     "output_type": "execute_result"
    }
   ],
   "source": [
    "# Pick first species. We don't have varying temperature ranges (yet?).\n",
    "ds_nostokes = apply_temp_range(ds_nostokes, \"Striped red mullet\")\n",
    "ds_nostokes"
   ]
  },
  {
   "cell_type": "code",
   "execution_count": 25,
   "metadata": {},
   "outputs": [
    {
     "data": {
      "text/plain": [
       "<xarray.Dataset>\n",
       "Dimensions:              (obs: 962, traj: 2625480)\n",
       "Coordinates:\n",
       "    z                    (traj) float32 1.0182366 1.0182366 ... 1.0182366\n",
       "    initial_MPA          (traj) float32 1.0 1.0 1.0 1.0 1.0 ... 9.0 9.0 9.0 9.0\n",
       "    time_axis            (obs) float64 0.0 3.6e+03 ... 3.456e+06 3.456e+06\n",
       "Dimensions without coordinates: obs, traj\n",
       "Data variables:\n",
       "    MPA                  (traj, obs) float32 dask.array<shape=(2625480, 962), chunksize=(100000, 962)>\n",
       "    distance             (traj, obs) float32 dask.array<shape=(2625480, 962), chunksize=(100000, 962)>\n",
       "    land                 (traj, obs) float32 dask.array<shape=(2625480, 962), chunksize=(100000, 962)>\n",
       "    lat                  (traj, obs) float32 dask.array<shape=(2625480, 962), chunksize=(100000, 962)>\n",
       "    lon                  (traj, obs) float32 dask.array<shape=(2625480, 962), chunksize=(100000, 962)>\n",
       "    temp                 (traj, obs) float32 dask.array<shape=(2625480, 962), chunksize=(100000, 962)>\n",
       "    time                 (traj, obs) float64 dask.array<shape=(2625480, 962), chunksize=(100000, 962)>\n",
       "    before_land_contact  (traj, obs) bool dask.array<shape=(2625480, 962), chunksize=(100000, 962)>\n",
       "    does_not_die         (traj, obs) bool dask.array<shape=(2625480, 962), chunksize=(100000, 962)>\n",
       "    is_alive             (traj, obs) bool dask.array<shape=(2625480, 962), chunksize=(100000, 962)>\n",
       "Attributes:\n",
       "    Conventions:            CF-1.6/CF-1.7\n",
       "    feature_type:           trajectory\n",
       "    ncei_template_version:  NCEI_NetCDF_Trajectory_Template_v2.0\n",
       "    parcels_mesh:           spherical\n",
       "    parcels_version:        2.0.0b3.dev74+g9ee0f7f"
      ]
     },
     "execution_count": 25,
     "metadata": {},
     "output_type": "execute_result"
    }
   ],
   "source": [
    "ds_stokes = apply_temp_range(ds_stokes, \"Striped red mullet\")\n",
    "ds_stokes"
   ]
  },
  {
   "cell_type": "code",
   "execution_count": 33,
   "metadata": {},
   "outputs": [
    {
     "data": {
      "text/plain": [
       "<xarray.DataArray 'does_not_die' ()>\n",
       "array(0.999148)"
      ]
     },
     "execution_count": 33,
     "metadata": {},
     "output_type": "execute_result"
    }
   ],
   "source": [
    "ds_stokes.does_not_die.mean().compute(retries=40)"
   ]
  },
  {
   "cell_type": "code",
   "execution_count": 34,
   "metadata": {},
   "outputs": [
    {
     "data": {
      "image/png": "[encoded data removed]",
      "text/plain": [
       "<Figure size 432x288 with 1 Axes>"
      ]
     },
     "metadata": {
      "needs_background": "light"
     },
     "output_type": "display_data"
    }
   ],
   "source": [
    "ds_stokes.is_alive.mean(\"traj\").compute(retries=40).plot();"
   ]
  },
  {
   "cell_type": "code",
   "execution_count": 35,
   "metadata": {},
   "outputs": [
    {
     "data": {
      "text/plain": [
       "<xarray.DataArray 'does_not_die' ()>\n",
       "array(0.999379)"
      ]
     },
     "execution_count": 35,
     "metadata": {},
     "output_type": "execute_result"
    }
   ],
   "source": [
    "ds_nostokes.does_not_die.mean().compute(retries=40)"
   ]
  },
  {
   "cell_type": "code",
   "execution_count": 36,
   "metadata": {},
   "outputs": [
    {
     "data": {
      "image/png": "[encoded data removed]",
      "text/plain": [
       "<Figure size 432x288 with 1 Axes>"
      ]
     },
     "metadata": {
      "needs_background": "light"
     },
     "output_type": "display_data"
    }
   ],
   "source": [
    "ds_nostokes.is_alive.mean(\"traj\").compute(retries=40).plot();"
   ]
  },
  {
   "cell_type": "markdown",
   "metadata": {},
   "source": [
    "## Connectivity histograms"
   ]
  },
  {
   "cell_type": "markdown",
   "metadata": {},
   "source": [
    "### With no-slip in-shore closure"
   ]
  },
  {
   "cell_type": "code",
   "execution_count": 37,
   "metadata": {},
   "outputs": [
    {
     "name": "stdout",
     "output_type": "stream",
     "text": [
      "<xarray.Dataset>\n",
      "Dimensions:              (obs: 962, traj: 13176360)\n",
      "Coordinates:\n",
      "    time_axis            (obs) float64 0.0 3.6e+03 ... 3.456e+06 3.456e+06\n",
      "    z                    (traj) float32 1.0182366 1.0182366 ... 10.536604\n",
      "    initial_MPA          (traj) float32 1.0 1.0 1.0 1.0 1.0 ... 9.0 9.0 9.0 9.0\n",
      "Dimensions without coordinates: obs, traj\n",
      "Data variables:\n",
      "    MPA                  (traj, obs) float32 dask.array<shape=(13176360, 962), chunksize=(100000, 962)>\n",
      "    distance             (traj, obs) float32 dask.array<shape=(13176360, 962), chunksize=(100000, 962)>\n",
      "    land                 (traj, obs) float32 dask.array<shape=(13176360, 962), chunksize=(100000, 962)>\n",
      "    lat                  (traj, obs) float32 dask.array<shape=(13176360, 962), chunksize=(100000, 962)>\n",
      "    lon                  (traj, obs) float32 dask.array<shape=(13176360, 962), chunksize=(100000, 962)>\n",
      "    temp                 (traj, obs) float32 dask.array<shape=(13176360, 962), chunksize=(100000, 962)>\n",
      "    time                 (traj, obs) float64 dask.array<shape=(13176360, 962), chunksize=(100000, 962)>\n",
      "    before_land_contact  (traj, obs) bool dask.array<shape=(13176360, 962), chunksize=(100000, 962)>\n",
      "    does_not_die         (traj, obs) bool dask.array<shape=(13176360, 962), chunksize=(100000, 962)>\n",
      "    is_alive             (traj, obs) bool dask.array<shape=(13176360, 962), chunksize=(100000, 962)>\n",
      "Attributes:\n",
      "    Conventions:            CF-1.6/CF-1.7\n",
      "    feature_type:           trajectory\n",
      "    ncei_template_version:  NCEI_NetCDF_Trajectory_Template_v2.0\n",
      "    parcels_mesh:           spherical\n",
      "    parcels_version:        2.0.0b3.dev74+g9ee0f7f\n",
      "443.753459776 GB\n"
     ]
    }
   ],
   "source": [
    "# define stokes experiment as stokes-drifting surface and non-stokes levels below\n",
    "ds_stokes_with_depth = xr.concat(\n",
    "    (ds_stokes, ds_nostokes.isel(traj=(ds_nostokes.z != z_values[0]))),\n",
    "    dim=\"traj\"\n",
    ")\n",
    "print(ds_stokes_with_depth)\n",
    "print(ds_stokes_with_depth.nbytes / 1e9, \"GB\")"
   ]
  },
  {
   "cell_type": "code",
   "execution_count": 38,
   "metadata": {},
   "outputs": [],
   "source": [
    "connectivity_noslip_stokes = xr.concat(\n",
    "    [\n",
    "        xhist(\n",
    "            ds_stokes_with_depth.where(\n",
    "                ds_stokes_with_depth.initial_MPA == current_MPA\n",
    "            ).MPA,\n",
    "            bins=[np.arange(-0.5, 11.5, 1), ],\n",
    "            dim=[\"traj\", \"obs\"]\n",
    "        ) for current_MPA in range(1, 10)\n",
    "    ], dim=\"initial_MPA\"\n",
    ")\n",
    "connectivity_noslip_stokes.coords[\"initial_MPA\"] = range(1, 10)"
   ]
  },
  {
   "cell_type": "code",
   "execution_count": 39,
   "metadata": {},
   "outputs": [
    {
     "data": {
      "text/plain": [
       "<xarray.DataArray 'histogram_MPA' (initial_MPA: 9, MPA_bin: 11)>\n",
       "dask.array<shape=(9, 11), dtype=int64, chunksize=(1, 11)>\n",
       "Coordinates:\n",
       "  * MPA_bin      (MPA_bin) float64 0.0 1.0 2.0 3.0 4.0 5.0 6.0 7.0 8.0 9.0 10.0\n",
       "  * initial_MPA  (initial_MPA) int64 1 2 3 4 5 6 7 8 9"
      ]
     },
     "execution_count": 39,
     "metadata": {},
     "output_type": "execute_result"
    }
   ],
   "source": [
    "connectivity_noslip_stokes"
   ]
  },
  {
   "cell_type": "code",
   "execution_count": 41,
   "metadata": {},
   "outputs": [
    {
     "name": "stderr",
     "output_type": "stream",
     "text": [
      "distributed.utils_perf - WARNING - full garbage collections took 10% CPU time recently (threshold: 10%)\n",
      "distributed.utils_perf - WARNING - full garbage collections took 10% CPU time recently (threshold: 10%)\n",
      "distributed.utils_perf - WARNING - full garbage collections took 10% CPU time recently (threshold: 10%)\n",
      "distributed.utils_perf - WARNING - full garbage collections took 10% CPU time recently (threshold: 10%)\n",
      "distributed.utils_perf - WARNING - full garbage collections took 10% CPU time recently (threshold: 10%)\n",
      "distributed.utils_perf - WARNING - full garbage collections took 10% CPU time recently (threshold: 10%)\n",
      "distributed.utils_perf - WARNING - full garbage collections took 10% CPU time recently (threshold: 10%)\n",
      "distributed.utils_perf - WARNING - full garbage collections took 10% CPU time recently (threshold: 10%)\n",
      "distributed.utils_perf - WARNING - full garbage collections took 10% CPU time recently (threshold: 10%)\n",
      "distributed.utils_perf - WARNING - full garbage collections took 10% CPU time recently (threshold: 10%)\n"
     ]
    },
    {
     "data": {
      "image/png": "[encoded data removed]",
      "text/plain": [
       "<Figure size 756x504 with 2 Axes>"
      ]
     },
     "metadata": {
      "needs_background": "light"
     },
     "output_type": "display_data"
    },
    {
     "name": "stderr",
     "output_type": "stream",
     "text": [
      "distributed.utils_perf - WARNING - full garbage collections took 11% CPU time recently (threshold: 10%)\n",
      "distributed.utils_perf - WARNING - full garbage collections took 11% CPU time recently (threshold: 10%)\n",
      "distributed.utils_perf - WARNING - full garbage collections took 11% CPU time recently (threshold: 10%)\n",
      "distributed.utils_perf - WARNING - full garbage collections took 11% CPU time recently (threshold: 10%)\n",
      "distributed.utils_perf - WARNING - full garbage collections took 11% CPU time recently (threshold: 10%)\n",
      "distributed.utils_perf - WARNING - full garbage collections took 10% CPU time recently (threshold: 10%)\n",
      "distributed.utils_perf - WARNING - full garbage collections took 10% CPU time recently (threshold: 10%)\n",
      "distributed.utils_perf - WARNING - full garbage collections took 10% CPU time recently (threshold: 10%)\n"
     ]
    }
   ],
   "source": [
    "xr.ufuncs.log10(connectivity_noslip_stokes).compute(retries=40).plot(size=7);"
   ]
  },
  {
   "cell_type": "code",
   "execution_count": 42,
   "metadata": {},
   "outputs": [],
   "source": [
    "connectivity_noslip_nostokes = xr.concat(\n",
    "    [\n",
    "        xhist(\n",
    "            ds_nostokes.where(\n",
    "                ds_nostokes.initial_MPA == current_MPA\n",
    "            ).MPA,\n",
    "            bins=[np.arange(-0.5, 11.5, 1), ],\n",
    "            dim=[\"traj\", \"obs\"]\n",
    "        ) for current_MPA in range(1, 10)\n",
    "    ], dim=\"initial_MPA\"\n",
    ")\n",
    "connectivity_noslip_nostokes.coords[\"initial_MPA\"] = range(1, 10)"
   ]
  },
  {
   "cell_type": "code",
   "execution_count": 43,
   "metadata": {},
   "outputs": [
    {
     "data": {
      "text/plain": [
       "<xarray.DataArray 'histogram_MPA' (initial_MPA: 9, MPA_bin: 11)>\n",
       "dask.array<shape=(9, 11), dtype=int64, chunksize=(1, 11)>\n",
       "Coordinates:\n",
       "  * MPA_bin      (MPA_bin) float64 0.0 1.0 2.0 3.0 4.0 5.0 6.0 7.0 8.0 9.0 10.0\n",
       "  * initial_MPA  (initial_MPA) int64 1 2 3 4 5 6 7 8 9"
      ]
     },
     "execution_count": 43,
     "metadata": {},
     "output_type": "execute_result"
    }
   ],
   "source": [
    "connectivity_noslip_nostokes"
   ]
  },
  {
   "cell_type": "code",
   "execution_count": 44,
   "metadata": {},
   "outputs": [
    {
     "name": "stderr",
     "output_type": "stream",
     "text": [
      "distributed.utils_perf - WARNING - full garbage collections took 10% CPU time recently (threshold: 10%)\n",
      "distributed.utils_perf - WARNING - full garbage collections took 10% CPU time recently (threshold: 10%)\n",
      "distributed.utils_perf - WARNING - full garbage collections took 10% CPU time recently (threshold: 10%)\n",
      "distributed.utils_perf - WARNING - full garbage collections took 10% CPU time recently (threshold: 10%)\n",
      "distributed.utils_perf - WARNING - full garbage collections took 11% CPU time recently (threshold: 10%)\n",
      "distributed.utils_perf - WARNING - full garbage collections took 11% CPU time recently (threshold: 10%)\n",
      "distributed.utils_perf - WARNING - full garbage collections took 11% CPU time recently (threshold: 10%)\n",
      "distributed.utils_perf - WARNING - full garbage collections took 11% CPU time recently (threshold: 10%)\n",
      "distributed.utils_perf - WARNING - full garbage collections took 11% CPU time recently (threshold: 10%)\n",
      "distributed.utils_perf - WARNING - full garbage collections took 11% CPU time recently (threshold: 10%)\n",
      "distributed.utils_perf - WARNING - full garbage collections took 11% CPU time recently (threshold: 10%)\n",
      "distributed.utils_perf - WARNING - full garbage collections took 11% CPU time recently (threshold: 10%)\n",
      "distributed.utils_perf - WARNING - full garbage collections took 11% CPU time recently (threshold: 10%)\n",
      "distributed.utils_perf - WARNING - full garbage collections took 11% CPU time recently (threshold: 10%)\n",
      "distributed.utils_perf - WARNING - full garbage collections took 11% CPU time recently (threshold: 10%)\n",
      "distributed.utils_perf - WARNING - full garbage collections took 11% CPU time recently (threshold: 10%)\n",
      "distributed.utils_perf - WARNING - full garbage collections took 11% CPU time recently (threshold: 10%)\n",
      "distributed.utils_perf - WARNING - full garbage collections took 11% CPU time recently (threshold: 10%)\n"
     ]
    },
    {
     "data": {
      "image/png": "[encoded data removed]",
      "text/plain": [
       "<Figure size 756x504 with 2 Axes>"
      ]
     },
     "metadata": {
      "needs_background": "light"
     },
     "output_type": "display_data"
    },
    {
     "name": "stderr",
     "output_type": "stream",
     "text": [
      "distributed.utils_perf - WARNING - full garbage collections took 11% CPU time recently (threshold: 10%)\n",
      "distributed.utils_perf - WARNING - full garbage collections took 11% CPU time recently (threshold: 10%)\n",
      "distributed.utils_perf - WARNING - full garbage collections took 12% CPU time recently (threshold: 10%)\n",
      "distributed.utils_perf - WARNING - full garbage collections took 12% CPU time recently (threshold: 10%)\n",
      "distributed.utils_perf - WARNING - full garbage collections took 11% CPU time recently (threshold: 10%)\n",
      "distributed.utils_perf - WARNING - full garbage collections took 11% CPU time recently (threshold: 10%)\n",
      "distributed.utils_perf - WARNING - full garbage collections took 10% CPU time recently (threshold: 10%)\n"
     ]
    }
   ],
   "source": [
    "xr.ufuncs.log10(connectivity_noslip_nostokes).compute(retries=40).plot(size=7);"
   ]
  },
  {
   "cell_type": "markdown",
   "metadata": {},
   "source": [
    "# Technical documentation\n",
    "\n",
    "Lists the whole working environment."
   ]
  },
  {
   "cell_type": "code",
   "execution_count": 45,
   "metadata": {},
   "outputs": [
    {
     "name": "stdout",
     "output_type": "stream",
     "text": [
      "Package                 Version    \n",
      "----------------------- -----------\n",
      "absl-py                 0.8.0      \n",
      "adal                    1.2.2      \n",
      "affine                  2.2.2      \n",
      "aiohttp                 3.5.4      \n",
      "alembic                 1.1.0      \n",
      "altair                  3.2.0      \n",
      "antlr4-python3-runtime  4.7.2      \n",
      "appdirs                 1.4.3      \n",
      "asciitree               0.3.3      \n",
      "asn1crypto              0.24.0     \n",
      "astor                   0.7.1      \n",
      "async-generator         1.10       \n",
      "async-timeout           3.0.1      \n",
      "attrdict                2.0.1      \n",
      "attrs                   19.1.0     \n",
      "backcall                0.1.0      \n",
      "basemap                 1.2.1      \n",
      "beautifulsoup4          4.8.0      \n",
      "bleach                  3.1.0      \n",
      "blinker                 1.4        \n",
      "blosc                   1.8.1      \n",
      "bokeh                   1.3.4      \n",
      "boto3                   1.9.221    \n",
      "botocore                1.12.221   \n",
      "branca                  0.3.1      \n",
      "cached-property         1.5.1      \n",
      "cachetools              2.1.0      \n",
      "Cartopy                 0.17.0     \n",
      "cc-plugin-ncei          2.0.2      \n",
      "certifi                 2019.6.16  \n",
      "certipy                 0.1.3      \n",
      "cf-units                2.1.3      \n",
      "cffi                    1.12.3     \n",
      "cftime                  1.0.3.4    \n",
      "chardet                 3.0.4      \n",
      "ciso                    0.1.0      \n",
      "Click                   7.0        \n",
      "click-plugins           1.1.1      \n",
      "cligj                   0.5.0      \n",
      "climlab                 0.7.5      \n",
      "cloudpickle             1.2.1      \n",
      "cmocean                 2.0        \n",
      "colorcet                2.0.1      \n",
      "colorspacious           1.1.2      \n",
      "compliance-checker      4.2.2      \n",
      "configobj               5.0.6      \n",
      "configparser            3.7.3      \n",
      "croniter                0.3.30     \n",
      "cryptography            2.7        \n",
      "ctd                     1.0.0      \n",
      "cycler                  0.10.0     \n",
      "cytoolz                 0.10.0     \n",
      "dask                    2.2.0      \n",
      "dask-gateway            0.2.0      \n",
      "dask-glm                0.1.0      \n",
      "dask-kubernetes         0.9.2      \n",
      "dask-labextension       1.0.0      \n",
      "dask-ml                 1.0.0      \n",
      "datashader              0.7.0      \n",
      "datashape               0.5.4      \n",
      "decorator               4.4.0      \n",
      "defusedxml              0.5.0      \n",
      "descartes               1.1.0      \n",
      "distributed             2.2.0      \n",
      "docker                  4.0.2      \n",
      "docker-pycreds          0.4.0      \n",
      "docopt                  0.6.2      \n",
      "docrep                  0.2.7      \n",
      "docutils                0.15.2     \n",
      "entrypoints             0.3        \n",
      "eofs                    1.4.0      \n",
      "erddapy                 0.5.0      \n",
      "ESMPy                   7.1.0.dev0 \n",
      "fastcache               1.1.0      \n",
      "fasteners               0.14.1     \n",
      "Fiona                   1.8.6      \n",
      "folium                  0.10.0     \n",
      "fsspec                  0.4.4      \n",
      "future                  0.17.1     \n",
      "gast                    0.2.2      \n",
      "gcsfs                   0.3.0      \n",
      "GDAL                    2.4.1      \n",
      "geolinks                0.2.0      \n",
      "geopandas               0.5.1      \n",
      "geoviews                1.6.3      \n",
      "gmpy2                   2.1.0b1    \n",
      "google-auth             1.6.3      \n",
      "google-auth-oauthlib    0.4.0      \n",
      "graphviz                0.12       \n",
      "gridgeo                 1.5.2      \n",
      "grpcio                  1.22.0     \n",
      "gsw                     3.3.1      \n",
      "h5netcdf                0.7.4      \n",
      "h5py                    2.9.0      \n",
      "heapdict                1.0.0      \n",
      "holoviews               1.12.5     \n",
      "hvplot                  0.4.0      \n",
      "idna                    2.8        \n",
      "imageio                 2.5.0      \n",
      "intake                  0.5.3      \n",
      "intake-esm              2019.8.23  \n",
      "intake-xarray           0.3.1      \n",
      "ioos-tools              1.3.3      \n",
      "ipykernel               5.1.2      \n",
      "ipyleaflet              0.11.1     \n",
      "ipython                 7.8.0      \n",
      "ipython-genutils        0.2.0      \n",
      "ipywidgets              7.5.1      \n",
      "isodate                 0.6.0      \n",
      "jedi                    0.15.1     \n",
      "Jinja2                  2.10.1     \n",
      "jmespath                0.9.4      \n",
      "joblib                  0.13.2     \n",
      "json5                   0.8.5      \n",
      "jsonschema              3.0.2      \n",
      "jupyter-client          5.3.1      \n",
      "jupyter-console         6.0.0      \n",
      "jupyter-core            4.4.0      \n",
      "jupyter-server-proxy    1.1.0      \n",
      "jupyterhub              1.0.0      \n",
      "jupyterlab              1.0.9      \n",
      "jupyterlab-server       1.0.6      \n",
      "Keras                   2.2.5      \n",
      "Keras-Applications      1.0.8      \n",
      "Keras-Preprocessing     1.1.0      \n",
      "kiwisolver              1.1.0      \n",
      "kubernetes              10.0.1     \n",
      "llvmlite                0.29.0     \n",
      "locket                  0.2.0      \n",
      "lxml                    4.4.1      \n",
      "lz4                     2.1.9      \n",
      "Mako                    1.1.0      \n",
      "Markdown                3.1.1      \n",
      "MarkupSafe              1.1.1      \n",
      "marshmallow             3.0.1      \n",
      "marshmallow-oneofschema 2.0.1      \n",
      "matplotlib              3.1.1      \n",
      "MechanicalSoup          0.12.0     \n",
      "mercantile              1.1.2      \n",
      "MetPy                   0.10.2     \n",
      "mistune                 0.8.4      \n",
      "mock                    3.0.5      \n",
      "monotonic               1.5        \n",
      "mpmath                  1.1.0      \n",
      "msgpack                 0.6.1      \n",
      "msgpack-numpy           0.4.4.3    \n",
      "multidict               4.5.2      \n",
      "multipledispatch        0.6.0      \n",
      "munch                   2.3.2      \n",
      "mypy-extensions         0.4.1      \n",
      "nbconvert               5.6.0      \n",
      "nbformat                4.4.0      \n",
      "nbgitpuller             0.7.0      \n",
      "netCDF4                 1.5.1.2    \n",
      "networkx                2.3        \n",
      "notebook                6.0.1      \n",
      "numba                   0.45.1     \n",
      "numcodecs               0.6.3      \n",
      "numpy                   1.17.0     \n",
      "oauthlib                3.0.1      \n",
      "oceans                  0.7.0      \n",
      "olefile                 0.46       \n",
      "OWSLib                  0.18.0     \n",
      "packaging               19.0       \n",
      "paegan                  1.1.4      \n",
      "palettable              3.2.0      \n",
      "pamela                  1.0.0      \n",
      "pandas                  0.24.2     \n",
      "pandas-flavor           0.1.2      \n",
      "pandocfilters           1.4.2      \n",
      "panel                   0.6.2      \n",
      "param                   1.9.1      \n",
      "parso                   0.5.1      \n",
      "partd                   1.0.0      \n",
      "pathlib2                2.3.4      \n",
      "patsy                   0.5.1      \n",
      "pendulum                2.0.5      \n",
      "pexpect                 4.7.0      \n",
      "pickleshare             0.7.5      \n",
      "Pillow                  6.1.0      \n",
      "Pint                    0.9        \n",
      "pip                     19.2.3     \n",
      "pocean-core             1.9.0      \n",
      "podaacpy                2.4.0      \n",
      "pooch                   0.5.2      \n",
      "prefect                 0.6.3      \n",
      "prometheus-client       0.7.1      \n",
      "prompt-toolkit          2.0.9      \n",
      "protobuf                3.8.0      \n",
      "psutil                  5.6.3      \n",
      "ptyprocess              0.6.0      \n",
      "pyasn1                  0.4.6      \n",
      "pyasn1-modules          0.2.6      \n",
      "pycparser               2.19       \n",
      "pyct                    0.4.6      \n",
      "pycurl                  7.43.0.2   \n",
      "Pydap                   3.2.2      \n",
      "pyepsg                  0.4.0      \n",
      "pygc                    1.2.1      \n",
      "pygeoif                 0.7        \n",
      "Pygments                2.4.2      \n",
      "pygpu                   0.7.6      \n",
      "PyJWT                   1.7.1      \n",
      "pykdtree                1.3.1      \n",
      "pyke                    1.1.1      \n",
      "pyoos                   0.8.4      \n",
      "pyOpenSSL               19.0.0     \n",
      "pyorbital               1.5.0      \n",
      "pyparsing               2.4.2      \n",
      "pyproj                  1.9.6      \n",
      "pyresample              1.12.3     \n",
      "pyrsistent              0.15.4     \n",
      "pyshp                   2.1.0      \n",
      "PySocks                 1.7.0      \n",
      "pyspectral              0.9.0      \n",
      "pyspharm                1.0.9      \n",
      "python-dateutil         2.8.0      \n",
      "python-editor           1.0.4      \n",
      "python-geotiepoints     1.1.8      \n",
      "python-slugify          3.0.3      \n",
      "python-snappy           0.5.4      \n",
      "pytz                    2019.2     \n",
      "pytzdata                2019.2     \n",
      "pyviz-comms             0.7.2      \n",
      "PyWavelets              1.0.3      \n",
      "PyYAML                  5.1.2      \n",
      "pyzmq                   18.0.2     \n",
      "qtconsole               4.5.5      \n",
      "rasterio                1.0.25     \n",
      "regex                   2019.8.19  \n",
      "regionmask              0.4.0      \n",
      "requests                2.22.0     \n",
      "requests-oauthlib       1.2.0      \n",
      "retrying                1.3.3      \n",
      "rio-cogeo               1.1.0      \n",
      "rsa                     3.4.2      \n",
      "Rtree                   0.8.3      \n",
      "ruamel.yaml             0.16.5     \n",
      "ruamel.yaml.clib        0.1.2      \n",
      "s3fs                    0.3.3      \n",
      "s3transfer              0.2.1      \n",
      "satpy                   0.16.1     \n",
      "scikit-image            0.15.0     \n",
      "scikit-learn            0.21.3     \n",
      "scipy                   1.3.1      \n",
      "scitools-iris           2.2.0      \n",
      "seaborn                 0.9.0      \n",
      "seawater                3.3.4      \n",
      "Send2Trash              1.5.0      \n",
      "setuptools              41.2.0     \n",
      "Shapely                 1.6.4.post2\n",
      "simpervisor             0.3        \n",
      "simplejson              3.16.0     \n",
      "six                     1.12.0     \n",
      "snuggs                  1.4.6      \n",
      "sortedcontainers        2.1.0      \n",
      "soupsieve               1.9.3      \n",
      "SQLAlchemy              1.3.8      \n",
      "statsmodels             0.10.1     \n",
      "supermercado            0.0.5      \n",
      "sympy                   1.4        \n",
      "tabulate                0.8.3      \n",
      "tblib                   1.4.0      \n",
      "tensorboard             1.13.1     \n",
      "tensorflow              1.13.1     \n",
      "tensorflow-estimator    1.13.0     \n",
      "termcolor               1.1.0      \n",
      "terminado               0.8.2      \n",
      "testpath                0.4.2      \n",
      "text-unidecode          1.2        \n",
      "Theano                  1.0.3      \n",
      "tiledb                  0.4.3      \n",
      "timeout-decorator       0.4.1      \n",
      "toml                    0.10.0     \n",
      "toolz                   0.10.0     \n",
      "torch                   1.1.0      \n",
      "tornado                 6.0.3      \n",
      "tqdm                    4.35.0     \n",
      "traitlets               4.3.2      \n",
      "traittypes              0.2.1      \n",
      "trollimage              1.9.0      \n",
      "trollsift               0.3.2      \n",
      "typing                  3.6.4      \n",
      "typing-extensions       3.7.4      \n",
      "Unidecode               1.1.1      \n",
      "unyt                    2.3.1      \n",
      "urllib3                 1.25.3     \n",
      "UTide                   0.2.4      \n",
      "vega                    2.6.0      \n",
      "vega-datasets           0.7.0      \n",
      "vincent                 0.4.4      \n",
      "viscm                   0.7        \n",
      "wcwidth                 0.1.7      \n",
      "webencodings            0.5.1      \n",
      "WebOb                   1.8.5      \n",
      "websocket-client        0.56.0     \n",
      "Werkzeug                0.15.5     \n",
      "wget                    3.2        \n",
      "wheel                   0.33.6     \n",
      "widgetsnbextension      3.5.1      \n",
      "windspharm              0+unknown  \n",
      "xarray                  0.12.3     \n",
      "xesmf                   0.2.0      \n",
      "xgcm                    0.2.0      \n",
      "xhistogram              0.1.1      \n",
      "xlrd                    1.2.0      \n",
      "xmitgcm                 0.4.1      \n",
      "xrft                    0.2.0      \n",
      "yarl                    1.3.0      \n",
      "zarr                    2.3.2      \n",
      "zict                    1.0.0      \n",
      "Note: you may need to restart the kernel to use updated packages.\n"
     ]
    }
   ],
   "source": [
    "%pip list"
   ]
  },
  {
   "cell_type": "code",
   "execution_count": 46,
   "metadata": {},
   "outputs": [
    {
     "name": "stdout",
     "output_type": "stream",
     "text": [
      "# This file may be used to create an environment using:\n",
      "# $ conda create --name <env> --file <this file>\n",
      "# platform: linux-64\n",
      "@EXPLICIT\n",
      "https://repo.anaconda.com/pkgs/main/linux-64/_libgcc_mutex-0.1-main.tar.bz2\n",
      "https://conda.anaconda.org/conda-forge/linux-64/ca-certificates-2019.6.16-hecc5488_0.tar.bz2\n",
      "https://repo.anaconda.com/pkgs/main/linux-64/libgfortran-ng-7.3.0-hdf63c60_0.conda\n",
      "https://repo.anaconda.com/pkgs/main/linux-64/libstdcxx-ng-9.1.0-hdf63c60_0.conda\n",
      "https://conda.anaconda.org/conda-forge/linux-64/mpi-1.0-mpich.tar.bz2\n",
      "https://conda.anaconda.org/conda-forge/linux-64/pandoc-2.7.3-0.tar.bz2\n",
      "https://conda.anaconda.org/conda-forge/noarch/poppler-data-0.4.9-1.tar.bz2\n",
      "https://repo.anaconda.com/pkgs/main/linux-64/toolchain-2.4.0-0.tar.bz2\n",
      "https://repo.anaconda.com/pkgs/main/linux-64/libgcc-ng-9.1.0-hdf63c60_0.conda\n",
      "https://conda.anaconda.org/conda-forge/linux-64/tbb-2018.0.5-h2d50403_0.tar.bz2\n",
      "https://repo.anaconda.com/pkgs/main/linux-64/toolchain_c_linux-64-2.4.0-0.tar.bz2\n",
      "https://repo.anaconda.com/pkgs/main/linux-64/toolchain_cxx_linux-64-2.4.0-0.tar.bz2\n",
      "https://conda.anaconda.org/conda-forge/linux-64/blosc-1.17.0-he1b5a44_1.tar.bz2\n",
      "https://conda.anaconda.org/conda-forge/linux-64/bzip2-1.0.8-h516909a_0.tar.bz2\n",
      "https://conda.anaconda.org/conda-forge/linux-64/c-ares-1.15.0-h516909a_1001.tar.bz2\n",
      "https://conda.anaconda.org/conda-forge/linux-64/expat-2.2.5-he1b5a44_1003.tar.bz2\n",
      "https://conda.anaconda.org/conda-forge/linux-64/freexl-1.0.5-h14c3975_1002.tar.bz2\n",
      "https://conda.anaconda.org/conda-forge/linux-64/fribidi-1.0.5-h516909a_1002.tar.bz2\n",
      "https://conda.anaconda.org/conda-forge/linux-64/geos-3.7.2-he1b5a44_1.tar.bz2\n",
      "https://conda.anaconda.org/conda-forge/linux-64/giflib-5.1.7-h516909a_1.tar.bz2\n",
      "https://conda.anaconda.org/conda-forge/linux-64/gmp-6.1.2-hf484d3e_1000.tar.bz2\n",
      "https://conda.anaconda.org/conda-forge/linux-64/graphite2-1.3.13-hf484d3e_1000.tar.bz2\n",
      "https://conda.anaconda.org/conda-forge/linux-64/icu-64.2-he1b5a44_1.tar.bz2\n",
      "https://conda.anaconda.org/conda-forge/linux-64/jpeg-9c-h14c3975_1001.tar.bz2\n",
      "https://conda.anaconda.org/conda-forge/linux-64/json-c-0.13.1-h14c3975_1001.tar.bz2\n",
      "https://conda.anaconda.org/conda-forge/linux-64/libffi-3.2.1-he1b5a44_1006.tar.bz2\n",
      "https://conda.anaconda.org/conda-forge/linux-64/libgpuarray-0.7.6-h14c3975_1003.tar.bz2\n",
      "https://conda.anaconda.org/conda-forge/linux-64/libiconv-1.15-h516909a_1005.tar.bz2\n",
      "https://conda.anaconda.org/conda-forge/linux-64/libopenblas-0.3.7-h6e990d7_1.tar.bz2\n",
      "https://conda.anaconda.org/conda-forge/linux-64/libsodium-1.0.17-h516909a_0.tar.bz2\n",
      "https://conda.anaconda.org/conda-forge/linux-64/libspatialindex-1.9.0-he1b5a44_1.tar.bz2\n",
      "https://conda.anaconda.org/conda-forge/linux-64/libtool-2.4.6-h14c3975_1002.tar.bz2\n",
      "https://conda.anaconda.org/conda-forge/linux-64/libuuid-2.32.1-h14c3975_1000.tar.bz2\n",
      "https://conda.anaconda.org/conda-forge/linux-64/lz4-c-1.8.3-he1b5a44_1001.tar.bz2\n",
      "https://conda.anaconda.org/conda-forge/linux-64/mpich-3.2.1-hc99cbb1_1014.tar.bz2\n",
      "https://conda.anaconda.org/conda-forge/linux-64/ncurses-6.1-hf484d3e_1002.tar.bz2\n",
      "https://conda.anaconda.org/conda-forge/linux-64/ninja-1.9.0-h6bb024c_0.tar.bz2\n",
      "https://conda.anaconda.org/conda-forge/linux-64/nodejs-11.14.0-he1b5a44_1.tar.bz2\n",
      "https://conda.anaconda.org/conda-forge/linux-64/openssl-1.1.1c-h516909a_0.tar.bz2\n",
      "https://conda.anaconda.org/conda-forge/linux-64/pcre-8.41-hf484d3e_1003.tar.bz2\n",
      "https://conda.anaconda.org/conda-forge/linux-64/pixman-0.38.0-h516909a_1003.tar.bz2\n",
      "https://conda.anaconda.org/conda-forge/linux-64/proj4-5.2.0-he1b5a44_1006.tar.bz2\n",
      "https://conda.anaconda.org/conda-forge/linux-64/pthread-stubs-0.4-h14c3975_1001.tar.bz2\n",
      "https://conda.anaconda.org/conda-forge/linux-64/snappy-1.1.7-he1b5a44_1002.tar.bz2\n",
      "https://conda.anaconda.org/conda-forge/linux-64/tzcode-2019a-h516909a_1002.tar.bz2\n",
      "https://conda.anaconda.org/conda-forge/linux-64/xorg-kbproto-1.0.7-h14c3975_1002.tar.bz2\n",
      "https://conda.anaconda.org/conda-forge/linux-64/xorg-libice-1.0.10-h516909a_0.tar.bz2\n",
      "https://conda.anaconda.org/conda-forge/linux-64/xorg-libxau-1.0.9-h14c3975_0.tar.bz2\n",
      "https://conda.anaconda.org/conda-forge/linux-64/xorg-libxdmcp-1.1.3-h516909a_0.tar.bz2\n",
      "https://conda.anaconda.org/conda-forge/linux-64/xorg-renderproto-0.11.1-h14c3975_1002.tar.bz2\n",
      "https://conda.anaconda.org/conda-forge/linux-64/xorg-xextproto-7.3.0-h14c3975_1002.tar.bz2\n",
      "https://conda.anaconda.org/conda-forge/linux-64/xorg-xproto-7.0.31-h14c3975_1007.tar.bz2\n",
      "https://conda.anaconda.org/conda-forge/linux-64/xz-5.2.4-h14c3975_1001.tar.bz2\n",
      "https://conda.anaconda.org/conda-forge/linux-64/yaml-0.1.7-h14c3975_1001.tar.bz2\n",
      "https://conda.anaconda.org/conda-forge/linux-64/zlib-1.2.11-h516909a_1005.tar.bz2\n",
      "https://conda.anaconda.org/conda-forge/linux-64/boost-cpp-1.70.0-h8e57a91_2.tar.bz2\n",
      "https://conda.anaconda.org/conda-forge/linux-64/configurable-http-proxy-4.1.0-node11_1.tar.bz2\n",
      "https://conda.anaconda.org/conda-forge/linux-64/gettext-0.19.8.1-hc5be6a0_1002.tar.bz2\n",
      "https://conda.anaconda.org/conda-forge/linux-64/hdf4-4.2.13-h9a582f1_1002.tar.bz2\n",
      "https://conda.anaconda.org/conda-forge/linux-64/hdf5-1.10.5-nompi_h3c11f04_1103.tar.bz2\n",
      "https://conda.anaconda.org/conda-forge/linux-64/libblas-3.8.0-12_openblas.tar.bz2\n",
      "https://conda.anaconda.org/conda-forge/linux-64/libedit-3.1.20170329-hf8c457e_1001.tar.bz2\n",
      "https://conda.anaconda.org/conda-forge/linux-64/libpng-1.6.37-hed695b0_0.tar.bz2\n",
      "https://conda.anaconda.org/conda-forge/linux-64/libprotobuf-3.8.0-h8b12597_0.tar.bz2\n",
      "https://conda.anaconda.org/conda-forge/linux-64/libssh2-1.8.2-h22169c7_2.tar.bz2\n",
      "https://conda.anaconda.org/conda-forge/linux-64/libxcb-1.13-h14c3975_1002.tar.bz2\n",
      "https://conda.anaconda.org/conda-forge/linux-64/libxml2-2.9.9-hee79883_5.tar.bz2\n",
      "https://conda.anaconda.org/conda-forge/linux-64/mpfr-4.0.2-ha14ba45_0.tar.bz2\n",
      "https://conda.anaconda.org/conda-forge/linux-64/readline-8.0-hf8c457e_0.tar.bz2\n",
      "https://conda.anaconda.org/conda-forge/linux-64/tk-8.6.9-hed695b0_1002.tar.bz2\n",
      "https://conda.anaconda.org/conda-forge/linux-64/udunits2-2.2.27.6-h4e0c4b3_1001.tar.bz2\n",
      "https://conda.anaconda.org/conda-forge/linux-64/xerces-c-3.2.2-h8412b87_1004.tar.bz2\n",
      "https://conda.anaconda.org/conda-forge/linux-64/xorg-libsm-1.2.3-h84519dc_1000.tar.bz2\n",
      "https://conda.anaconda.org/conda-forge/linux-64/zeromq-4.3.2-he1b5a44_2.tar.bz2\n",
      "https://conda.anaconda.org/conda-forge/linux-64/zstd-1.4.0-h3b9ef0a_0.tar.bz2\n",
      "https://conda.anaconda.org/conda-forge/linux-64/freetype-2.10.0-he983fc9_1.tar.bz2\n",
      "https://conda.anaconda.org/conda-forge/linux-64/glib-2.58.3-h6f030ca_1002.tar.bz2\n",
      "https://conda.anaconda.org/conda-forge/linux-64/kealib-1.4.10-h58c409b_1005.tar.bz2\n",
      "https://conda.anaconda.org/conda-forge/linux-64/krb5-1.16.3-h05b26f9_1001.tar.bz2\n",
      "https://conda.anaconda.org/conda-forge/linux-64/libcblas-3.8.0-12_openblas.tar.bz2\n",
      "https://conda.anaconda.org/conda-forge/linux-64/libkml-1.3.0-h4fcabce_1010.tar.bz2\n",
      "https://conda.anaconda.org/conda-forge/linux-64/liblapack-3.8.0-12_openblas.tar.bz2\n",
      "https://conda.anaconda.org/conda-forge/linux-64/libtiff-4.0.10-h57b8799_1003.tar.bz2\n",
      "https://conda.anaconda.org/conda-forge/linux-64/libxslt-1.1.33-h31b3aaa_0.tar.bz2\n",
      "https://conda.anaconda.org/conda-forge/linux-64/mpc-1.1.0-hb20f59a_1006.tar.bz2\n",
      "https://conda.anaconda.org/conda-forge/linux-64/sqlite-3.29.0-hcee41ef_1.tar.bz2\n",
      "https://conda.anaconda.org/conda-forge/linux-64/xorg-libx11-1.6.8-h516909a_0.tar.bz2\n",
      "https://conda.anaconda.org/conda-forge/linux-64/dbus-1.13.6-he372182_0.tar.bz2\n",
      "https://conda.anaconda.org/conda-forge/linux-64/fontconfig-2.13.1-h86ecdb6_1001.tar.bz2\n",
      "https://conda.anaconda.org/conda-forge/linux-64/geotiff-1.4.3-hb6868eb_1001.tar.bz2\n",
      "https://conda.anaconda.org/conda-forge/linux-64/gstreamer-1.14.5-h36ae1b5_0.tar.bz2\n",
      "https://conda.anaconda.org/conda-forge/linux-64/libcurl-7.65.3-hda55be3_0.tar.bz2\n",
      "https://conda.anaconda.org/conda-forge/linux-64/libpq-11.5-hd9ab2ff_1.tar.bz2\n",
      "https://conda.anaconda.org/conda-forge/linux-64/libspatialite-4.3.0a-h79dc798_1030.tar.bz2\n",
      "https://conda.anaconda.org/conda-forge/linux-64/openjpeg-2.3.1-h58a6597_0.tar.bz2\n",
      "https://conda.anaconda.org/conda-forge/linux-64/python-3.7.3-h33d41f4_1.tar.bz2\n",
      "https://conda.anaconda.org/conda-forge/linux-64/xorg-libxext-1.3.4-h516909a_0.tar.bz2\n",
      "https://conda.anaconda.org/conda-forge/linux-64/xorg-libxrender-0.9.10-h516909a_1002.tar.bz2\n",
      "https://conda.anaconda.org/conda-forge/linux-64/xorg-libxt-1.1.5-h516909a_1003.tar.bz2\n",
      "https://conda.anaconda.org/conda-forge/noarch/affine-2.2.2-py_0.tar.bz2\n",
      "https://conda.anaconda.org/conda-forge/linux-64/antlr-python-runtime-4.7.2-py37_1000.tar.bz2\n",
      "https://conda.anaconda.org/conda-forge/noarch/appdirs-1.4.3-py_1.tar.bz2\n",
      "https://conda.anaconda.org/conda-forge/noarch/asciitree-0.3.3-py_2.tar.bz2\n",
      "https://conda.anaconda.org/conda-forge/linux-64/asn1crypto-0.24.0-py37_1003.tar.bz2\n",
      "https://conda.anaconda.org/conda-forge/noarch/astor-0.7.1-py_0.tar.bz2\n",
      "https://conda.anaconda.org/conda-forge/noarch/async-timeout-3.0.1-py_1000.tar.bz2\n",
      "https://conda.anaconda.org/conda-forge/noarch/async_generator-1.10-py_0.tar.bz2\n",
      "https://conda.anaconda.org/conda-forge/noarch/attrs-19.1.0-py_0.tar.bz2\n",
      "https://conda.anaconda.org/conda-forge/noarch/backcall-0.1.0-py_0.tar.bz2\n",
      "https://conda.anaconda.org/conda-forge/noarch/backports-1.0-py_2.tar.bz2\n",
      "https://conda.anaconda.org/conda-forge/noarch/blinker-1.4-py_1.tar.bz2\n",
      "https://conda.anaconda.org/conda-forge/noarch/cached-property-1.5.1-py_0.tar.bz2\n",
      "https://conda.anaconda.org/conda-forge/noarch/cachetools-2.1.0-py_0.tar.bz2\n",
      "https://conda.anaconda.org/conda-forge/linux-64/cairo-1.16.0-hfb77d84_1002.tar.bz2\n",
      "https://conda.anaconda.org/conda-forge/linux-64/certifi-2019.6.16-py37_1.tar.bz2\n",
      "https://conda.anaconda.org/conda-forge/linux-64/cfitsio-3.470-hb60a0a2_2.tar.bz2\n",
      "https://conda.anaconda.org/conda-forge/linux-64/chardet-3.0.4-py37_1003.tar.bz2\n",
      "https://conda.anaconda.org/conda-forge/noarch/click-7.0-py_0.tar.bz2\n",
      "https://conda.anaconda.org/conda-forge/noarch/cloudpickle-1.2.1-py_0.tar.bz2\n",
      "https://conda.anaconda.org/conda-forge/linux-64/curl-7.65.3-hf8cf82a_0.tar.bz2\n",
      "https://conda.anaconda.org/conda-forge/noarch/dask-core-2.2.0-py_0.tar.bz2\n",
      "https://conda.anaconda.org/conda-forge/noarch/decorator-4.4.0-py_0.tar.bz2\n",
      "https://conda.anaconda.org/conda-forge/noarch/defusedxml-0.5.0-py_1.tar.bz2\n",
      "https://conda.anaconda.org/conda-forge/noarch/docopt-0.6.2-py_1.tar.bz2\n",
      "https://conda.anaconda.org/conda-forge/linux-64/docutils-0.15.2-py37_0.tar.bz2\n",
      "https://conda.anaconda.org/conda-forge/linux-64/entrypoints-0.3-py37_1000.tar.bz2\n",
      "https://conda.anaconda.org/conda-forge/linux-64/fastcache-1.1.0-py37h516909a_0.tar.bz2\n",
      "https://conda.anaconda.org/conda-forge/noarch/fsspec-0.4.4-py_0.tar.bz2\n",
      "https://conda.anaconda.org/conda-forge/linux-64/future-0.17.1-py37_1000.tar.bz2\n",
      "https://conda.anaconda.org/conda-forge/noarch/gast-0.2.2-py_0.tar.bz2\n",
      "https://conda.anaconda.org/conda-forge/noarch/geolinks-0.2.0-py_1.tar.bz2\n",
      "https://conda.anaconda.org/conda-forge/linux-64/gmpy2-2.1.0b1-py37h04dde30_0.tar.bz2\n",
      "https://conda.anaconda.org/conda-forge/linux-64/gst-plugins-base-1.14.5-h0935bb2_0.tar.bz2\n",
      "https://conda.anaconda.org/conda-forge/linux-64/heapdict-1.0.0-py37_1000.tar.bz2\n",
      "https://conda.anaconda.org/conda-forge/linux-64/idna-2.8-py37_1000.tar.bz2\n",
      "https://conda.anaconda.org/conda-forge/noarch/ipython_genutils-0.2.0-py_1.tar.bz2\n",
      "https://conda.anaconda.org/conda-forge/noarch/jmespath-0.9.4-py_0.tar.bz2\n",
      "https://conda.anaconda.org/conda-forge/noarch/joblib-0.13.2-py_0.tar.bz2\n",
      "https://conda.anaconda.org/conda-forge/noarch/json5-0.8.5-py_0.tar.bz2\n",
      "https://conda.anaconda.org/conda-forge/linux-64/kiwisolver-1.1.0-py37hc9558a2_0.tar.bz2\n",
      "https://conda.anaconda.org/conda-forge/linux-64/llvmlite-0.29.0-py37hfd453ef_1.tar.bz2\n",
      "https://conda.anaconda.org/conda-forge/noarch/locket-0.2.0-py_2.tar.bz2\n",
      "https://conda.anaconda.org/conda-forge/linux-64/lxml-4.4.1-py37h7ec2d77_0.tar.bz2\n",
      "https://conda.anaconda.org/conda-forge/linux-64/lz4-2.1.9-py37hd79334b_0.tar.bz2\n",
      "https://conda.anaconda.org/conda-forge/linux-64/markupsafe-1.1.1-py37h14c3975_0.tar.bz2\n",
      "https://conda.anaconda.org/conda-forge/noarch/marshmallow-3.0.1-py_0.tar.bz2\n",
      "https://conda.anaconda.org/conda-forge/linux-64/mistune-0.8.4-py37h14c3975_1000.tar.bz2\n",
      "https://conda.anaconda.org/conda-forge/noarch/monotonic-1.5-py_0.tar.bz2\n",
      "https://conda.anaconda.org/conda-forge/noarch/mpmath-1.1.0-py_0.tar.bz2\n",
      "https://conda.anaconda.org/conda-forge/linux-64/msgpack-python-0.6.1-py37h6bb024c_0.tar.bz2\n",
      "https://conda.anaconda.org/conda-forge/linux-64/multidict-4.5.2-py37h14c3975_1000.tar.bz2\n",
      "https://conda.anaconda.org/conda-forge/linux-64/mypy_extensions-0.4.1-py37_1000.tar.bz2\n",
      "https://conda.anaconda.org/conda-forge/linux-64/numpy-1.17.0-py37h95a1406_0.tar.bz2\n",
      "https://conda.anaconda.org/conda-forge/noarch/olefile-0.46-py_0.tar.bz2\n",
      "https://conda.anaconda.org/conda-forge/noarch/pamela-1.0.0-py_0.tar.bz2\n",
      "https://conda.anaconda.org/conda-forge/noarch/pandocfilters-1.4.2-py_1.tar.bz2\n",
      "https://conda.anaconda.org/conda-forge/noarch/param-1.9.1-py_0.tar.bz2\n",
      "https://conda.anaconda.org/conda-forge/noarch/parso-0.5.1-py_0.tar.bz2\n",
      "https://conda.anaconda.org/conda-forge/linux-64/pickleshare-0.7.5-py37_1000.tar.bz2\n",
      "https://conda.anaconda.org/conda-forge/linux-64/postgresql-11.5-hc63931a_1.tar.bz2\n",
      "https://conda.anaconda.org/conda-forge/noarch/prometheus_client-0.7.1-py_0.tar.bz2\n",
      "https://conda.anaconda.org/conda-forge/linux-64/psutil-5.6.3-py37h516909a_0.tar.bz2\n",
      "https://conda.anaconda.org/conda-forge/noarch/ptyprocess-0.6.0-py_1001.tar.bz2\n",
      "https://conda.anaconda.org/conda-forge/noarch/pyasn1-0.4.6-py_0.tar.bz2\n",
      "https://conda.anaconda.org/conda-forge/linux-64/pycparser-2.19-py37_1.tar.bz2\n",
      "https://conda.anaconda.org/conda-forge/linux-64/pycurl-7.43.0.2-py37h16ce93b_1.tar.bz2\n",
      "https://conda.anaconda.org/conda-forge/noarch/pygeoif-0.7-py_1.tar.bz2\n",
      "https://conda.anaconda.org/conda-forge/linux-64/pyke-1.1.1-py37_1000.tar.bz2\n",
      "https://conda.anaconda.org/conda-forge/noarch/pyparsing-2.4.2-py_0.tar.bz2\n",
      "https://conda.anaconda.org/conda-forge/noarch/pyshp-2.1.0-py_0.tar.bz2\n",
      "https://conda.anaconda.org/conda-forge/linux-64/pysocks-1.7.0-py37_0.tar.bz2\n",
      "https://conda.anaconda.org/conda-forge/noarch/python-editor-1.0.4-py_0.tar.bz2\n",
      "https://conda.anaconda.org/conda-forge/linux-64/python-snappy-0.5.4-py37hee44bf9_0.tar.bz2\n",
      "https://conda.anaconda.org/conda-forge/noarch/python-wget-3.2-py_0.tar.bz2\n",
      "https://conda.anaconda.org/conda-forge/noarch/pytz-2019.2-py_0.tar.bz2\n",
      "https://conda.anaconda.org/conda-forge/noarch/pytzdata-2019.2-py_0.tar.bz2\n",
      "https://conda.anaconda.org/conda-forge/linux-64/pyyaml-5.1.2-py37h516909a_0.tar.bz2\n",
      "https://conda.anaconda.org/conda-forge/linux-64/pyzmq-18.0.2-py37h1768529_2.tar.bz2\n",
      "https://conda.anaconda.org/conda-forge/linux-64/regex-2019.08.19-py37h516909a_0.tar.bz2\n",
      "https://conda.anaconda.org/conda-forge/linux-64/rtree-0.8.3-py37h666c49c_1002.tar.bz2\n",
      "https://conda.anaconda.org/conda-forge/linux-64/ruamel.yaml.clib-0.1.2-py37h516909a_0.tar.bz2\n",
      "https://conda.anaconda.org/conda-forge/noarch/send2trash-1.5.0-py_0.tar.bz2\n",
      "https://conda.anaconda.org/conda-forge/noarch/simpervisor-0.3-py_1.tar.bz2\n",
      "https://conda.anaconda.org/conda-forge/linux-64/simplejson-3.16.0-py37h14c3975_1002.tar.bz2\n",
      "https://conda.anaconda.org/conda-forge/linux-64/sip-4.19.8-py37hf484d3e_1000.tar.bz2\n",
      "https://conda.anaconda.org/conda-forge/linux-64/six-1.12.0-py37_1000.tar.bz2\n",
      "https://conda.anaconda.org/conda-forge/noarch/sortedcontainers-2.1.0-py_0.tar.bz2\n",
      "https://conda.anaconda.org/conda-forge/linux-64/soupsieve-1.9.3-py37_0.tar.bz2\n",
      "https://conda.anaconda.org/conda-forge/linux-64/sqlalchemy-1.3.8-py37h516909a_0.tar.bz2\n",
      "https://conda.anaconda.org/conda-forge/noarch/tabulate-0.8.3-py_0.tar.bz2\n",
      "https://conda.anaconda.org/conda-forge/noarch/tblib-1.4.0-py_0.tar.bz2\n",
      "https://conda.anaconda.org/conda-forge/noarch/termcolor-1.1.0-py_2.tar.bz2\n",
      "https://conda.anaconda.org/conda-forge/noarch/testpath-0.4.2-py_1001.tar.bz2\n",
      "https://conda.anaconda.org/conda-forge/noarch/text-unidecode-1.2-py_0.tar.bz2\n",
      "https://conda.anaconda.org/conda-forge/noarch/timeout-decorator-0.4.1-py_0.tar.bz2\n",
      "https://conda.anaconda.org/conda-forge/noarch/toml-0.10.0-py_0.tar.bz2\n",
      "https://conda.anaconda.org/conda-forge/noarch/toolz-0.10.0-py_0.tar.bz2\n",
      "https://conda.anaconda.org/conda-forge/linux-64/tornado-6.0.3-py37h516909a_0.tar.bz2\n",
      "https://conda.anaconda.org/conda-forge/noarch/tqdm-4.35.0-py_0.tar.bz2\n",
      "https://repo.anaconda.com/pkgs/main/linux-64/typing-3.6.4-py37_0.conda\n",
      "https://conda.anaconda.org/conda-forge/linux-64/typing_extensions-3.7.4-py37_0.tar.bz2\n",
      "https://conda.anaconda.org/conda-forge/noarch/unidecode-1.1.1-py_0.tar.bz2\n",
      "https://conda.anaconda.org/conda-forge/noarch/wcwidth-0.1.7-py_1.tar.bz2\n",
      "https://conda.anaconda.org/conda-forge/noarch/webencodings-0.5.1-py_1.tar.bz2\n",
      "https://conda.anaconda.org/conda-forge/noarch/webob-1.8.5-py_0.tar.bz2\n",
      "https://conda.anaconda.org/conda-forge/noarch/werkzeug-0.15.5-py_0.tar.bz2\n",
      "https://conda.anaconda.org/conda-forge/noarch/xlrd-1.2.0-py_0.tar.bz2\n",
      "https://conda.anaconda.org/conda-forge/linux-64/xorg-libxpm-3.5.12-h516909a_1002.tar.bz2\n",
      "https://conda.anaconda.org/conda-forge/linux-64/absl-py-0.8.0-py37_0.tar.bz2\n",
      "https://conda.anaconda.org/conda-forge/noarch/attrdict-2.0.1-py_0.tar.bz2\n",
      "https://conda.anaconda.org/conda-forge/linux-64/beautifulsoup4-4.8.0-py37_0.tar.bz2\n",
      "https://conda.anaconda.org/conda-forge/linux-64/cffi-1.12.3-py37h8022711_0.tar.bz2\n",
      "https://conda.anaconda.org/conda-forge/linux-64/cftime-1.0.3.4-py37hd352d35_1001.tar.bz2\n",
      "https://conda.anaconda.org/conda-forge/linux-64/ciso-0.1.0-py37h3010b51_0.tar.bz2\n",
      "https://conda.anaconda.org/conda-forge/noarch/click-plugins-1.1.1-py_0.tar.bz2\n",
      "https://conda.anaconda.org/conda-forge/noarch/cligj-0.5.0-py_0.tar.bz2\n",
      "https://conda.anaconda.org/conda-forge/noarch/colorspacious-1.1.2-pyh24bf2e0_0.tar.bz2\n",
      "https://conda.anaconda.org/conda-forge/noarch/configobj-5.0.6-py_0.tar.bz2\n",
      "https://conda.anaconda.org/conda-forge/linux-64/configparser-3.7.3-py37_1.tar.bz2\n",
      "https://conda.anaconda.org/conda-forge/noarch/cycler-0.10.0-py_1.tar.bz2\n",
      "https://conda.anaconda.org/conda-forge/linux-64/cytoolz-0.10.0-py37h516909a_0.tar.bz2\n",
      "https://conda.anaconda.org/conda-forge/noarch/docker-pycreds-0.4.0-py_0.tar.bz2\n",
      "https://conda.anaconda.org/conda-forge/noarch/docrep-0.2.7-py_0.tar.bz2\n",
      "https://conda.anaconda.org/conda-forge/noarch/eofs-1.4.0-py_0.tar.bz2\n",
      "https://conda.anaconda.org/conda-forge/noarch/fasteners-0.14.1-py_3.tar.bz2\n",
      "https://conda.anaconda.org/conda-forge/linux-64/gsw-3.3.1-py37h516909a_0.tar.bz2\n",
      "https://conda.anaconda.org/conda-forge/linux-64/h5py-2.9.0-nompi_py37h513d04c_1104.tar.bz2\n",
      "https://conda.anaconda.org/conda-forge/linux-64/harfbuzz-2.4.0-h9f30f68_3.tar.bz2\n",
      "https://conda.anaconda.org/conda-forge/noarch/isodate-0.6.0-py_1.tar.bz2\n",
      "https://conda.anaconda.org/conda-forge/linux-64/jedi-0.15.1-py37_0.tar.bz2\n",
      "https://conda.anaconda.org/conda-forge/linux-64/libdap4-3.20.2-hd48c02d_1000.tar.bz2\n",
      "https://conda.anaconda.org/conda-forge/linux-64/libnetcdf-4.6.2-h303dfb8_1003.tar.bz2\n",
      "https://conda.anaconda.org/conda-forge/noarch/mako-1.1.0-py_0.tar.bz2\n",
      "https://conda.anaconda.org/conda-forge/noarch/marshmallow-oneofschema-2.0.1-py_0.tar.bz2\n",
      "https://conda.anaconda.org/conda-forge/linux-64/mock-3.0.5-py37_0.tar.bz2\n",
      "https://conda.anaconda.org/conda-forge/noarch/msgpack-numpy-0.4.4.3-py_0.tar.bz2\n",
      "https://conda.anaconda.org/conda-forge/noarch/multipledispatch-0.6.0-py_0.tar.bz2\n",
      "https://conda.anaconda.org/conda-forge/noarch/munch-2.3.2-py_0.tar.bz2\n",
      "https://conda.anaconda.org/conda-forge/linux-64/numba-0.45.1-py37hb3f55d8_0.tar.bz2\n",
      "https://conda.anaconda.org/conda-forge/linux-64/numcodecs-0.6.3-py37hf484d3e_0.tar.bz2\n",
      "https://conda.anaconda.org/conda-forge/noarch/packaging-19.0-py_0.tar.bz2\n",
      "https://conda.anaconda.org/conda-forge/noarch/partd-1.0.0-py_0.tar.bz2\n",
      "https://conda.anaconda.org/conda-forge/linux-64/pathlib2-2.3.4-py37_0.tar.bz2\n",
      "https://conda.anaconda.org/conda-forge/linux-64/pexpect-4.7.0-py37_0.tar.bz2\n",
      "https://conda.anaconda.org/conda-forge/linux-64/pillow-6.1.0-py37h6b7be26_1.tar.bz2\n",
      "https://conda.anaconda.org/conda-forge/linux-64/poppler-0.67.0-ha967d66_7.tar.bz2\n",
      "https://conda.anaconda.org/conda-forge/noarch/pyasn1-modules-0.2.6-py_0.tar.bz2\n",
      "https://conda.anaconda.org/conda-forge/noarch/pyct-core-0.4.6-py_0.tar.bz2\n",
      "https://conda.anaconda.org/conda-forge/noarch/pygc-1.2.1-py_1.tar.bz2\n",
      "https://conda.anaconda.org/conda-forge/linux-64/pykdtree-1.3.1-py37h3010b51_1002.tar.bz2\n",
      "https://conda.anaconda.org/conda-forge/noarch/pyorbital-1.5.0-py_0.tar.bz2\n",
      "https://conda.anaconda.org/conda-forge/linux-64/pyproj-1.9.6-py37h516909a_1002.tar.bz2\n",
      "https://conda.anaconda.org/conda-forge/linux-64/pyrsistent-0.15.4-py37h516909a_0.tar.bz2\n",
      "https://conda.anaconda.org/conda-forge/linux-64/pyspharm-1.0.9-py37h7eb8c7e_1004.tar.bz2\n",
      "https://conda.anaconda.org/conda-forge/linux-64/python-blosc-1.8.1-py37hf484d3e_0.tar.bz2\n",
      "https://conda.anaconda.org/conda-forge/noarch/python-dateutil-2.8.0-py_0.tar.bz2\n",
      "https://conda.anaconda.org/conda-forge/noarch/python-slugify-3.0.3-py_0.tar.bz2\n",
      "https://conda.anaconda.org/conda-forge/noarch/pyviz_comms-0.7.2-py_0.tar.bz2\n",
      "https://conda.anaconda.org/conda-forge/linux-64/pywavelets-1.0.3-py37hd352d35_1.tar.bz2\n",
      "https://conda.anaconda.org/conda-forge/linux-64/qt-5.9.7-h0c104cb_3.tar.bz2\n",
      "https://conda.anaconda.org/conda-forge/noarch/retrying-1.3.3-py_2.tar.bz2\n",
      "https://conda.anaconda.org/conda-forge/noarch/rsa-3.4.2-py_1.tar.bz2\n",
      "https://conda.anaconda.org/conda-forge/linux-64/scipy-1.3.1-py37h921218d_2.tar.bz2\n",
      "https://conda.anaconda.org/conda-forge/noarch/seawater-3.3.4-py_1.tar.bz2\n",
      "https://conda.anaconda.org/conda-forge/linux-64/setuptools-41.2.0-py37_0.tar.bz2\n",
      "https://conda.anaconda.org/conda-forge/linux-64/shapely-1.6.4-py37hec07ddf_1006.tar.bz2\n",
      "https://conda.anaconda.org/conda-forge/noarch/snuggs-1.4.6-py_0.tar.bz2\n",
      "https://conda.anaconda.org/conda-forge/linux-64/terminado-0.8.2-py37_0.tar.bz2\n",
      "https://conda.anaconda.org/conda-forge/linux-64/tiledb-1.6.2-h69c774e_1.tar.bz2\n",
      "https://conda.anaconda.org/conda-forge/linux-64/traitlets-4.3.2-py37_1000.tar.bz2\n",
      "https://conda.anaconda.org/conda-forge/noarch/trollsift-0.3.2-py_0.tar.bz2\n",
      "https://conda.anaconda.org/conda-forge/linux-64/websocket-client-0.56.0-py37_0.tar.bz2\n",
      "https://conda.anaconda.org/conda-forge/linux-64/yarl-1.3.0-py37h14c3975_1000.tar.bz2\n",
      "https://conda.anaconda.org/conda-forge/noarch/zict-1.0.0-py_0.tar.bz2\n",
      "https://conda.anaconda.org/conda-forge/linux-64/aiohttp-3.5.4-py37h14c3975_0.tar.bz2\n",
      "https://conda.anaconda.org/conda-forge/noarch/alembic-1.1.0-py_0.tar.bz2\n",
      "https://conda.anaconda.org/conda-forge/noarch/bleach-3.1.0-py_0.tar.bz2\n",
      "https://conda.anaconda.org/conda-forge/linux-64/cf-units-2.1.3-py37hc1659b7_0.tar.bz2\n",
      "https://conda.anaconda.org/conda-forge/noarch/croniter-0.3.30-py_0.tar.bz2\n",
      "https://conda.anaconda.org/conda-forge/linux-64/cryptography-2.7-py37h72c5cf5_0.tar.bz2\n",
      "https://conda.anaconda.org/conda-forge/noarch/datashape-0.5.4-py_1.tar.bz2\n",
      "https://conda.anaconda.org/conda-forge/noarch/distributed-2.2.0-py_1.tar.bz2\n",
      "https://conda.anaconda.org/conda-forge/noarch/google-auth-1.6.3-py_0.tar.bz2\n",
      "https://conda.anaconda.org/conda-forge/linux-64/grpcio-1.22.0-py37he9ae1f9_0.tar.bz2\n",
      "https://conda.anaconda.org/conda-forge/noarch/h5netcdf-0.7.4-py_0.tar.bz2\n",
      "https://conda.anaconda.org/conda-forge/linux-64/imageio-2.5.0-py37_0.tar.bz2\n",
      "https://conda.anaconda.org/conda-forge/noarch/jinja2-2.10.1-py_0.tar.bz2\n",
      "https://conda.anaconda.org/conda-forge/linux-64/jsonschema-3.0.2-py37_0.tar.bz2\n",
      "https://conda.anaconda.org/conda-forge/noarch/jupyter_core-4.4.0-py_0.tar.bz2\n",
      "https://conda.anaconda.org/conda-forge/noarch/keras-applications-1.0.8-py_1.tar.bz2\n",
      "https://conda.anaconda.org/conda-forge/noarch/keras-preprocessing-1.1.0-py_0.tar.bz2\n",
      "https://conda.anaconda.org/conda-forge/linux-64/libgdal-2.4.1-heae24aa_8.tar.bz2\n",
      "https://conda.anaconda.org/conda-forge/noarch/markdown-3.1.1-py_0.tar.bz2\n",
      "https://conda.anaconda.org/conda-forge/linux-64/matplotlib-base-3.1.1-py37he7580a8_1.tar.bz2\n",
      "https://conda.anaconda.org/conda-forge/noarch/mercantile-1.1.2-py_0.tar.bz2\n",
      "https://conda.anaconda.org/conda-forge/linux-64/netcdf-fortran-4.4.5-h0789656_1004.tar.bz2\n",
      "https://conda.anaconda.org/conda-forge/linux-64/netcdf4-1.5.1.2-py37h73a1b54_1.tar.bz2\n",
      "https://conda.anaconda.org/conda-forge/noarch/networkx-2.3-py_0.tar.bz2\n",
      "https://conda.anaconda.org/conda-forge/noarch/palettable-3.2.0-py_0.tar.bz2\n",
      "https://conda.anaconda.org/conda-forge/linux-64/pandas-0.24.2-py37hb3f55d8_0.tar.bz2\n",
      "https://conda.anaconda.org/conda-forge/linux-64/pango-1.42.4-ha030887_1.tar.bz2\n",
      "https://conda.anaconda.org/conda-forge/noarch/patsy-0.5.1-py_0.tar.bz2\n",
      "https://conda.anaconda.org/conda-forge/linux-64/pendulum-2.0.5-py37_0.tar.bz2\n",
      "https://conda.anaconda.org/conda-forge/linux-64/pint-0.9-py37_2.tar.bz2\n",
      "https://conda.anaconda.org/conda-forge/linux-64/protobuf-3.8.0-py37he1b5a44_1.tar.bz2\n",
      "https://conda.anaconda.org/conda-forge/noarch/pygments-2.4.2-py_0.tar.bz2\n",
      "https://conda.anaconda.org/conda-forge/linux-64/pygpu-0.7.6-py37h3010b51_1000.tar.bz2\n",
      "https://conda.anaconda.org/conda-forge/linux-64/pyqt-5.9.2-py37hcca6a23_2.tar.bz2\n",
      "https://conda.anaconda.org/conda-forge/linux-64/pyresample-1.12.3-py37hf2d7682_0.tar.bz2\n",
      "https://conda.anaconda.org/conda-forge/linux-64/pytorch-cpu-1.1.0-py37he1b5a44_0.tar.bz2\n",
      "https://conda.anaconda.org/conda-forge/linux-64/ruamel.yaml-0.16.5-py37h516909a_1.tar.bz2\n",
      "https://conda.anaconda.org/conda-forge/linux-64/scikit-learn-0.21.3-py37hcdab131_0.tar.bz2\n",
      "https://conda.anaconda.org/conda-forge/linux-64/sympy-1.4-py37_0.tar.bz2\n",
      "https://repo.anaconda.com/pkgs/main/noarch/tensorflow-estimator-1.13.0-py_0.tar.bz2\n",
      "https://conda.anaconda.org/conda-forge/linux-64/tiledb-py-0.4.3-py37hb78b526_1.tar.bz2\n",
      "https://conda.anaconda.org/conda-forge/noarch/traittypes-0.2.1-py_1.tar.bz2\n",
      "https://conda.anaconda.org/conda-forge/noarch/utide-0.2.4-py_0.tar.bz2\n",
      "https://conda.anaconda.org/conda-forge/linux-64/wheel-0.33.6-py37_0.tar.bz2\n",
      "https://conda.anaconda.org/conda-forge/linux-64/windspharm-1.7.0-py37_1001.tar.bz2\n",
      "https://conda.anaconda.org/conda-forge/linux-64/zarr-2.3.2-py37_0.tar.bz2\n",
      "https://conda.anaconda.org/conda-forge/linux-64/altair-3.2.0-py37_0.tar.bz2\n",
      "https://conda.anaconda.org/conda-forge/linux-64/basemap-1.2.1-py37hd759880_1.tar.bz2\n",
      "https://conda.anaconda.org/conda-forge/linux-64/bokeh-1.3.4-py37_0.tar.bz2\n",
      "https://conda.anaconda.org/conda-forge/noarch/branca-0.3.1-py_0.tar.bz2\n",
      "https://conda.anaconda.org/conda-forge/linux-64/esmf-7.1.0-h9a7cb89_1007.tar.bz2\n",
      "https://conda.anaconda.org/conda-forge/linux-64/gdal-2.4.1-py37h5f563d9_8.tar.bz2\n",
      "https://conda.anaconda.org/conda-forge/linux-64/graphviz-2.40.1-h5933667_1.tar.bz2\n",
      "https://conda.anaconda.org/conda-forge/noarch/gridgeo-1.5.2-py_0.tar.bz2\n",
      "https://conda.anaconda.org/conda-forge/noarch/jupyter_client-5.3.1-py_0.tar.bz2\n",
      "https://conda.anaconda.org/conda-forge/linux-64/matplotlib-3.1.1-py37_1.tar.bz2\n",
      "https://conda.anaconda.org/conda-forge/noarch/nbformat-4.4.0-py_1.tar.bz2\n",
      "https://conda.anaconda.org/conda-forge/noarch/paegan-1.1.4-py_1.tar.bz2\n",
      "https://conda.anaconda.org/conda-forge/noarch/pandas-flavor-0.1.2-py_0.tar.bz2\n",
      "https://conda.anaconda.org/conda-forge/linux-64/pip-19.2.3-py37_0.tar.bz2\n",
      "https://conda.anaconda.org/conda-forge/noarch/pocean-core-1.9.0-py_0.tar.bz2\n",
      "https://conda.anaconda.org/conda-forge/noarch/prompt_toolkit-2.0.9-py_0.tar.bz2\n",
      "https://conda.anaconda.org/conda-forge/noarch/pyjwt-1.7.1-py_0.tar.bz2\n",
      "https://conda.anaconda.org/conda-forge/linux-64/pyopenssl-19.0.0-py37_0.tar.bz2\n",
      "https://conda.anaconda.org/conda-forge/linux-64/python-geotiepoints-1.1.8-py37hd352d35_0.tar.bz2\n",
      "https://conda.anaconda.org/conda-forge/linux-64/rasterio-1.0.25-py37hdff7cfa_0.tar.bz2\n",
      "https://conda.anaconda.org/conda-forge/linux-64/scikit-image-0.15.0-py37hb3f55d8_2.tar.bz2\n",
      "https://conda.anaconda.org/conda-forge/linux-64/statsmodels-0.10.1-py37hc1659b7_0.tar.bz2\n",
      "https://conda.anaconda.org/conda-forge/linux-64/tensorboard-1.13.1-py37_0.tar.bz2\n",
      "https://conda.anaconda.org/conda-forge/linux-64/theano-1.0.3-py37hfc679d8_1.tar.bz2\n",
      "https://conda.anaconda.org/conda-forge/noarch/unyt-2.3.1-py_0.tar.bz2\n",
      "https://conda.anaconda.org/conda-forge/noarch/vega_datasets-0.7.0-py_0.tar.bz2\n",
      "https://conda.anaconda.org/conda-forge/noarch/vincent-0.4.4-py_1.tar.bz2\n",
      "https://conda.anaconda.org/conda-forge/noarch/xarray-0.12.3-py_0.tar.bz2\n",
      "https://conda.anaconda.org/conda-forge/noarch/certipy-0.1.3-py_0.tar.bz2\n",
      "https://conda.anaconda.org/conda-forge/noarch/ctd-1.0.0-py_0.tar.bz2\n",
      "https://conda.anaconda.org/conda-forge/noarch/dask-2.2.0-py_0.tar.bz2\n",
      "https://conda.anaconda.org/conda-forge/noarch/descartes-1.1.0-py_3.tar.bz2\n",
      "https://conda.anaconda.org/conda-forge/linux-64/esmpy-7.1.0-py37h24bf2e0_3.tar.bz2\n",
      "https://conda.anaconda.org/conda-forge/linux-64/fiona-1.8.6-py37hf242f0b_3.tar.bz2\n",
      "https://conda.anaconda.org/conda-forge/linux-64/ipython-7.8.0-py37h5ca1d4c_0.tar.bz2\n",
      "https://conda.anaconda.org/conda-forge/linux-64/nbconvert-5.6.0-py37_1.tar.bz2\n",
      "https://conda.anaconda.org/conda-forge/noarch/oauthlib-3.0.1-py_0.tar.bz2\n",
      "https://conda.anaconda.org/conda-forge/noarch/seaborn-0.9.0-py_1.tar.bz2\n",
      "https://conda.anaconda.org/conda-forge/noarch/supermercado-0.0.5-py_0.tar.bz2\n",
      "https://conda.anaconda.org/conda-forge/linux-64/tensorflow-base-1.13.1-py37h5ece82f_4.tar.bz2\n",
      "https://conda.anaconda.org/conda-forge/linux-64/urllib3-1.25.3-py37_0.tar.bz2\n",
      "https://conda.anaconda.org/conda-forge/noarch/viscm-0.7-pyh24bf2e0_0.tar.bz2\n",
      "https://conda.anaconda.org/conda-forge/noarch/botocore-1.12.221-py_0.tar.bz2\n",
      "https://conda.anaconda.org/conda-forge/noarch/cmocean-2.0-py_1.tar.bz2\n",
      "https://conda.anaconda.org/conda-forge/linux-64/dask-gateway-0.2.0-py37_0.tar.bz2\n",
      "https://conda.anaconda.org/conda-forge/noarch/dask-glm-0.1.0-0.tar.bz2\n",
      "https://conda.anaconda.org/conda-forge/noarch/geopandas-0.5.1-py_0.tar.bz2\n",
      "https://conda.anaconda.org/conda-forge/linux-64/ipykernel-5.1.2-py37h5ca1d4c_0.tar.bz2\n",
      "https://conda.anaconda.org/conda-forge/noarch/oceans-0.7.0-py_0.tar.bz2\n",
      "https://conda.anaconda.org/conda-forge/linux-64/requests-2.22.0-py37_1.tar.bz2\n",
      "https://conda.anaconda.org/conda-forge/linux-64/tensorflow-1.13.1-h5ece82f_4.tar.bz2\n",
      "https://conda.anaconda.org/conda-forge/noarch/trollimage-1.9.0-py_0.tar.bz2\n",
      "https://conda.anaconda.org/conda-forge/linux-64/xesmf-0.2.0-py37_0.tar.bz2\n",
      "https://conda.anaconda.org/conda-forge/noarch/xgcm-0.2.0-py_0.tar.bz2\n",
      "https://conda.anaconda.org/conda-forge/noarch/xhistogram-0.1.1-py_0.tar.bz2\n",
      "https://conda.anaconda.org/conda-forge/noarch/xmitgcm-0.4.1-py_0.tar.bz2\n",
      "https://conda.anaconda.org/conda-forge/noarch/xrft-0.2.0-py_0.tar.bz2\n",
      "https://conda.anaconda.org/conda-forge/noarch/adal-1.2.2-py_0.tar.bz2\n",
      "https://conda.anaconda.org/conda-forge/noarch/dask-ml-1.0.0-py_0.tar.bz2\n",
      "https://conda.anaconda.org/conda-forge/linux-64/docker-py-4.0.2-py37_0.tar.bz2\n",
      "https://conda.anaconda.org/conda-forge/noarch/erddapy-0.5.0-py_0.tar.bz2\n",
      "https://conda.anaconda.org/conda-forge/noarch/folium-0.10.0-py_0.tar.bz2\n",
      "https://conda.anaconda.org/conda-forge/noarch/intake-0.5.3-py_0.tar.bz2\n",
      "https://conda.anaconda.org/conda-forge/noarch/jupyter_console-6.0.0-py_0.tar.bz2\n",
      "https://conda.anaconda.org/conda-forge/linux-64/jupyterhub-1.0.0-py37_0.tar.bz2\n",
      "https://conda.anaconda.org/conda-forge/linux-64/keras-2.2.5-py37_1.tar.bz2\n",
      "https://conda.anaconda.org/conda-forge/noarch/mechanicalsoup-0.12.0-py_0.tar.bz2\n",
      "https://conda.anaconda.org/conda-forge/linux-64/notebook-6.0.1-py37_0.tar.bz2\n",
      "https://conda.anaconda.org/conda-forge/noarch/owslib-0.18.0-py_0.tar.bz2\n",
      "https://conda.anaconda.org/conda-forge/noarch/podaacpy-2.4.0-py_0.tar.bz2\n",
      "https://conda.anaconda.org/conda-forge/linux-64/pooch-0.5.2-py37_0.tar.bz2\n",
      "https://conda.anaconda.org/conda-forge/noarch/pyct-0.4.6-py_0.tar.bz2\n",
      "https://conda.anaconda.org/conda-forge/noarch/pyepsg-0.4.0-py_0.tar.bz2\n",
      "https://conda.anaconda.org/conda-forge/noarch/pyspectral-0.9.0-py_0.tar.bz2\n",
      "https://conda.anaconda.org/conda-forge/noarch/qtconsole-4.5.5-py_0.tar.bz2\n",
      "https://conda.anaconda.org/conda-forge/noarch/requests-oauthlib-1.2.0-py_0.tar.bz2\n",
      "https://conda.anaconda.org/conda-forge/linux-64/s3transfer-0.2.1-py37_0.tar.bz2\n",
      "https://conda.anaconda.org/conda-forge/noarch/boto3-1.9.221-py_0.tar.bz2\n",
      "https://conda.anaconda.org/conda-forge/linux-64/cartopy-0.17.0-py37hd759880_1006.tar.bz2\n",
      "https://conda.anaconda.org/conda-forge/noarch/colorcet-2.0.1-py_0.tar.bz2\n",
      "https://conda.anaconda.org/conda-forge/linux-64/compliance-checker-4.2.2-py37_0.tar.bz2\n",
      "https://conda.anaconda.org/conda-forge/noarch/google-auth-oauthlib-0.4.0-py_0.tar.bz2\n",
      "https://conda.anaconda.org/conda-forge/noarch/holoviews-1.12.5-py_0.tar.bz2\n",
      "https://conda.anaconda.org/conda-forge/noarch/intake-xarray-0.3.1-py_0.tar.bz2\n",
      "https://conda.anaconda.org/conda-forge/noarch/jupyter-server-proxy-1.1.0-py_0.tar.bz2\n",
      "https://conda.anaconda.org/conda-forge/noarch/jupyterlab_server-1.0.6-py_0.tar.bz2\n",
      "https://conda.anaconda.org/conda-forge/noarch/nbgitpuller-0.7.0-py_0.tar.bz2\n",
      "https://conda.anaconda.org/conda-forge/noarch/panel-0.6.2-0.tar.bz2\n",
      "https://conda.anaconda.org/conda-forge/noarch/prefect-0.6.3-py_0.tar.bz2\n",
      "https://conda.anaconda.org/conda-forge/linux-64/pydap-3.2.2-py37_1000.tar.bz2\n",
      "https://conda.anaconda.org/conda-forge/noarch/pyoos-0.8.4-py_1.tar.bz2\n",
      "https://conda.anaconda.org/conda-forge/linux-64/python-kubernetes-10.0.1-py37_0.tar.bz2\n",
      "https://conda.anaconda.org/conda-forge/noarch/satpy-0.16.1-pyh326bf55_0.tar.bz2\n",
      "https://conda.anaconda.org/conda-forge/linux-64/widgetsnbextension-3.5.1-py37_0.tar.bz2\n",
      "https://conda.anaconda.org/conda-forge/noarch/cc-plugin-ncei-2.0.2-py_3.tar.bz2\n",
      "https://conda.anaconda.org/conda-forge/linux-64/climlab-0.7.5-py37h7eb8c7e_1.tar.bz2\n",
      "https://conda.anaconda.org/conda-forge/noarch/dask-kubernetes-0.9.2-py_0.tar.bz2\n",
      "https://conda.anaconda.org/conda-forge/noarch/datashader-0.7.0-py_1.tar.bz2\n",
      "https://conda.anaconda.org/conda-forge/noarch/gcsfs-0.3.0-py_0.tar.bz2\n",
      "https://conda.anaconda.org/conda-forge/noarch/geoviews-core-1.6.3-py_0.tar.bz2\n",
      "https://conda.anaconda.org/conda-forge/noarch/hvplot-0.4.0-py_1.tar.bz2\n",
      "https://conda.anaconda.org/conda-forge/noarch/ipywidgets-7.5.1-py_0.tar.bz2\n",
      "https://conda.anaconda.org/conda-forge/linux-64/iris-2.2.0-py37_1003.tar.bz2\n",
      "https://conda.anaconda.org/conda-forge/linux-64/jupyterlab-1.0.9-py37_0.tar.bz2\n",
      "https://conda.anaconda.org/conda-forge/linux-64/metpy-0.10.2-py37_0.tar.bz2\n",
      "https://conda.anaconda.org/conda-forge/noarch/regionmask-0.4.0-py_0.tar.bz2\n",
      "https://conda.anaconda.org/conda-forge/noarch/rio-cogeo-1.1.0-py_0.tar.bz2\n",
      "https://conda.anaconda.org/conda-forge/noarch/s3fs-0.3.3-py_0.tar.bz2\n",
      "https://conda.anaconda.org/conda-forge/noarch/intake-esm-2019.8.23-py_0.tar.bz2\n",
      "https://conda.anaconda.org/conda-forge/noarch/ioos-tools-1.3.3-py_0.tar.bz2\n",
      "https://conda.anaconda.org/conda-forge/linux-64/ipyleaflet-0.11.1-py37_1.tar.bz2\n",
      "https://conda.anaconda.org/conda-forge/noarch/jupyter-1.0.0-py_2.tar.bz2\n",
      "https://conda.anaconda.org/conda-forge/noarch/geoviews-1.6.3-py_0.tar.bz2\n",
      "https://conda.anaconda.org/conda-forge/linux-64/vega-2.6.0-py37_0.tar.bz2\n",
      "\n",
      "Note: you may need to restart the kernel to use updated packages.\n"
     ]
    }
   ],
   "source": [
    "%conda list --explicit"
   ]
  }
 ],
 "metadata": {
  "kernelspec": {
   "display_name": "Python 3",
   "language": "python",
   "name": "python3"
  },
  "language_info": {
   "codemirror_mode": {
    "name": "ipython",
    "version": 3
   },
   "file_extension": ".py",
   "mimetype": "text/x-python",
   "name": "python",
   "nbconvert_exporter": "python",
   "pygments_lexer": "ipython3",
   "version": "3.7.3"
  }
 },
 "nbformat": 4,
 "nbformat_minor": 4
}

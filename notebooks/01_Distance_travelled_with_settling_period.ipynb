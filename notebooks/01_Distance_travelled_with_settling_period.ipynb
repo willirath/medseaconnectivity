{
 "cells": [
  {
   "cell_type": "markdown",
   "metadata": {},
   "source": [
    "# In-water distance statistics"
   ]
  },
  {
   "cell_type": "code",
   "execution_count": 1,
   "metadata": {},
   "outputs": [],
   "source": [
    "# Workaround to ensure lazy evaluation of xhistorams\n",
    "# see https://github.com/xgcm/xhistogram/issues/12\n",
    "\n",
    "import os\n",
    "os.environ[\"NUMPY_EXPERIMENTAL_ARRAY_FUNCTION\"] = \"0\""
   ]
  },
  {
   "cell_type": "code",
   "execution_count": 2,
   "metadata": {},
   "outputs": [],
   "source": [
    "# parameters\n",
    "dataset_version = \"v2019.09.11.2\"\n",
    "bucket_stokes = f\"pangeo-parcels/med_sea_connectivity_{dataset_version}/traj_data_with_stokes.zarr\"\n",
    "bucket_nostokes = f\"pangeo-parcels/med_sea_connectivity_{dataset_version}/traj_data_without_stokes.zarr\"\n",
    "\n",
    "path_stokes = \"../../medseadata/traj_data_with_stokes.zarr\"\n",
    "path_nostokes = \"../../medseadata/traj_data_without_stokes.zarr\"\n",
    "\n",
    "species = {\n",
    "    \"Striped red mullet\": {\n",
    "        \"settling_start_days\": 25,\n",
    "        \"settling_end_days\": 35,\n",
    "        \"min_temp\": 10.0,\n",
    "        \"max_temp\": 28.0,\n",
    "        \"latest_spawning_month\": 7\n",
    "    },\n",
    "    \"White seabream\": {\n",
    "        \"settling_start_days\": 26,\n",
    "        \"settling_end_days\": 30,\n",
    "        \"min_temp\": 10.0,\n",
    "        \"max_temp\": 28.0,\n",
    "        \"latest_spawning_month\": 6\n",
    "    },\n",
    "    \"Comber\": {\n",
    "        \"settling_start_days\": 21,\n",
    "        \"settling_end_days\": 28,\n",
    "        \"min_temp\": 10.0,\n",
    "        \"max_temp\": 28.0,\n",
    "        \"latest_spawning_month\": 7\n",
    "    }\n",
    "}\n",
    "\n",
    "MPA_names = {\n",
    "    0: 'Ocean', \n",
    "    1: 'Cote Bleue',\n",
    "    2: 'Cerbere-Banyuls',\n",
    "    3: 'Cape de Creus',\n",
    "    4: 'Columbretes',\n",
    "    5: 'Cala Ratjada',\n",
    "    6: 'Menorca',\n",
    "    7: 'Tabarca',\n",
    "    8: 'Cabo de Palos',\n",
    "    9: 'Cabo de Gata',\n",
    "    10: 'Coast'\n",
    "}\n",
    "\n",
    "filter_warnings = \"ignore\"  # No warnings will bother you.  Change for debugging."
   ]
  },
  {
   "cell_type": "code",
   "execution_count": 3,
   "metadata": {},
   "outputs": [],
   "source": [
    "import warnings\n",
    "warnings.filterwarnings(filter_warnings)"
   ]
  },
  {
   "cell_type": "markdown",
   "metadata": {},
   "source": [
    "## Load all modules and spin up a Dask cluster"
   ]
  },
  {
   "cell_type": "code",
   "execution_count": 4,
   "metadata": {},
   "outputs": [],
   "source": [
    "%matplotlib inline\n",
    "from dask import array as da\n",
    "import seaborn as sns\n",
    "import numpy as np\n",
    "import xarray as xr\n",
    "from xhistogram.xarray import histogram as xhist\n",
    "from matplotlib import pyplot as plt\n",
    "import pandas as pd\n",
    "from dask import delayed"
   ]
  },
  {
   "cell_type": "code",
   "execution_count": 5,
   "metadata": {},
   "outputs": [],
   "source": [
    "sns.set_context(\"notebook\")\n",
    "sns.set_style(\"darkgrid\")"
   ]
  },
  {
   "cell_type": "code",
   "execution_count": 6,
   "metadata": {},
   "outputs": [
    {
     "data": {
      "text/html": [
       "<table style=\"border: 2px solid white;\">\n",
       "<tr>\n",
       "<td style=\"vertical-align: top; border: 0px solid white\">\n",
       "<h3 style=\"text-align: left;\">Client</h3>\n",
       "<ul style=\"text-align: left; list-style: none; margin: 0; padding: 0;\">\n",
       "  <li><b>Scheduler: </b>tcp://10.246.201.1:45790</li>\n",
       "  <li><b>Dashboard: </b><a href='http://10.246.201.1:8787/status' target='_blank'>http://10.246.201.1:8787/status</a>\n",
       "</ul>\n",
       "</td>\n",
       "<td style=\"vertical-align: top; border: 0px solid white\">\n",
       "<h3 style=\"text-align: left;\">Cluster</h3>\n",
       "<ul style=\"text-align: left; list-style:none; margin: 0; padding: 0;\">\n",
       "  <li><b>Workers: </b>0</li>\n",
       "  <li><b>Cores: </b>0</li>\n",
       "  <li><b>Memory: </b>0 B</li>\n",
       "</ul>\n",
       "</td>\n",
       "</tr>\n",
       "</table>"
      ],
      "text/plain": [
       "<Client: 'tcp://10.246.201.1:45790' processes=0 threads=0, memory=0 B>"
      ]
     },
     "execution_count": 6,
     "metadata": {},
     "output_type": "execute_result"
    }
   ],
   "source": [
    "from dask.distributed import Client\n",
    "from dask_jobqueue import SLURMCluster\n",
    "import os\n",
    "\n",
    "cluster = SLURMCluster(\n",
    "    cores=12,\n",
    "    processes=1,\n",
    "    memory=\"200GB\",\n",
    "    shebang='#!/usr/bin/env bash',\n",
    "    queue=\"medium:test\",\n",
    "    walltime=\"00:30:00\",\n",
    "    local_directory='/tmp',\n",
    "    death_timeout=\"15s\",\n",
    "    interface=\"ib0\",\n",
    "    log_directory=f'{os.environ[\"TMPDIR\"]}/dask_jobqueue_logs/',\n",
    "    project=\"shk00023\")\n",
    "\n",
    "client = Client(cluster)\n",
    "client"
   ]
  },
  {
   "cell_type": "code",
   "execution_count": 7,
   "metadata": {},
   "outputs": [],
   "source": [
    "cluster.scale(24)"
   ]
  },
  {
   "cell_type": "markdown",
   "metadata": {},
   "source": [
    "## Load data\n",
    "\n",
    "All trajectories are stored in a Google Cloud Storage bucket. We want to be able to load and filter all trajectories easily.  To this end, we load all the datasets (lazily), filter them to different parameters (starting MPA, depth, stokes drift), and store a Pandas dataframe with virtual sub-datasets for each combination of the parameters.  This Pandas dataframe will be pickled for later re-use."
   ]
  },
  {
   "cell_type": "code",
   "execution_count": 8,
   "metadata": {},
   "outputs": [],
   "source": [
    "def open_dataset(path, restrict_to_MPA=None, restrict_to_z=None):\n",
    "    # load data\n",
    "    ds = xr.open_zarr(path, decode_cf=True)\n",
    "    \n",
    "    # get info on starting region and make it an easy-to-look-up coord\n",
    "    initial_MPA = ds.MPA.isel(obs=0).squeeze()\n",
    "    ds.coords[\"initial_MPA\"] = initial_MPA\n",
    "     \n",
    "    # add mask that is False after land contact\n",
    "    ds[\"before_land_contact\"] = ((ds.land == 0).cumprod(\"obs\") == 1)\n",
    "    \n",
    "    # set correct units on distanceß\n",
    "    ds.distance.attrs[\"units\"] = \"km\"\n",
    "      \n",
    "    return ds"
   ]
  },
  {
   "cell_type": "code",
   "execution_count": 9,
   "metadata": {},
   "outputs": [],
   "source": [
    "ds_stokes = open_dataset(path_stokes)\n",
    "ds_nostokes = open_dataset(path_nostokes)"
   ]
  },
  {
   "cell_type": "markdown",
   "metadata": {},
   "source": [
    "## Simplify\n",
    "\n",
    "We know a few things about our data that make it easier to deal with them:\n",
    "\n",
    "- No vertical migration.  Hence, initial depth of a particle is valid for all times.\n",
    "\n",
    "- All time steps are the same. Hence, we can easily build a relative time axis that is valid for all particles."
   ]
  },
  {
   "cell_type": "code",
   "execution_count": 10,
   "metadata": {},
   "outputs": [],
   "source": [
    "def apply_assumptions(ds):\n",
    "    \"\"\"Applies simplifications to the dataset that are valid for the \n",
    "    specific set of experiments we're dealing with here.\n",
    "    \n",
    "    Be careful when applying these to new experiments, because\n",
    "    they might not apply.\n",
    "    \"\"\"\n",
    "    # We assume no vertical migration and hence\n",
    "    # make (non-changing) depth level an easy to look up coord\n",
    "    z = ds.z.isel(obs=0).squeeze()\n",
    "    ds[\"z\"] = z\n",
    "    ds.coords[\"z\"] = ds.z\n",
    "    \n",
    "    # We assume that all time steps are equal\n",
    "    # and that the time axis is measured in seconds\n",
    "    # since some reference period\n",
    "    time_axis = ds.reset_coords([\"z\", \"initial_MPA\"]).time.isel(traj=0).squeeze()\n",
    "    time_axis -= time_axis.isel(obs=0).squeeze()\n",
    "    time_axis.attrs[\"units\"] = \"seconds since start of particle\"\n",
    "    ds.coords[\"time_axis\"] = time_axis\n",
    "    \n",
    "    return ds"
   ]
  },
  {
   "cell_type": "code",
   "execution_count": 11,
   "metadata": {},
   "outputs": [],
   "source": [
    "ds_stokes = apply_assumptions(ds_stokes)\n",
    "ds_nostokes = apply_assumptions(ds_nostokes)"
   ]
  },
  {
   "cell_type": "markdown",
   "metadata": {},
   "source": [
    "## Handle land contact"
   ]
  },
  {
   "cell_type": "code",
   "execution_count": 12,
   "metadata": {},
   "outputs": [],
   "source": [
    "def mask_any_land_contact(ds):\n",
    "    return ds.where(~(ds.before_land_contact.min(\"obs\") == 0))"
   ]
  },
  {
   "cell_type": "code",
   "execution_count": 13,
   "metadata": {},
   "outputs": [],
   "source": [
    "ds_stokes_no_land_contact = mask_any_land_contact(ds_stokes)\n",
    "ds_nostokes_no_land_contact = mask_any_land_contact(ds_nostokes)"
   ]
  },
  {
   "cell_type": "markdown",
   "metadata": {},
   "source": [
    "## Load coordinates for quicker access\n",
    "\n",
    "So far, we did only the bare minimum of information (data types, variable names, number of time steps, ...) but did not load any of the data.  We want to continue to do so for the bulk of the data, but get coordinates and the like now."
   ]
  },
  {
   "cell_type": "code",
   "execution_count": 14,
   "metadata": {},
   "outputs": [],
   "source": [
    "def persist_coords(ds, retries=40):\n",
    "    \"\"\"Will load coordinate data to the cluster.\"\"\"\n",
    "    ds[\"z\"] = ds[\"z\"].persist(retries=retries)\n",
    "    ds[\"initial_MPA\"] = ds[\"initial_MPA\"].persist(retries=retries)\n",
    "    ds[\"time_axis\"] = ds[\"time_axis\"].persist(retries=retries)\n",
    "    return ds"
   ]
  },
  {
   "cell_type": "code",
   "execution_count": 15,
   "metadata": {},
   "outputs": [],
   "source": [
    "def compute_coords(ds, retries=40):\n",
    "    \"\"\"Will load coordinate data to the front end.\"\"\"\n",
    "    ds[\"z\"] = ds[\"z\"].compute(retries=retries)\n",
    "    ds[\"initial_MPA\"] = ds[\"initial_MPA\"].compute(retries=retries)\n",
    "    ds[\"time_axis\"] = ds[\"time_axis\"].compute(retries=retries)\n",
    "    return ds"
   ]
  },
  {
   "cell_type": "code",
   "execution_count": 16,
   "metadata": {},
   "outputs": [],
   "source": [
    "ds_stokes = persist_coords(ds_stokes)\n",
    "ds_nostokes = persist_coords(ds_nostokes)"
   ]
  },
  {
   "cell_type": "code",
   "execution_count": 17,
   "metadata": {},
   "outputs": [],
   "source": [
    "ds_stokes = compute_coords(ds_stokes)\n",
    "ds_nostokes = compute_coords(ds_nostokes)"
   ]
  },
  {
   "cell_type": "code",
   "execution_count": 18,
   "metadata": {},
   "outputs": [],
   "source": [
    "ds_stokes_no_land_contact = compute_coords(ds_stokes_no_land_contact)\n",
    "ds_nostokes_no_land_contact = compute_coords(ds_nostokes_no_land_contact)"
   ]
  },
  {
   "cell_type": "code",
   "execution_count": 19,
   "metadata": {},
   "outputs": [
    {
     "data": {
      "text/plain": [
       "<xarray.Dataset>\n",
       "Dimensions:              (obs: 962, traj: 2625480)\n",
       "Coordinates:\n",
       "    z                    (traj) float32 1.0182366 1.0182366 ... 1.0182366\n",
       "    initial_MPA          (traj) float32 1.0 1.0 1.0 1.0 1.0 ... 9.0 9.0 9.0 9.0\n",
       "    time_axis            (obs) timedelta64[ns] 00:00:00 ... 40 days 00:00:00\n",
       "Dimensions without coordinates: obs, traj\n",
       "Data variables:\n",
       "    MPA                  (traj, obs) float32 dask.array<chunksize=(100000, 962), meta=np.ndarray>\n",
       "    distance             (traj, obs) float32 dask.array<chunksize=(100000, 962), meta=np.ndarray>\n",
       "    land                 (traj, obs) float32 dask.array<chunksize=(100000, 962), meta=np.ndarray>\n",
       "    lat                  (traj, obs) float32 dask.array<chunksize=(100000, 962), meta=np.ndarray>\n",
       "    lon                  (traj, obs) float32 dask.array<chunksize=(100000, 962), meta=np.ndarray>\n",
       "    temp                 (traj, obs) float32 dask.array<chunksize=(100000, 962), meta=np.ndarray>\n",
       "    time                 (traj, obs) datetime64[ns] dask.array<chunksize=(100000, 962), meta=np.ndarray>\n",
       "    before_land_contact  (traj, obs) bool dask.array<chunksize=(100000, 962), meta=np.ndarray>\n",
       "Attributes:\n",
       "    Conventions:            CF-1.6/CF-1.7\n",
       "    feature_type:           trajectory\n",
       "    ncei_template_version:  NCEI_NetCDF_Trajectory_Template_v2.0\n",
       "    parcels_mesh:           spherical\n",
       "    parcels_version:        2.0.0b3.dev74+g9ee0f7f"
      ]
     },
     "execution_count": 19,
     "metadata": {},
     "output_type": "execute_result"
    }
   ],
   "source": [
    "ds_stokes"
   ]
  },
  {
   "cell_type": "code",
   "execution_count": 20,
   "metadata": {},
   "outputs": [
    {
     "data": {
      "text/plain": [
       "<xarray.Dataset>\n",
       "Dimensions:              (obs: 962, traj: 13188600)\n",
       "Coordinates:\n",
       "    z                    (traj) float32 1.0182366 1.0182366 ... 10.536604\n",
       "    initial_MPA          (traj) float32 1.0 1.0 1.0 1.0 1.0 ... 9.0 9.0 9.0 9.0\n",
       "    time_axis            (obs) timedelta64[ns] 00:00:00 ... 40 days 00:00:00\n",
       "Dimensions without coordinates: obs, traj\n",
       "Data variables:\n",
       "    MPA                  (traj, obs) float32 dask.array<chunksize=(100000, 962), meta=np.ndarray>\n",
       "    distance             (traj, obs) float32 dask.array<chunksize=(100000, 962), meta=np.ndarray>\n",
       "    land                 (traj, obs) float32 dask.array<chunksize=(100000, 962), meta=np.ndarray>\n",
       "    lat                  (traj, obs) float32 dask.array<chunksize=(100000, 962), meta=np.ndarray>\n",
       "    lon                  (traj, obs) float32 dask.array<chunksize=(100000, 962), meta=np.ndarray>\n",
       "    temp                 (traj, obs) float32 dask.array<chunksize=(100000, 962), meta=np.ndarray>\n",
       "    time                 (traj, obs) datetime64[ns] dask.array<chunksize=(100000, 962), meta=np.ndarray>\n",
       "    before_land_contact  (traj, obs) bool dask.array<chunksize=(100000, 962), meta=np.ndarray>\n",
       "Attributes:\n",
       "    Conventions:            CF-1.6/CF-1.7\n",
       "    feature_type:           trajectory\n",
       "    ncei_template_version:  NCEI_NetCDF_Trajectory_Template_v2.0\n",
       "    parcels_mesh:           spherical\n",
       "    parcels_version:        2.0.0b3.dev74+g9ee0f7f"
      ]
     },
     "execution_count": 20,
     "metadata": {},
     "output_type": "execute_result"
    }
   ],
   "source": [
    "ds_nostokes"
   ]
  },
  {
   "cell_type": "code",
   "execution_count": 21,
   "metadata": {},
   "outputs": [
    {
     "data": {
      "text/plain": [
       "<xarray.Dataset>\n",
       "Dimensions:              (obs: 962, traj: 2625480)\n",
       "Coordinates:\n",
       "    z                    (traj) float32 1.0182366 1.0182366 ... 1.0182366\n",
       "    initial_MPA          (traj) float32 1.0 1.0 1.0 1.0 1.0 ... 9.0 9.0 9.0 9.0\n",
       "    time_axis            (obs) timedelta64[ns] 00:00:00 ... 40 days 00:00:00\n",
       "Dimensions without coordinates: obs, traj\n",
       "Data variables:\n",
       "    MPA                  (traj, obs) float32 dask.array<chunksize=(100000, 962), meta=np.ndarray>\n",
       "    distance             (traj, obs) float32 dask.array<chunksize=(100000, 962), meta=np.ndarray>\n",
       "    land                 (traj, obs) float32 dask.array<chunksize=(100000, 962), meta=np.ndarray>\n",
       "    lat                  (traj, obs) float32 dask.array<chunksize=(100000, 962), meta=np.ndarray>\n",
       "    lon                  (traj, obs) float32 dask.array<chunksize=(100000, 962), meta=np.ndarray>\n",
       "    temp                 (traj, obs) float32 dask.array<chunksize=(100000, 962), meta=np.ndarray>\n",
       "    time                 (traj, obs) datetime64[ns] dask.array<chunksize=(100000, 962), meta=np.ndarray>\n",
       "    before_land_contact  (traj, obs) float64 dask.array<chunksize=(100000, 962), meta=np.ndarray>\n",
       "Attributes:\n",
       "    Conventions:            CF-1.6/CF-1.7\n",
       "    feature_type:           trajectory\n",
       "    ncei_template_version:  NCEI_NetCDF_Trajectory_Template_v2.0\n",
       "    parcels_mesh:           spherical\n",
       "    parcels_version:        2.0.0b3.dev74+g9ee0f7f"
      ]
     },
     "execution_count": 21,
     "metadata": {},
     "output_type": "execute_result"
    }
   ],
   "source": [
    "ds_stokes_no_land_contact"
   ]
  },
  {
   "cell_type": "code",
   "execution_count": 22,
   "metadata": {},
   "outputs": [
    {
     "data": {
      "text/plain": [
       "<xarray.Dataset>\n",
       "Dimensions:              (obs: 962, traj: 13188600)\n",
       "Coordinates:\n",
       "    z                    (traj) float32 1.0182366 1.0182366 ... 10.536604\n",
       "    initial_MPA          (traj) float32 1.0 1.0 1.0 1.0 1.0 ... 9.0 9.0 9.0 9.0\n",
       "    time_axis            (obs) timedelta64[ns] 00:00:00 ... 40 days 00:00:00\n",
       "Dimensions without coordinates: obs, traj\n",
       "Data variables:\n",
       "    MPA                  (traj, obs) float32 dask.array<chunksize=(100000, 962), meta=np.ndarray>\n",
       "    distance             (traj, obs) float32 dask.array<chunksize=(100000, 962), meta=np.ndarray>\n",
       "    land                 (traj, obs) float32 dask.array<chunksize=(100000, 962), meta=np.ndarray>\n",
       "    lat                  (traj, obs) float32 dask.array<chunksize=(100000, 962), meta=np.ndarray>\n",
       "    lon                  (traj, obs) float32 dask.array<chunksize=(100000, 962), meta=np.ndarray>\n",
       "    temp                 (traj, obs) float32 dask.array<chunksize=(100000, 962), meta=np.ndarray>\n",
       "    time                 (traj, obs) datetime64[ns] dask.array<chunksize=(100000, 962), meta=np.ndarray>\n",
       "    before_land_contact  (traj, obs) float64 dask.array<chunksize=(100000, 962), meta=np.ndarray>\n",
       "Attributes:\n",
       "    Conventions:            CF-1.6/CF-1.7\n",
       "    feature_type:           trajectory\n",
       "    ncei_template_version:  NCEI_NetCDF_Trajectory_Template_v2.0\n",
       "    parcels_mesh:           spherical\n",
       "    parcels_version:        2.0.0b3.dev74+g9ee0f7f"
      ]
     },
     "execution_count": 22,
     "metadata": {},
     "output_type": "execute_result"
    }
   ],
   "source": [
    "ds_nostokes_no_land_contact"
   ]
  },
  {
   "cell_type": "code",
   "execution_count": 23,
   "metadata": {},
   "outputs": [],
   "source": [
    "def get_z_values(ds):\n",
    "    \"\"\"Load unique z-values to the front end.\n",
    "    \n",
    "    This triggers a computation across all of the z-level data.\n",
    "    \"\"\"\n",
    "    z_values = da.unique(ds.z.data).compute(retries=40)\n",
    "    z_values = z_values[~np.isnan(z_values)]\n",
    "    return z_values"
   ]
  },
  {
   "cell_type": "code",
   "execution_count": 24,
   "metadata": {},
   "outputs": [],
   "source": [
    "z_values = get_z_values(ds_nostokes)"
   ]
  },
  {
   "cell_type": "code",
   "execution_count": 25,
   "metadata": {},
   "outputs": [
    {
     "name": "stdout",
     "output_type": "stream",
     "text": [
      "[ 1.0182366  3.1657474  5.4649634  7.9203773 10.536604 ]\n"
     ]
    }
   ],
   "source": [
    "print(z_values)"
   ]
  },
  {
   "cell_type": "markdown",
   "metadata": {},
   "source": [
    "## Filter data\n",
    "\n",
    "We want to quickly select:\n",
    "- stokes drift on or off\n",
    "- MPA a trajectory started from\n",
    "- z-level"
   ]
  },
  {
   "cell_type": "code",
   "execution_count": 26,
   "metadata": {},
   "outputs": [],
   "source": [
    "def restrict_to(ds, MPA=None, z=None):\n",
    "    traj_indices = xr.full_like(ds.initial_MPA, True, dtype=\"bool\")\n",
    "    \n",
    "    if MPA is not None:\n",
    "        traj_indices = traj_indices & (ds.initial_MPA == MPA)\n",
    "    \n",
    "    if z is not None:\n",
    "        traj_indices = traj_indices & (ds.z == z)\n",
    "        \n",
    "    ds = ds.isel(traj=traj_indices)\n",
    "    \n",
    "    return ds"
   ]
  },
  {
   "cell_type": "markdown",
   "metadata": {},
   "source": [
    "## Calculate distance histograms\n",
    "\n",
    "This calculates time, depth and MPA resolved histograms of distance travelled."
   ]
  },
  {
   "cell_type": "code",
   "execution_count": 27,
   "metadata": {},
   "outputs": [],
   "source": [
    "# ToDo: This is relatively slow because restrict_to runs sequentially and\n",
    "# on the front end.  We could speed this up by submitting the individual\n",
    "# histograms to the cluster\n",
    "def get_hist(ds, dist_bins=None, num_z=1):\n",
    "    hist = xr.concat(\n",
    "        [\n",
    "            xr.concat(\n",
    "                [\n",
    "                    xhist(\n",
    "                        restrict_to(ds, MPA=MPA, z=z_values[k]).distance,\n",
    "                        bins=[dist_bins, ],\n",
    "                        dim=[\"traj\", ]\n",
    "                    )\n",
    "                    for k in range(num_z)\n",
    "                ], dim=\"k\"\n",
    "            )\n",
    "            for MPA in range(1, 10)\n",
    "        ], dim=\"MPA\"\n",
    "    )\n",
    "    hist.coords[\"MPA\"] = np.arange(1, 10)\n",
    "    return hist"
   ]
  },
  {
   "cell_type": "code",
   "execution_count": 28,
   "metadata": {},
   "outputs": [],
   "source": [
    "hist_stokes = get_hist(ds_stokes, dist_bins=np.linspace(0, 1200, 41), num_z=1)"
   ]
  },
  {
   "cell_type": "code",
   "execution_count": 29,
   "metadata": {},
   "outputs": [],
   "source": [
    "hist_stokes_no_land_contact = get_hist(ds_stokes_no_land_contact, dist_bins=np.linspace(0, 1200, 41), num_z=1)"
   ]
  },
  {
   "cell_type": "code",
   "execution_count": 30,
   "metadata": {},
   "outputs": [],
   "source": [
    "hist_nostokes = get_hist(ds_nostokes, dist_bins=np.linspace(0, 1200, 41), num_z=len(z_values))"
   ]
  },
  {
   "cell_type": "code",
   "execution_count": 31,
   "metadata": {},
   "outputs": [],
   "source": [
    "hist_nostokes_no_land_contact = get_hist(ds_nostokes_no_land_contact, dist_bins=np.linspace(0, 1200, 41), num_z=len(z_values))"
   ]
  },
  {
   "cell_type": "code",
   "execution_count": 32,
   "metadata": {},
   "outputs": [
    {
     "data": {
      "text/plain": [
       "<xarray.DataArray 'histogram_distance' (MPA: 9, k: 1, obs: 962, distance_bin: 40)>\n",
       "dask.array<concatenate, shape=(9, 1, 962, 40), dtype=int64, chunksize=(1, 1, 962, 40), chunktype=numpy.ndarray>\n",
       "Coordinates:\n",
       "  * distance_bin  (distance_bin) float64 15.0 45.0 75.0 ... 1.155e+03 1.185e+03\n",
       "  * MPA           (MPA) int64 1 2 3 4 5 6 7 8 9\n",
       "Dimensions without coordinates: k, obs"
      ]
     },
     "execution_count": 32,
     "metadata": {},
     "output_type": "execute_result"
    }
   ],
   "source": [
    "# hist_stokes = hist_stokes.compute()\n",
    "hist_stokes"
   ]
  },
  {
   "cell_type": "code",
   "execution_count": 33,
   "metadata": {},
   "outputs": [
    {
     "data": {
      "text/plain": [
       "<xarray.DataArray 'histogram_distance' (MPA: 9, k: 1, obs: 962, distance_bin: 40)>\n",
       "dask.array<concatenate, shape=(9, 1, 962, 40), dtype=int64, chunksize=(1, 1, 962, 40), chunktype=numpy.ndarray>\n",
       "Coordinates:\n",
       "  * distance_bin  (distance_bin) float64 15.0 45.0 75.0 ... 1.155e+03 1.185e+03\n",
       "  * MPA           (MPA) int64 1 2 3 4 5 6 7 8 9\n",
       "Dimensions without coordinates: k, obs"
      ]
     },
     "execution_count": 33,
     "metadata": {},
     "output_type": "execute_result"
    }
   ],
   "source": [
    "# hist_stokes_no_land_contact = hist_stokes_no_land_contact.compute()\n",
    "hist_stokes_no_land_contact"
   ]
  },
  {
   "cell_type": "code",
   "execution_count": 34,
   "metadata": {},
   "outputs": [
    {
     "data": {
      "text/plain": [
       "<xarray.DataArray 'histogram_distance' (MPA: 9, k: 5, obs: 962, distance_bin: 40)>\n",
       "dask.array<concatenate, shape=(9, 5, 962, 40), dtype=int64, chunksize=(1, 1, 962, 40), chunktype=numpy.ndarray>\n",
       "Coordinates:\n",
       "  * distance_bin  (distance_bin) float64 15.0 45.0 75.0 ... 1.155e+03 1.185e+03\n",
       "  * MPA           (MPA) int64 1 2 3 4 5 6 7 8 9\n",
       "Dimensions without coordinates: k, obs"
      ]
     },
     "execution_count": 34,
     "metadata": {},
     "output_type": "execute_result"
    }
   ],
   "source": [
    "# hist_nostokes = hist_nostokes.compute()\n",
    "hist_nostokes"
   ]
  },
  {
   "cell_type": "code",
   "execution_count": 35,
   "metadata": {},
   "outputs": [
    {
     "data": {
      "text/plain": [
       "<xarray.DataArray 'histogram_distance' (MPA: 9, k: 5, obs: 962, distance_bin: 40)>\n",
       "dask.array<concatenate, shape=(9, 5, 962, 40), dtype=int64, chunksize=(1, 1, 962, 40), chunktype=numpy.ndarray>\n",
       "Coordinates:\n",
       "  * distance_bin  (distance_bin) float64 15.0 45.0 75.0 ... 1.155e+03 1.185e+03\n",
       "  * MPA           (MPA) int64 1 2 3 4 5 6 7 8 9\n",
       "Dimensions without coordinates: k, obs"
      ]
     },
     "execution_count": 35,
     "metadata": {},
     "output_type": "execute_result"
    }
   ],
   "source": [
    "# hist_nostokes_no_land_contact = hist_nostokes_no_land_contact.compute()\n",
    "hist_nostokes_no_land_contact"
   ]
  },
  {
   "cell_type": "markdown",
   "metadata": {},
   "source": [
    "## Filter histograms"
   ]
  },
  {
   "cell_type": "code",
   "execution_count": 36,
   "metadata": {},
   "outputs": [],
   "source": [
    "def restrict_hist(hist, k=None, current_species=None, sum_mpa=False):\n",
    "\n",
    "    hist = hist.isel(k=k)  # z_levels\n",
    "    if type(k) is not int:\n",
    "        hist = hist.sum(\"k\")\n",
    "    \n",
    "    hist = hist.sel(  # restrict to settling period\n",
    "        obs=slice(\n",
    "            24 * species[current_species][\"settling_start_days\"],\n",
    "            24 * species[current_species][\"settling_end_days\"]\n",
    "        )\n",
    "    )\n",
    "    hist = hist.sum(\"obs\")  # sum over time\n",
    "    \n",
    "    if sum_mpa:\n",
    "        hist = hist.sum(\"MPA\")\n",
    "    \n",
    "    hist = hist.squeeze()  # make sure no degenerate dims left\n",
    "\n",
    "    hist /= hist.sum(\"distance_bin\")  # normalize to area 1\n",
    "    \n",
    "    return hist"
   ]
  },
  {
   "cell_type": "markdown",
   "metadata": {},
   "source": [
    "## Plot irrespective of MPA"
   ]
  },
  {
   "cell_type": "code",
   "execution_count": 37,
   "metadata": {},
   "outputs": [
    {
     "name": "stdout",
     "output_type": "stream",
     "text": [
      "working on Striped red mullet\n",
      "working on White seabream\n",
      "working on Comber\n"
     ]
    },
    {
     "data": {
      "image/png": "[encoded data removed]",
      "text/plain": [
       "<Figure size 1080x504 with 1 Axes>"
      ]
     },
     "metadata": {},
     "output_type": "display_data"
    },
    {
     "data": {
      "image/png": "[encoded data removed]",
      "text/plain": [
       "<Figure size 1080x504 with 1 Axes>"
      ]
     },
     "metadata": {},
     "output_type": "display_data"
    },
    {
     "data": {
      "image/png": "[encoded data removed]",
      "text/plain": [
       "<Figure size 1080x504 with 1 Axes>"
      ]
     },
     "metadata": {},
     "output_type": "display_data"
    }
   ],
   "source": [
    "for current_species in species.keys():\n",
    "    print(f\"working on {current_species}\")\n",
    "    temp_hist = xr.concat(\n",
    "        [\n",
    "            restrict_hist(hist_stokes_no_land_contact, k=0, current_species=current_species, sum_mpa=True),\n",
    "            restrict_hist(hist_nostokes_no_land_contact, k=0, current_species=current_species, sum_mpa=True),\n",
    "            restrict_hist(hist_nostokes_no_land_contact, k=range(1, 5), current_species=current_species, sum_mpa=True)\n",
    "\n",
    "        ], dim=\"case\"\n",
    "    )\n",
    "    \n",
    "    temp_hist.coords[\"case\"] = [\n",
    "        f\"{current_species}, stokes, surface, no land contact\",\n",
    "        f\"{current_species}, no stokes, surface, no land contact\",\n",
    "        f\"{current_species}, no stokes, all depths, no land contact\"]\n",
    "    \n",
    "    temp_hist = temp_hist.compute(retries=40)\n",
    "    \n",
    "    temp_hist = temp_hist.transpose(\"distance_bin\", \"case\").to_pandas()\n",
    "    \n",
    "    temp_hist.to_csv(\n",
    "        f\"output_data/distance_hist_{current_species.replace(' ', '_')}_no_land_contact.csv\")\n",
    "\n",
    "    temp_hist.plot.bar(figsize=(15, 7));\n",
    "    \n",
    "    plt.gcf().savefig(f\"plots/distance_hist_{current_species.replace(' ', '_')}_no_land_contact.png\");\n",
    "    plt.gcf().savefig(f\"plots/distance_hist_{current_species.replace(' ', '_')}_no_land_contact.pdf\");"
   ]
  },
  {
   "cell_type": "code",
   "execution_count": 38,
   "metadata": {},
   "outputs": [
    {
     "name": "stdout",
     "output_type": "stream",
     "text": [
      "working on Striped red mullet\n",
      "working on White seabream\n",
      "working on Comber\n"
     ]
    },
    {
     "data": {
      "image/png": "[encoded data removed]",
      "text/plain": [
       "<Figure size 1080x504 with 1 Axes>"
      ]
     },
     "metadata": {},
     "output_type": "display_data"
    },
    {
     "data": {
      "image/png": "[encoded data removed]",
      "text/plain": [
       "<Figure size 1080x504 with 1 Axes>"
      ]
     },
     "metadata": {},
     "output_type": "display_data"
    },
    {
     "data": {
      "image/png": "[encoded data removed]",
      "text/plain": [
       "<Figure size 1080x504 with 1 Axes>"
      ]
     },
     "metadata": {},
     "output_type": "display_data"
    }
   ],
   "source": [
    "for current_species in species.keys():\n",
    "    print(f\"working on {current_species}\")\n",
    "    temp_hist = xr.concat(\n",
    "        [\n",
    "            restrict_hist(hist_stokes, k=0, current_species=current_species, sum_mpa=True),\n",
    "            restrict_hist(hist_nostokes, k=0, current_species=current_species, sum_mpa=True),\n",
    "            restrict_hist(hist_nostokes, k=range(1, 5), current_species=current_species, sum_mpa=True)\n",
    "\n",
    "        ], dim=\"case\"\n",
    "    )\n",
    "    \n",
    "    temp_hist.coords[\"case\"] = [\n",
    "        f\"{current_species}, stokes, surface, noslip\",\n",
    "        f\"{current_species}, no stokes, surface, noslip\",\n",
    "        f\"{current_species}, no stokes, all depths, noslip\"]\n",
    "    \n",
    "    temp_hist = temp_hist.compute(retries=40)\n",
    "    \n",
    "    temp_hist = temp_hist.transpose(\"distance_bin\", \"case\").to_pandas()\n",
    "    \n",
    "    temp_hist.to_csv(\n",
    "        f\"output_data/distance_hist_{current_species.replace(' ', '_')}_noslip.csv\")\n",
    "\n",
    "    temp_hist.plot.bar(figsize=(15, 7));\n",
    "    \n",
    "    plt.gcf().savefig(f\"plots/distance_hist_{current_species.replace(' ', '_')}_noslip.png\");\n",
    "    plt.gcf().savefig(f\"plots/distance_hist_{current_species.replace(' ', '_')}_noslip.pdf\");"
   ]
  },
  {
   "cell_type": "markdown",
   "metadata": {},
   "source": [
    "# Merge distance stats"
   ]
  },
  {
   "cell_type": "code",
   "execution_count": 41,
   "metadata": {},
   "outputs": [],
   "source": [
    "from pathlib import Path"
   ]
  },
  {
   "cell_type": "code",
   "execution_count": 43,
   "metadata": {},
   "outputs": [],
   "source": [
    "all_hists = pd.concat(\n",
    "    (\n",
    "        pd.read_csv(f, index_col=\"distance_bin\")\n",
    "        for f in sorted(Path(\"output_data\").glob(\"distance_hist_*_no*.csv\"))\n",
    "    ), axis=1\n",
    ")"
   ]
  },
  {
   "cell_type": "code",
   "execution_count": 44,
   "metadata": {},
   "outputs": [
    {
     "data": {
      "text/html": [
       "<div>\n",
       "<style scoped>\n",
       "    .dataframe tbody tr th:only-of-type {\n",
       "        vertical-align: middle;\n",
       "    }\n",
       "\n",
       "    .dataframe tbody tr th {\n",
       "        vertical-align: top;\n",
       "    }\n",
       "\n",
       "    .dataframe thead th {\n",
       "        text-align: right;\n",
       "    }\n",
       "</style>\n",
       "<table border=\"1\" class=\"dataframe\">\n",
       "  <thead>\n",
       "    <tr style=\"text-align: right;\">\n",
       "      <th></th>\n",
       "      <th>Comber, stokes, surface, no land contact</th>\n",
       "      <th>Comber, no stokes, surface, no land contact</th>\n",
       "      <th>Comber, no stokes, all depths, no land contact</th>\n",
       "      <th>Comber, stokes, surface, noslip</th>\n",
       "      <th>Comber, no stokes, surface, noslip</th>\n",
       "      <th>Comber, no stokes, all depths, noslip</th>\n",
       "      <th>Striped red mullet, stokes, surface, no land contact</th>\n",
       "      <th>Striped red mullet, no stokes, surface, no land contact</th>\n",
       "      <th>Striped red mullet, no stokes, all depths, no land contact</th>\n",
       "      <th>Striped red mullet, stokes, surface, noslip</th>\n",
       "      <th>Striped red mullet, no stokes, surface, noslip</th>\n",
       "      <th>Striped red mullet, no stokes, all depths, noslip</th>\n",
       "      <th>White seabream, stokes, surface, no land contact</th>\n",
       "      <th>White seabream, no stokes, surface, no land contact</th>\n",
       "      <th>White seabream, no stokes, all depths, no land contact</th>\n",
       "      <th>White seabream, stokes, surface, noslip</th>\n",
       "      <th>White seabream, no stokes, surface, noslip</th>\n",
       "      <th>White seabream, no stokes, all depths, noslip</th>\n",
       "    </tr>\n",
       "    <tr>\n",
       "      <th>distance_bin</th>\n",
       "      <th></th>\n",
       "      <th></th>\n",
       "      <th></th>\n",
       "      <th></th>\n",
       "      <th></th>\n",
       "      <th></th>\n",
       "      <th></th>\n",
       "      <th></th>\n",
       "      <th></th>\n",
       "      <th></th>\n",
       "      <th></th>\n",
       "      <th></th>\n",
       "      <th></th>\n",
       "      <th></th>\n",
       "      <th></th>\n",
       "      <th></th>\n",
       "      <th></th>\n",
       "      <th></th>\n",
       "    </tr>\n",
       "  </thead>\n",
       "  <tbody>\n",
       "    <tr>\n",
       "      <td>15.0</td>\n",
       "      <td>0.000000</td>\n",
       "      <td>0.000000</td>\n",
       "      <td>0.000036</td>\n",
       "      <td>0.219019</td>\n",
       "      <td>0.126302</td>\n",
       "      <td>0.109013</td>\n",
       "      <td>0.000000</td>\n",
       "      <td>0.000000</td>\n",
       "      <td>0.000000</td>\n",
       "      <td>0.212429</td>\n",
       "      <td>0.118360</td>\n",
       "      <td>0.103231</td>\n",
       "      <td>0.000000</td>\n",
       "      <td>0.000000</td>\n",
       "      <td>0.000000</td>\n",
       "      <td>0.214687</td>\n",
       "      <td>0.120694</td>\n",
       "      <td>0.104814</td>\n",
       "    </tr>\n",
       "    <tr>\n",
       "      <td>45.0</td>\n",
       "      <td>0.000000</td>\n",
       "      <td>0.000000</td>\n",
       "      <td>0.007315</td>\n",
       "      <td>0.136440</td>\n",
       "      <td>0.114435</td>\n",
       "      <td>0.112533</td>\n",
       "      <td>0.000000</td>\n",
       "      <td>0.000000</td>\n",
       "      <td>0.000983</td>\n",
       "      <td>0.134207</td>\n",
       "      <td>0.109846</td>\n",
       "      <td>0.101745</td>\n",
       "      <td>0.000000</td>\n",
       "      <td>0.000000</td>\n",
       "      <td>0.001337</td>\n",
       "      <td>0.134470</td>\n",
       "      <td>0.111119</td>\n",
       "      <td>0.104002</td>\n",
       "    </tr>\n",
       "    <tr>\n",
       "      <td>75.0</td>\n",
       "      <td>0.000012</td>\n",
       "      <td>0.015979</td>\n",
       "      <td>0.051201</td>\n",
       "      <td>0.075641</td>\n",
       "      <td>0.070127</td>\n",
       "      <td>0.084185</td>\n",
       "      <td>0.000000</td>\n",
       "      <td>0.000821</td>\n",
       "      <td>0.015626</td>\n",
       "      <td>0.073556</td>\n",
       "      <td>0.058973</td>\n",
       "      <td>0.063175</td>\n",
       "      <td>0.000000</td>\n",
       "      <td>0.000571</td>\n",
       "      <td>0.021699</td>\n",
       "      <td>0.073682</td>\n",
       "      <td>0.060449</td>\n",
       "      <td>0.067568</td>\n",
       "    </tr>\n",
       "    <tr>\n",
       "      <td>105.0</td>\n",
       "      <td>0.001527</td>\n",
       "      <td>0.053041</td>\n",
       "      <td>0.083499</td>\n",
       "      <td>0.051470</td>\n",
       "      <td>0.063567</td>\n",
       "      <td>0.079932</td>\n",
       "      <td>0.000006</td>\n",
       "      <td>0.022290</td>\n",
       "      <td>0.053606</td>\n",
       "      <td>0.049153</td>\n",
       "      <td>0.049499</td>\n",
       "      <td>0.059886</td>\n",
       "      <td>0.000004</td>\n",
       "      <td>0.034794</td>\n",
       "      <td>0.067120</td>\n",
       "      <td>0.049964</td>\n",
       "      <td>0.054231</td>\n",
       "      <td>0.067151</td>\n",
       "    </tr>\n",
       "    <tr>\n",
       "      <td>135.0</td>\n",
       "      <td>0.012832</td>\n",
       "      <td>0.051972</td>\n",
       "      <td>0.068577</td>\n",
       "      <td>0.039997</td>\n",
       "      <td>0.061092</td>\n",
       "      <td>0.071867</td>\n",
       "      <td>0.000695</td>\n",
       "      <td>0.042037</td>\n",
       "      <td>0.063422</td>\n",
       "      <td>0.035067</td>\n",
       "      <td>0.049540</td>\n",
       "      <td>0.064242</td>\n",
       "      <td>0.000950</td>\n",
       "      <td>0.046943</td>\n",
       "      <td>0.066953</td>\n",
       "      <td>0.035573</td>\n",
       "      <td>0.052477</td>\n",
       "      <td>0.069177</td>\n",
       "    </tr>\n",
       "  </tbody>\n",
       "</table>\n",
       "</div>"
      ],
      "text/plain": [
       "              Comber, stokes, surface, no land contact  \\\n",
       "distance_bin                                             \n",
       "15.0                                          0.000000   \n",
       "45.0                                          0.000000   \n",
       "75.0                                          0.000012   \n",
       "105.0                                         0.001527   \n",
       "135.0                                         0.012832   \n",
       "\n",
       "              Comber, no stokes, surface, no land contact  \\\n",
       "distance_bin                                                \n",
       "15.0                                             0.000000   \n",
       "45.0                                             0.000000   \n",
       "75.0                                             0.015979   \n",
       "105.0                                            0.053041   \n",
       "135.0                                            0.051972   \n",
       "\n",
       "              Comber, no stokes, all depths, no land contact  \\\n",
       "distance_bin                                                   \n",
       "15.0                                                0.000036   \n",
       "45.0                                                0.007315   \n",
       "75.0                                                0.051201   \n",
       "105.0                                               0.083499   \n",
       "135.0                                               0.068577   \n",
       "\n",
       "              Comber, stokes, surface, noslip  \\\n",
       "distance_bin                                    \n",
       "15.0                                 0.219019   \n",
       "45.0                                 0.136440   \n",
       "75.0                                 0.075641   \n",
       "105.0                                0.051470   \n",
       "135.0                                0.039997   \n",
       "\n",
       "              Comber, no stokes, surface, noslip  \\\n",
       "distance_bin                                       \n",
       "15.0                                    0.126302   \n",
       "45.0                                    0.114435   \n",
       "75.0                                    0.070127   \n",
       "105.0                                   0.063567   \n",
       "135.0                                   0.061092   \n",
       "\n",
       "              Comber, no stokes, all depths, noslip  \\\n",
       "distance_bin                                          \n",
       "15.0                                       0.109013   \n",
       "45.0                                       0.112533   \n",
       "75.0                                       0.084185   \n",
       "105.0                                      0.079932   \n",
       "135.0                                      0.071867   \n",
       "\n",
       "              Striped red mullet, stokes, surface, no land contact  \\\n",
       "distance_bin                                                         \n",
       "15.0                                                   0.000000      \n",
       "45.0                                                   0.000000      \n",
       "75.0                                                   0.000000      \n",
       "105.0                                                  0.000006      \n",
       "135.0                                                  0.000695      \n",
       "\n",
       "              Striped red mullet, no stokes, surface, no land contact  \\\n",
       "distance_bin                                                            \n",
       "15.0                                                   0.000000         \n",
       "45.0                                                   0.000000         \n",
       "75.0                                                   0.000821         \n",
       "105.0                                                  0.022290         \n",
       "135.0                                                  0.042037         \n",
       "\n",
       "              Striped red mullet, no stokes, all depths, no land contact  \\\n",
       "distance_bin                                                               \n",
       "15.0                                                   0.000000            \n",
       "45.0                                                   0.000983            \n",
       "75.0                                                   0.015626            \n",
       "105.0                                                  0.053606            \n",
       "135.0                                                  0.063422            \n",
       "\n",
       "              Striped red mullet, stokes, surface, noslip  \\\n",
       "distance_bin                                                \n",
       "15.0                                             0.212429   \n",
       "45.0                                             0.134207   \n",
       "75.0                                             0.073556   \n",
       "105.0                                            0.049153   \n",
       "135.0                                            0.035067   \n",
       "\n",
       "              Striped red mullet, no stokes, surface, noslip  \\\n",
       "distance_bin                                                   \n",
       "15.0                                                0.118360   \n",
       "45.0                                                0.109846   \n",
       "75.0                                                0.058973   \n",
       "105.0                                               0.049499   \n",
       "135.0                                               0.049540   \n",
       "\n",
       "              Striped red mullet, no stokes, all depths, noslip  \\\n",
       "distance_bin                                                      \n",
       "15.0                                                   0.103231   \n",
       "45.0                                                   0.101745   \n",
       "75.0                                                   0.063175   \n",
       "105.0                                                  0.059886   \n",
       "135.0                                                  0.064242   \n",
       "\n",
       "              White seabream, stokes, surface, no land contact  \\\n",
       "distance_bin                                                     \n",
       "15.0                                                  0.000000   \n",
       "45.0                                                  0.000000   \n",
       "75.0                                                  0.000000   \n",
       "105.0                                                 0.000004   \n",
       "135.0                                                 0.000950   \n",
       "\n",
       "              White seabream, no stokes, surface, no land contact  \\\n",
       "distance_bin                                                        \n",
       "15.0                                                   0.000000     \n",
       "45.0                                                   0.000000     \n",
       "75.0                                                   0.000571     \n",
       "105.0                                                  0.034794     \n",
       "135.0                                                  0.046943     \n",
       "\n",
       "              White seabream, no stokes, all depths, no land contact  \\\n",
       "distance_bin                                                           \n",
       "15.0                                                   0.000000        \n",
       "45.0                                                   0.001337        \n",
       "75.0                                                   0.021699        \n",
       "105.0                                                  0.067120        \n",
       "135.0                                                  0.066953        \n",
       "\n",
       "              White seabream, stokes, surface, noslip  \\\n",
       "distance_bin                                            \n",
       "15.0                                         0.214687   \n",
       "45.0                                         0.134470   \n",
       "75.0                                         0.073682   \n",
       "105.0                                        0.049964   \n",
       "135.0                                        0.035573   \n",
       "\n",
       "              White seabream, no stokes, surface, noslip  \\\n",
       "distance_bin                                               \n",
       "15.0                                            0.120694   \n",
       "45.0                                            0.111119   \n",
       "75.0                                            0.060449   \n",
       "105.0                                           0.054231   \n",
       "135.0                                           0.052477   \n",
       "\n",
       "              White seabream, no stokes, all depths, noslip  \n",
       "distance_bin                                                 \n",
       "15.0                                               0.104814  \n",
       "45.0                                               0.104002  \n",
       "75.0                                               0.067568  \n",
       "105.0                                              0.067151  \n",
       "135.0                                              0.069177  "
      ]
     },
     "execution_count": 44,
     "metadata": {},
     "output_type": "execute_result"
    }
   ],
   "source": [
    "all_hists.head(5)"
   ]
  },
  {
   "cell_type": "code",
   "execution_count": 45,
   "metadata": {},
   "outputs": [],
   "source": [
    "all_hists.to_csv(\"output_data/distance_hist_all.csv\")"
   ]
  },
  {
   "cell_type": "markdown",
   "metadata": {},
   "source": [
    "# Technical documentation\n",
    "\n",
    "Lists the whole working environment."
   ]
  },
  {
   "cell_type": "code",
   "execution_count": 46,
   "metadata": {},
   "outputs": [
    {
     "name": "stdout",
     "output_type": "stream",
     "text": [
      "/usr/bin/sh: module: line 1: syntax error: unexpected end of file\n",
      "/usr/bin/sh: error importing function definition for `BASH_FUNC_module'\n",
      "/usr/bin/sh: switchml: line 1: syntax error: unexpected end of file\n",
      "/usr/bin/sh: error importing function definition for `BASH_FUNC_switchml'\n",
      "/usr/bin/sh: _moduleraw: line 1: syntax error: unexpected end of file\n",
      "/usr/bin/sh: error importing function definition for `BASH_FUNC__moduleraw'\n",
      "Note: you may need to restart the kernel to use updated packages.\n"
     ]
    }
   ],
   "source": [
    "%pip list"
   ]
  },
  {
   "cell_type": "code",
   "execution_count": 48,
   "metadata": {},
   "outputs": [
    {
     "name": "stdout",
     "output_type": "stream",
     "text": [
      "/usr/bin/sh: module: line 1: syntax error: unexpected end of file\n",
      "/usr/bin/sh: error importing function definition for `BASH_FUNC_module'\n",
      "/usr/bin/sh: switchml: line 1: syntax error: unexpected end of file\n",
      "/usr/bin/sh: error importing function definition for `BASH_FUNC_switchml'\n",
      "/usr/bin/sh: _moduleraw: line 1: syntax error: unexpected end of file\n",
      "/usr/bin/sh: error importing function definition for `BASH_FUNC__moduleraw'\n",
      "# This file may be used to create an environment using:\n",
      "# $ conda create --name <env> --file <this file>\n",
      "# platform: linux-64\n",
      "@EXPLICIT\n",
      "https://repo.anaconda.com/pkgs/main/linux-64/_libgcc_mutex-0.1-main.conda\n",
      "https://conda.anaconda.org/conda-forge/linux-64/ca-certificates-2019.9.11-hecc5488_0.tar.bz2\n",
      "https://repo.anaconda.com/pkgs/main/linux-64/libgfortran-ng-7.3.0-hdf63c60_0.conda\n",
      "https://repo.anaconda.com/pkgs/main/linux-64/libstdcxx-ng-9.1.0-hdf63c60_0.conda\n",
      "https://repo.anaconda.com/pkgs/main/linux-64/libgcc-ng-9.1.0-hdf63c60_0.conda\n",
      "https://conda.anaconda.org/conda-forge/linux-64/bzip2-1.0.8-h516909a_1.tar.bz2\n",
      "https://conda.anaconda.org/conda-forge/linux-64/expat-2.2.5-he1b5a44_1003.tar.bz2\n",
      "https://conda.anaconda.org/conda-forge/linux-64/geos-3.7.2-he1b5a44_2.tar.bz2\n",
      "https://conda.anaconda.org/conda-forge/linux-64/icu-64.2-he1b5a44_1.tar.bz2\n",
      "https://conda.anaconda.org/conda-forge/linux-64/jpeg-9c-h14c3975_1001.tar.bz2\n",
      "https://conda.anaconda.org/conda-forge/linux-64/libffi-3.2.1-he1b5a44_1006.tar.bz2\n",
      "https://conda.anaconda.org/conda-forge/linux-64/libiconv-1.15-h516909a_1005.tar.bz2\n",
      "https://conda.anaconda.org/conda-forge/linux-64/libllvm9-9.0.0-hc9558a2_2.tar.bz2\n",
      "https://conda.anaconda.org/conda-forge/linux-64/libopenblas-0.3.7-h6e990d7_1.tar.bz2\n",
      "https://conda.anaconda.org/conda-forge/linux-64/libsodium-1.0.17-h516909a_0.tar.bz2\n",
      "https://conda.anaconda.org/conda-forge/linux-64/libuuid-2.32.1-h14c3975_1000.tar.bz2\n",
      "https://conda.anaconda.org/conda-forge/linux-64/libxkbcommon-0.8.4-h516909a_0.tar.bz2\n",
      "https://conda.anaconda.org/conda-forge/linux-64/lz4-c-1.8.3-he1b5a44_1001.tar.bz2\n",
      "https://conda.anaconda.org/conda-forge/linux-64/ncurses-6.1-hf484d3e_1002.tar.bz2\n",
      "https://conda.anaconda.org/conda-forge/linux-64/nspr-4.20-hf484d3e_1000.tar.bz2\n",
      "https://conda.anaconda.org/conda-forge/linux-64/openssl-1.1.1c-h516909a_0.tar.bz2\n",
      "https://conda.anaconda.org/conda-forge/linux-64/pcre-8.41-hf484d3e_1003.tar.bz2\n",
      "https://conda.anaconda.org/conda-forge/linux-64/proj4-5.2.0-he1b5a44_1006.tar.bz2\n",
      "https://conda.anaconda.org/conda-forge/linux-64/pthread-stubs-0.4-h14c3975_1001.tar.bz2\n",
      "https://conda.anaconda.org/conda-forge/linux-64/xorg-libxau-1.0.9-h14c3975_0.tar.bz2\n",
      "https://conda.anaconda.org/conda-forge/linux-64/xorg-libxdmcp-1.1.3-h516909a_0.tar.bz2\n",
      "https://conda.anaconda.org/conda-forge/linux-64/xz-5.2.4-h14c3975_1001.tar.bz2\n",
      "https://conda.anaconda.org/conda-forge/linux-64/yaml-0.1.7-h14c3975_1001.tar.bz2\n",
      "https://conda.anaconda.org/conda-forge/linux-64/zlib-1.2.11-h516909a_1006.tar.bz2\n",
      "https://conda.anaconda.org/conda-forge/linux-64/gettext-0.19.8.1-hc5be6a0_1002.tar.bz2\n",
      "https://conda.anaconda.org/conda-forge/linux-64/hdf4-4.2.13-h9a582f1_1002.tar.bz2\n",
      "https://conda.anaconda.org/conda-forge/linux-64/hdf5-1.10.5-nompi_h3c11f04_1103.tar.bz2\n",
      "https://conda.anaconda.org/conda-forge/linux-64/libblas-3.8.0-13_openblas.tar.bz2\n",
      "https://conda.anaconda.org/conda-forge/linux-64/libclang-9.0.0-hc9558a2_1.tar.bz2\n",
      "https://conda.anaconda.org/conda-forge/linux-64/libedit-3.1.20170329-hf8c457e_1001.tar.bz2\n",
      "https://conda.anaconda.org/conda-forge/linux-64/libpng-1.6.37-hed695b0_0.tar.bz2\n",
      "https://conda.anaconda.org/conda-forge/linux-64/libssh2-1.8.2-h22169c7_2.tar.bz2\n",
      "https://conda.anaconda.org/conda-forge/linux-64/libxcb-1.13-h14c3975_1002.tar.bz2\n",
      "https://conda.anaconda.org/conda-forge/linux-64/libxml2-2.9.9-hee79883_5.tar.bz2\n",
      "https://conda.anaconda.org/conda-forge/linux-64/readline-8.0-hf8c457e_0.tar.bz2\n",
      "https://conda.anaconda.org/conda-forge/linux-64/tk-8.6.9-hed695b0_1003.tar.bz2\n",
      "https://conda.anaconda.org/conda-forge/linux-64/zeromq-4.3.2-he1b5a44_2.tar.bz2\n",
      "https://conda.anaconda.org/conda-forge/linux-64/zstd-1.4.0-h3b9ef0a_0.tar.bz2\n",
      "https://conda.anaconda.org/conda-forge/linux-64/freetype-2.10.0-he983fc9_1.tar.bz2\n",
      "https://conda.anaconda.org/conda-forge/linux-64/glib-2.58.3-h6f030ca_1002.tar.bz2\n",
      "https://conda.anaconda.org/conda-forge/linux-64/krb5-1.16.3-h05b26f9_1001.tar.bz2\n",
      "https://conda.anaconda.org/conda-forge/linux-64/libcblas-3.8.0-13_openblas.tar.bz2\n",
      "https://conda.anaconda.org/conda-forge/linux-64/liblapack-3.8.0-13_openblas.tar.bz2\n",
      "https://conda.anaconda.org/conda-forge/linux-64/libtiff-4.0.10-h57b8799_1003.tar.bz2\n",
      "https://conda.anaconda.org/conda-forge/linux-64/sqlite-3.30.0-hcee41ef_0.tar.bz2\n",
      "https://conda.anaconda.org/conda-forge/linux-64/dbus-1.13.6-he372182_0.tar.bz2\n",
      "https://conda.anaconda.org/conda-forge/linux-64/fontconfig-2.13.1-h86ecdb6_1001.tar.bz2\n",
      "https://conda.anaconda.org/conda-forge/linux-64/gstreamer-1.14.5-h36ae1b5_0.tar.bz2\n",
      "https://conda.anaconda.org/conda-forge/linux-64/libcurl-7.65.3-hda55be3_0.tar.bz2\n",
      "https://conda.anaconda.org/conda-forge/linux-64/nss-3.46-he751ad9_0.tar.bz2\n",
      "https://conda.anaconda.org/conda-forge/linux-64/python-3.7.3-h33d41f4_1.tar.bz2\n",
      "https://conda.anaconda.org/conda-forge/noarch/asciitree-0.3.3-py_2.tar.bz2\n",
      "https://conda.anaconda.org/conda-forge/linux-64/asn1crypto-1.0.1-py37_0.tar.bz2\n",
      "https://conda.anaconda.org/conda-forge/noarch/backcall-0.1.0-py_0.tar.bz2\n",
      "https://conda.anaconda.org/conda-forge/linux-64/certifi-2019.9.11-py37_0.tar.bz2\n",
      "https://conda.anaconda.org/conda-forge/linux-64/chardet-3.0.4-py37_1003.tar.bz2\n",
      "https://conda.anaconda.org/conda-forge/noarch/click-7.0-py_0.tar.bz2\n",
      "https://conda.anaconda.org/conda-forge/noarch/cloudpickle-1.2.2-py_0.tar.bz2\n",
      "https://conda.anaconda.org/conda-forge/linux-64/curl-7.65.3-hf8cf82a_0.tar.bz2\n",
      "https://conda.anaconda.org/conda-forge/noarch/dask-core-2.5.2-py_0.tar.bz2\n",
      "https://conda.anaconda.org/conda-forge/noarch/decorator-4.4.0-py_0.tar.bz2\n",
      "https://conda.anaconda.org/conda-forge/noarch/fsspec-0.5.2-py_0.tar.bz2\n",
      "https://conda.anaconda.org/conda-forge/linux-64/gst-plugins-base-1.14.5-h0935bb2_0.tar.bz2\n",
      "https://conda.anaconda.org/conda-forge/noarch/heapdict-1.0.1-py_0.tar.bz2\n",
      "https://conda.anaconda.org/conda-forge/linux-64/idna-2.8-py37_1000.tar.bz2\n",
      "https://conda.anaconda.org/conda-forge/noarch/ipython_genutils-0.2.0-py_1.tar.bz2\n",
      "https://conda.anaconda.org/conda-forge/linux-64/kiwisolver-1.1.0-py37hc9558a2_0.tar.bz2\n",
      "https://conda.anaconda.org/conda-forge/linux-64/llvmlite-0.29.0-py37hfd453ef_1.tar.bz2\n",
      "https://conda.anaconda.org/conda-forge/noarch/locket-0.2.0-py_2.tar.bz2\n",
      "https://conda.anaconda.org/conda-forge/linux-64/markupsafe-1.1.1-py37h14c3975_0.tar.bz2\n",
      "https://conda.anaconda.org/conda-forge/noarch/monotonic-1.5-py_0.tar.bz2\n",
      "https://conda.anaconda.org/conda-forge/linux-64/msgpack-python-0.6.2-py37hc9558a2_0.tar.bz2\n",
      "https://conda.anaconda.org/conda-forge/linux-64/numpy-1.17.2-py37h95a1406_0.tar.bz2\n",
      "https://conda.anaconda.org/conda-forge/noarch/olefile-0.46-py_0.tar.bz2\n",
      "https://conda.anaconda.org/conda-forge/noarch/parso-0.5.1-py_0.tar.bz2\n",
      "https://conda.anaconda.org/conda-forge/linux-64/pickleshare-0.7.5-py37_1000.tar.bz2\n",
      "https://conda.anaconda.org/conda-forge/linux-64/psutil-5.6.3-py37h516909a_0.tar.bz2\n",
      "https://conda.anaconda.org/conda-forge/noarch/ptyprocess-0.6.0-py_1001.tar.bz2\n",
      "https://conda.anaconda.org/conda-forge/linux-64/pycparser-2.19-py37_1.tar.bz2\n",
      "https://conda.anaconda.org/conda-forge/noarch/pyparsing-2.4.2-py_0.tar.bz2\n",
      "https://conda.anaconda.org/conda-forge/noarch/pyshp-2.1.0-py_0.tar.bz2\n",
      "https://conda.anaconda.org/conda-forge/linux-64/pysocks-1.7.1-py37_0.tar.bz2\n",
      "https://conda.anaconda.org/conda-forge/noarch/pytz-2019.3-py_0.tar.bz2\n",
      "https://conda.anaconda.org/conda-forge/linux-64/pyyaml-5.1.2-py37h516909a_0.tar.bz2\n",
      "https://conda.anaconda.org/conda-forge/linux-64/pyzmq-18.1.0-py37h1768529_0.tar.bz2\n",
      "https://repo.anaconda.com/pkgs/main/linux-64/sip-4.19.8-py37hf484d3e_0.conda\n",
      "https://conda.anaconda.org/conda-forge/linux-64/six-1.12.0-py37_1000.tar.bz2\n",
      "https://conda.anaconda.org/conda-forge/noarch/sortedcontainers-2.1.0-py_0.tar.bz2\n",
      "https://conda.anaconda.org/conda-forge/noarch/tblib-1.4.0-py_0.tar.bz2\n",
      "https://conda.anaconda.org/conda-forge/noarch/toolz-0.10.0-py_0.tar.bz2\n",
      "https://conda.anaconda.org/conda-forge/linux-64/tornado-6.0.3-py37h516909a_0.tar.bz2\n",
      "https://conda.anaconda.org/conda-forge/noarch/wcwidth-0.1.7-py_1.tar.bz2\n",
      "https://conda.anaconda.org/conda-forge/linux-64/cffi-1.12.3-py37h8022711_0.tar.bz2\n",
      "https://conda.anaconda.org/conda-forge/linux-64/cftime-1.0.3.4-py37hd352d35_1001.tar.bz2\n",
      "https://conda.anaconda.org/conda-forge/noarch/colorspacious-1.1.2-pyh24bf2e0_0.tar.bz2\n",
      "https://conda.anaconda.org/conda-forge/noarch/cycler-0.10.0-py_1.tar.bz2\n",
      "https://conda.anaconda.org/conda-forge/linux-64/cytoolz-0.10.0-py37h516909a_0.tar.bz2\n",
      "https://conda.anaconda.org/conda-forge/noarch/docrep-0.2.7-py_0.tar.bz2\n",
      "https://conda.anaconda.org/conda-forge/noarch/fasteners-0.14.1-py_3.tar.bz2\n",
      "https://conda.anaconda.org/conda-forge/linux-64/jedi-0.15.1-py37_0.tar.bz2\n",
      "https://conda.anaconda.org/conda-forge/linux-64/libnetcdf-4.6.2-h303dfb8_1003.tar.bz2\n",
      "https://conda.anaconda.org/conda-forge/linux-64/numba-0.45.1-py37hb3f55d8_0.tar.bz2\n",
      "https://conda.anaconda.org/conda-forge/linux-64/numcodecs-0.6.3-py37hf484d3e_0.tar.bz2\n",
      "https://conda.anaconda.org/conda-forge/noarch/packaging-19.2-py_0.tar.bz2\n",
      "https://conda.anaconda.org/conda-forge/noarch/partd-1.0.0-py_0.tar.bz2\n",
      "https://conda.anaconda.org/conda-forge/linux-64/pexpect-4.7.0-py37_0.tar.bz2\n",
      "https://conda.anaconda.org/conda-forge/linux-64/pillow-6.2.0-py37h6b7be26_0.tar.bz2\n",
      "https://conda.anaconda.org/conda-forge/linux-64/pykdtree-1.3.1-py37h3010b51_1002.tar.bz2\n",
      "https://repo.anaconda.com/pkgs/main/linux-64/pyproj-1.9.6-py37h14380d9_0.conda\n",
      "https://conda.anaconda.org/conda-forge/noarch/python-dateutil-2.8.0-py_0.tar.bz2\n",
      "https://conda.anaconda.org/conda-forge/linux-64/qt-5.9.7-h0c104cb_3.tar.bz2\n",
      "https://conda.anaconda.org/conda-forge/linux-64/scipy-1.3.1-py37h921218d_2.tar.bz2\n",
      "https://conda.anaconda.org/conda-forge/linux-64/setuptools-41.4.0-py37_0.tar.bz2\n",
      "https://conda.anaconda.org/conda-forge/linux-64/shapely-1.6.4-py37hec07ddf_1006.tar.bz2\n",
      "https://conda.anaconda.org/conda-forge/linux-64/traitlets-4.3.3-py37_0.tar.bz2\n",
      "https://conda.anaconda.org/conda-forge/noarch/zict-1.0.0-py_0.tar.bz2\n",
      "https://conda.anaconda.org/conda-forge/linux-64/cryptography-2.7-py37h72c5cf5_0.tar.bz2\n",
      "https://conda.anaconda.org/conda-forge/noarch/distributed-2.5.2-py_0.tar.bz2\n",
      "https://conda.anaconda.org/conda-forge/noarch/jinja2-2.10.3-py_0.tar.bz2\n",
      "https://conda.anaconda.org/conda-forge/noarch/jupyter_core-4.5.0-py_0.tar.bz2\n",
      "https://conda.anaconda.org/conda-forge/linux-64/matplotlib-base-2.2.4-py37h250f245_1.tar.bz2\n",
      "https://conda.anaconda.org/conda-forge/linux-64/netcdf4-1.5.1.2-py37h73a1b54_1.tar.bz2\n",
      "https://conda.anaconda.org/conda-forge/linux-64/pandas-0.25.1-py37hb3f55d8_0.tar.bz2\n",
      "https://conda.anaconda.org/conda-forge/noarch/patsy-0.5.1-py_0.tar.bz2\n",
      "https://conda.anaconda.org/conda-forge/noarch/pygments-2.4.2-py_0.tar.bz2\n",
      "https://conda.anaconda.org/conda-forge/linux-64/pyqt-5.9.2-py37hcca6a23_4.tar.bz2\n",
      "https://conda.anaconda.org/conda-forge/linux-64/wheel-0.33.6-py37_0.tar.bz2\n",
      "https://conda.anaconda.org/conda-forge/linux-64/zarr-2.3.2-py37_0.tar.bz2\n",
      "https://conda.anaconda.org/conda-forge/linux-64/bokeh-1.3.4-py37_0.tar.bz2\n",
      "https://conda.anaconda.org/conda-forge/linux-64/jupyter_client-5.3.3-py37_1.tar.bz2\n",
      "https://conda.anaconda.org/conda-forge/linux-64/matplotlib-2.2.4-py37_1.tar.bz2\n",
      "https://conda.anaconda.org/conda-forge/linux-64/pip-19.2.3-py37_0.tar.bz2\n",
      "https://conda.anaconda.org/conda-forge/noarch/prompt_toolkit-2.0.10-py_0.tar.bz2\n",
      "https://conda.anaconda.org/conda-forge/linux-64/pyopenssl-19.0.0-py37_0.tar.bz2\n",
      "https://conda.anaconda.org/conda-forge/linux-64/statsmodels-0.10.1-py37hc1659b7_0.tar.bz2\n",
      "https://conda.anaconda.org/conda-forge/noarch/xarray-0.13.0-py_0.tar.bz2\n",
      "https://conda.anaconda.org/conda-forge/noarch/dask-2.5.2-py_0.tar.bz2\n",
      "https://conda.anaconda.org/conda-forge/linux-64/ipython-7.8.0-py37h5ca1d4c_0.tar.bz2\n",
      "https://conda.anaconda.org/conda-forge/noarch/nc-time-axis-1.2.0-py_0.tar.bz2\n",
      "https://conda.anaconda.org/conda-forge/noarch/seaborn-0.9.0-py_1.tar.bz2\n",
      "https://conda.anaconda.org/conda-forge/linux-64/urllib3-1.25.6-py37_0.tar.bz2\n",
      "https://conda.anaconda.org/conda-forge/noarch/viscm-0.7-pyh24bf2e0_0.tar.bz2\n",
      "https://conda.anaconda.org/conda-forge/noarch/cmocean-2.0-py_1.tar.bz2\n",
      "https://conda.anaconda.org/conda-forge/noarch/dask-jobqueue-0.6.3-py_0.tar.bz2\n",
      "https://conda.anaconda.org/conda-forge/linux-64/ipykernel-5.1.2-py37h5ca1d4c_0.tar.bz2\n",
      "https://conda.anaconda.org/conda-forge/linux-64/requests-2.22.0-py37_1.tar.bz2\n",
      "https://conda.anaconda.org/conda-forge/noarch/xhistogram-0.1.1-py_0.tar.bz2\n",
      "https://conda.anaconda.org/conda-forge/noarch/owslib-0.18.0-py_0.tar.bz2\n",
      "https://conda.anaconda.org/conda-forge/noarch/pyepsg-0.4.0-py_0.tar.bz2\n",
      "https://conda.anaconda.org/conda-forge/linux-64/cartopy-0.17.0-py37hd759880_1006.tar.bz2\n",
      "\n",
      "Note: you may need to restart the kernel to use updated packages.\n"
     ]
    }
   ],
   "source": [
    "%conda list --explicit"
   ]
  }
 ],
 "metadata": {
  "kernelspec": {
   "display_name": "Python [conda env:py3_medseaconn]",
   "language": "python",
   "name": "conda-env-py3_medseaconn-py"
  },
  "language_info": {
   "codemirror_mode": {
    "name": "ipython",
    "version": 3
   },
   "file_extension": ".py",
   "mimetype": "text/x-python",
   "name": "python",
   "nbconvert_exporter": "python",
   "pygments_lexer": "ipython3",
   "version": "3.7.3"
  }
 },
 "nbformat": 4,
 "nbformat_minor": 4
}

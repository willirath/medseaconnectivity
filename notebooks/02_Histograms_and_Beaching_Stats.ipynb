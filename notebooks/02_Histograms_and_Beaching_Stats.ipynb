{
 "cells": [
  {
   "cell_type": "code",
   "execution_count": null,
   "metadata": {},
   "outputs": [],
   "source": [
    "# parameters\n",
    "dataset_version = \"v2019.09.11.2\"\n",
    "bucket_stokes = f\"pangeo-parcels/med_sea_connectivity_{dataset_version}/traj_data_with_stokes.zarr\"\n",
    "bucket_nostokes = f\"pangeo-parcels/med_sea_connectivity_{dataset_version}/traj_data_without_stokes.zarr\"\n",
    "\n",
    "filter_warnings = \"ignore\"  # No warnings will bother you.  Change for debugging."
   ]
  },
  {
   "cell_type": "markdown",
   "metadata": {},
   "source": [
    "## Load all modules and spin up a Dask cluster"
   ]
  },
  {
   "cell_type": "code",
   "execution_count": null,
   "metadata": {},
   "outputs": [],
   "source": [
    "%matplotlib inline\n",
    "from dask import array as da\n",
    "import numpy as np\n",
    "import xarray as xr\n",
    "from gcsfs.mapping import GCSMap\n",
    "from xhistogram.xarray import histogram as xhist\n",
    "from matplotlib import pyplot as plt\n",
    "import pandas as pd\n",
    "from dask import delayed"
   ]
  },
  {
   "cell_type": "code",
   "execution_count": null,
   "metadata": {},
   "outputs": [],
   "source": [
    "import warnings\n",
    "warnings.filterwarnings(filter_warnings)"
   ]
  },
  {
   "cell_type": "code",
   "execution_count": null,
   "metadata": {},
   "outputs": [],
   "source": [
    "from dask.distributed import Client, progress\n",
    "\n",
    "from dask_kubernetes import KubeCluster\n",
    "cluster = KubeCluster(n_workers=8)\n",
    "cluster.adapt(minimum=8, maximum=60, wait_count=15)\n",
    "\n",
    "client = Client(cluster)\n",
    "client"
   ]
  },
  {
   "cell_type": "code",
   "execution_count": null,
   "metadata": {},
   "outputs": [],
   "source": [
    "import cloudpickle"
   ]
  },
  {
   "cell_type": "code",
   "execution_count": null,
   "metadata": {},
   "outputs": [],
   "source": [
    "with open(\"intermediate_data/all_traj_dataframe.pickle\", mode=\"rb\") as f:\n",
    "    data = cloudpickle.load(f)"
   ]
  },
  {
   "cell_type": "code",
   "execution_count": null,
   "metadata": {},
   "outputs": [],
   "source": [
    "data"
   ]
  },
  {
   "cell_type": "code",
   "execution_count": null,
   "metadata": {},
   "outputs": [],
   "source": [
    "fig, ax = plt.subplots(9, 3, sharex=True, sharey=True, figsize=(18, 54))\n",
    "print(ax.shape)\n",
    "\n",
    "for MPA in range(1, 10):\n",
    "    \n",
    "    xr.ufuncs.log10(\n",
    "        xhist(\n",
    "            data.loc[True, MPA, 0][\"thinned_data_005_percent\"].distance.persist(retries=40),\n",
    "            bins=[np.linspace(0, 1200, 41), ],\n",
    "            dim=[\"traj\", ]).compute(retries=40)\n",
    "    ).plot(ax=ax[MPA-1, 0], x=\"obs\", y=\"distance_bin\")\n",
    "    \n",
    "    ax[MPA-1, 0].set_title(f\"MPA {MPA}, with stokes, surface\")\n",
    "    \n",
    "    xr.ufuncs.log10(\n",
    "        xhist(\n",
    "            data.loc[False, MPA, 0][\"thinned_data_005_percent\"].distance.persist(retries=40),\n",
    "            bins=[np.linspace(0, 1200, 41), ],\n",
    "            dim=[\"traj\", ]).compute(retries=40)\n",
    "    ).plot(ax=ax[MPA-1, 1], x=\"obs\", y=\"distance_bin\")\n",
    "    \n",
    "    ax[MPA-1, 1].set_title(f\"MPA {MPA}, without stokes, surface\")\n",
    "    \n",
    "    xr.ufuncs.log10(\n",
    "        xhist(\n",
    "            data.loc[False, MPA, -1][\"thinned_data_005_percent\"].distance.persist(retries=40),\n",
    "            bins=[np.linspace(0, 1200, 41), ],\n",
    "            dim=[\"traj\", ]).compute(retries=40)\n",
    "    ).plot(ax=ax[MPA-1, 2], x=\"obs\", y=\"distance_bin\")\n",
    "    \n",
    "    ax[MPA-1, 2].set_title(f\"MPA {MPA}, without stokes, all depths\")"
   ]
  },
  {
   "cell_type": "code",
   "execution_count": null,
   "metadata": {},
   "outputs": [],
   "source": [
    "fig, ax = plt.subplots(3, 3, sharex=False, sharey=False, figsize=(15, 15))\n",
    "ax = ax.flatten()\n",
    "\n",
    "for MPA in range(1, 10):\n",
    "    (data.loc[False, MPA, 0][\"thinned_data_005_percent\"].distance.isnull().mean(\"traj\") * 100).compute(retries=40).plot(ax=ax[MPA-1], label=\"without stokes\");\n",
    "    (data.loc[True, MPA, 0][\"thinned_data_005_percent\"].distance.isnull().mean(\"traj\") * 100).compute(retries=40).plot(ax=ax[MPA-1], label=\"with stokes\");\n",
    "    \n",
    "    ax[MPA-1].set_title(f\"MPA {MPA}\")\n",
    "    ax[MPA-1].set_xlabel(\"time / hours\")\n",
    "    ax[MPA-1].set_ylabel(\"percent beached so far\")\n",
    "    ax[MPA-1].legend(loc=0, ncol=1);\n",
    "\n",
    "fig.tight_layout();"
   ]
  }
 ],
 "metadata": {
  "kernelspec": {
   "display_name": "Python 3",
   "language": "python",
   "name": "python3"
  },
  "language_info": {
   "codemirror_mode": {
    "name": "ipython",
    "version": 3
   },
   "file_extension": ".py",
   "mimetype": "text/x-python",
   "name": "python",
   "nbconvert_exporter": "python",
   "pygments_lexer": "ipython3",
   "version": "3.7.3"
  }
 },
 "nbformat": 4,
 "nbformat_minor": 4
}
